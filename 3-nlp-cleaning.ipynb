{
 "cells": [
  {
   "cell_type": "markdown",
   "id": "05a3a7e8-9c80-4325-a071-acc599fe52ea",
   "metadata": {},
   "source": [
    "# 3. Natural language processing for categorizing the extracted data"
   ]
  },
  {
   "cell_type": "markdown",
   "id": "5fe5b114-72f7-45a6-ad91-a36e9deb88ab",
   "metadata": {},
   "source": [
    "## Purpose, contents, & conclusions"
   ]
  },
  {
   "cell_type": "markdown",
   "id": "986e13a6-7da4-47b7-9274-45af02c60e0f",
   "metadata": {},
   "source": [
    "**Purpose:** This notebook uses natural language processing to further clean the tabulated PDF data by grouping smells and flavors into broad categories. Each molecule is then assigned to one or more categories based on the reference books' descriptions."
   ]
  },
  {
   "cell_type": "markdown",
   "id": "02ecdc0d-98ca-4aa5-af78-c4db415e3d13",
   "metadata": {},
   "source": [
    "**Contents:** The notebook contains:\n",
    "* Basic natural language processing to clean, stem, and extract words potentially describing flavors or aromas (`flavor_neighbor_words` and `aroma_neighbor_words`, respectively) based on their proximity to indicator words like \"scent\" or \"flavor\".\n",
    "* Broad categories and subcategories of flavors and smells are created, such as \"floral\" or \"vegetal\".\n",
    "* Once stemmed, the potential flavor & aroma descriptors are assigned to or more categories / subcategories. For example, \"rosy\" is assigned to the category \"floral\" to create a translation dictionary or lexicon relevant to these reference books.\n",
    "* Aroma and flavor categories are assigned for each molecule based on the parsed reference book descriptions. For example, the aroma of *Ε-Decalactone* (CAS number 5579-78-2) is assigned to the categories \"starchy\" and \"dairy\"."
   ]
  },
  {
   "cell_type": "markdown",
   "id": "98f2631e-828a-441d-8308-dc34362deef4",
   "metadata": {},
   "source": [
    "**Conclusions:** Key outputs are:\n",
    "* `lexicon.csv`: A set of the 29 categories / subcategories used to describe both the flavor and the aroma of molecules in this data set.\n",
    "* `stems-to-lexicon.csv`: A translation dictionary assigning stemmed descriptor words to one or more (sub) categories in the lexicon.\n",
    "* The `categorized-descriptors` table is added to the `aromas-flavors.db` SQLite database. Each row is one molecule. The included data fields are a molecule's `name`, its unique `CAS_num` identifier, a list of categories describing its `aroma`, and a list of categories describing its `flavor`.\n",
    "* The same data from the bullet point above is also exported to a tab-delimited CSV, `aromas-flavors-categorized.csv`."
   ]
  },
  {
   "cell_type": "markdown",
   "id": "c2efe9d3-790f-4b5c-9011-d833dbdb690c",
   "metadata": {},
   "source": [
    "## Explore a small subset of the data"
   ]
  },
  {
   "cell_type": "markdown",
   "id": "edd826d1-ad13-4440-b041-c01b4bf70aad",
   "metadata": {},
   "source": [
    "The ultimate goal here is to extract words describing flavors and aromas from the full text of the description for each chemical. But how will that work? In this section, I will use a small subset of the data to explore some ideas. I'm limiting to only the first 100 entries because repeatedly iterating over the whole dataset while I am not sure what will work well would be slow and computationally expensive."
   ]
  },
  {
   "cell_type": "markdown",
   "id": "e0a98bba-0c98-4707-9e8e-0e58f356f09a",
   "metadata": {
    "tags": []
   },
   "source": [
    "### Import a subset of the data"
   ]
  },
  {
   "cell_type": "code",
   "execution_count": 1,
   "id": "f3956236-f949-461c-9e10-7f5619e7020c",
   "metadata": {},
   "outputs": [],
   "source": [
    "from sqlalchemy import create_engine\n",
    "import pandas as pd"
   ]
  },
  {
   "cell_type": "code",
   "execution_count": 2,
   "id": "f9cb739a-892c-40d7-80e6-105d3c11f915",
   "metadata": {},
   "outputs": [],
   "source": [
    "query = \"SELECT name, CAS_num, full_description FROM fenaroli LIMIT 100\""
   ]
  },
  {
   "cell_type": "code",
   "execution_count": 3,
   "id": "977dea73-aa6b-4548-9f70-0dc512729c61",
   "metadata": {},
   "outputs": [],
   "source": [
    "with create_engine(\"sqlite:///aromas-flavors.db\").connect() as db:\n",
    "    molecules100 = pd.read_sql(query, db)"
   ]
  },
  {
   "cell_type": "code",
   "execution_count": 4,
   "id": "6fcfa501-1b80-4dab-9f28-c8b61d005c8a",
   "metadata": {
    "tags": []
   },
   "outputs": [
    {
     "data": {
      "text/html": [
       "<div>\n",
       "<style scoped>\n",
       "    .dataframe tbody tr th:only-of-type {\n",
       "        vertical-align: middle;\n",
       "    }\n",
       "\n",
       "    .dataframe tbody tr th {\n",
       "        vertical-align: top;\n",
       "    }\n",
       "\n",
       "    .dataframe thead th {\n",
       "        text-align: right;\n",
       "    }\n",
       "</style>\n",
       "<table border=\"1\" class=\"dataframe\">\n",
       "  <thead>\n",
       "    <tr style=\"text-align: right;\">\n",
       "      <th></th>\n",
       "      <th>name</th>\n",
       "      <th>CAS_num</th>\n",
       "      <th>full_description</th>\n",
       "    </tr>\n",
       "  </thead>\n",
       "  <tbody>\n",
       "    <tr>\n",
       "      <th>0</th>\n",
       "      <td>Acacia Gum</td>\n",
       "      <td>9000-01-05</td>\n",
       "      <td>Botanical name: Acacia senegal (L ) Willd  Bot...</td>\n",
       "    </tr>\n",
       "    <tr>\n",
       "      <th>1</th>\n",
       "      <td>Acetal</td>\n",
       "      <td>105-57-7</td>\n",
       "      <td>Synonyms: Acetaldehyde diethyl acetal; Acetald...</td>\n",
       "    </tr>\n",
       "    <tr>\n",
       "      <th>2</th>\n",
       "      <td>Acetaldehyde</td>\n",
       "      <td>75-07-0</td>\n",
       "      <td>Synonyms: Ethanal; Acetic aldehyde; Acetylalde...</td>\n",
       "    </tr>\n",
       "    <tr>\n",
       "      <th>3</th>\n",
       "      <td>Acetaldehyde, Butyl Phenethyl Acetal</td>\n",
       "      <td>64577-91-9</td>\n",
       "      <td>Synonyms: Benzene, (2-(1-butoxyethoxy)ethyl)-;...</td>\n",
       "    </tr>\n",
       "    <tr>\n",
       "      <th>4</th>\n",
       "      <td>Acetaldehyde Di-Cis-3-Hexenyl Acetal</td>\n",
       "      <td>None</td>\n",
       "      <td>Synonyms: 1,1-bis[3(Z)-Hexenyloxy]propane; (Z,...</td>\n",
       "    </tr>\n",
       "  </tbody>\n",
       "</table>\n",
       "</div>"
      ],
      "text/plain": [
       "                                   name     CAS_num  \\\n",
       "0                            Acacia Gum  9000-01-05   \n",
       "1                                Acetal    105-57-7   \n",
       "2                          Acetaldehyde     75-07-0   \n",
       "3  Acetaldehyde, Butyl Phenethyl Acetal  64577-91-9   \n",
       "4  Acetaldehyde Di-Cis-3-Hexenyl Acetal        None   \n",
       "\n",
       "                                    full_description  \n",
       "0  Botanical name: Acacia senegal (L ) Willd  Bot...  \n",
       "1  Synonyms: Acetaldehyde diethyl acetal; Acetald...  \n",
       "2  Synonyms: Ethanal; Acetic aldehyde; Acetylalde...  \n",
       "3  Synonyms: Benzene, (2-(1-butoxyethoxy)ethyl)-;...  \n",
       "4  Synonyms: 1,1-bis[3(Z)-Hexenyloxy]propane; (Z,...  "
      ]
     },
     "execution_count": 4,
     "metadata": {},
     "output_type": "execute_result"
    }
   ],
   "source": [
    "molecules100.head()"
   ]
  },
  {
   "cell_type": "markdown",
   "id": "412c56bb-865c-48e5-910e-a602941a054d",
   "metadata": {},
   "source": [
    "### Stemming vs. lemmatizing?"
   ]
  },
  {
   "cell_type": "markdown",
   "id": "c6dc76b7-887f-486a-b478-cbf980c89304",
   "metadata": {},
   "source": [
    "It will be important to pare down words to their roots so that, e.g. \"citrusy\" and \"citrus\" are both identified as the same sensation. Which is more appropriate here: stemming or lemmatizing?"
   ]
  },
  {
   "cell_type": "markdown",
   "id": "d59f03f0-046c-4e0b-8071-dd5ac51305ab",
   "metadata": {},
   "source": [
    "Let's examine a few relevant pairs of sense words using a few different tools to compare the results."
   ]
  },
  {
   "cell_type": "code",
   "execution_count": 5,
   "id": "ead3d7a6-5633-44e1-8772-04f8b6093ef9",
   "metadata": {},
   "outputs": [],
   "source": [
    "from nltk.stem.porter import PorterStemmer\n",
    "from nltk.stem.snowball import SnowballStemmer\n",
    "from nltk.stem.lancaster import LancasterStemmer\n",
    "from nltk.stem import WordNetLemmatizer"
   ]
  },
  {
   "cell_type": "code",
   "execution_count": 6,
   "id": "70b336f6-0c90-43e5-a1f1-ec18e495bd60",
   "metadata": {},
   "outputs": [],
   "source": [
    "porter = PorterStemmer()\n",
    "snowball = SnowballStemmer(\"english\")\n",
    "lancaster = LancasterStemmer()\n",
    "lemmatizer = WordNetLemmatizer()"
   ]
  },
  {
   "cell_type": "code",
   "execution_count": 7,
   "id": "9611847f-40a7-478c-9958-e3f1c4dfd8e2",
   "metadata": {},
   "outputs": [],
   "source": [
    "trial_senses = [(\"citrusy\", \"citrus\"),\n",
    "                (\"tasting\", \"tastes\"),\n",
    "                (\"herbal\", \"herbaceous\"),\n",
    "                (\"cheese\", \"cheesy\"),\n",
    "                (\"floral\", \"flower\")]                "
   ]
  },
  {
   "cell_type": "code",
   "execution_count": 8,
   "id": "1884ee5c-78ab-4c57-b009-7ab9e3302ae5",
   "metadata": {},
   "outputs": [
    {
     "name": "stdout",
     "output_type": "stream",
     "text": [
      "Input:\t\t ('citrusy', 'citrus')\n",
      "Porter:\t\t ['citrusi', 'citru']\n",
      "Snowball:\t ['citrusi', 'citrus']\n",
      "Lancaster:\t ['citrusy', 'citr']\n",
      "Lemmas:\t\t ['citrusy', 'citrus']\n",
      "=====\n",
      "Input:\t\t ('tasting', 'tastes')\n",
      "Porter:\t\t ['tast', 'tast']\n",
      "Snowball:\t ['tast', 'tast']\n",
      "Lancaster:\t ['tast', 'tast']\n",
      "Lemmas:\t\t ['tasting', 'taste']\n",
      "=====\n",
      "Input:\t\t ('herbal', 'herbaceous')\n",
      "Porter:\t\t ['herbal', 'herbac']\n",
      "Snowball:\t ['herbal', 'herbac']\n",
      "Lancaster:\t ['herb', 'herbac']\n",
      "Lemmas:\t\t ['herbal', 'herbaceous']\n",
      "=====\n",
      "Input:\t\t ('cheese', 'cheesy')\n",
      "Porter:\t\t ['chees', 'cheesi']\n",
      "Snowball:\t ['chees', 'cheesi']\n",
      "Lancaster:\t ['chees', 'cheesy']\n",
      "Lemmas:\t\t ['cheese', 'cheesy']\n",
      "=====\n",
      "Input:\t\t ('floral', 'flower')\n",
      "Porter:\t\t ['floral', 'flower']\n",
      "Snowball:\t ['floral', 'flower']\n",
      "Lancaster:\t ['flor', 'flow']\n",
      "Lemmas:\t\t ['floral', 'flower']\n",
      "=====\n"
     ]
    }
   ],
   "source": [
    "for pair in trial_senses:\n",
    "    print(\"Input:\\t\\t\", pair)\n",
    "    print(\"Porter:\\t\\t\", [porter.stem(word) for word in pair])\n",
    "    print(\"Snowball:\\t\", [snowball.stem(word) for word in pair])\n",
    "    print(\"Lancaster:\\t\", [lancaster.stem(word) for word in pair])\n",
    "    print(\"Lemmas:\\t\\t\", [lemmatizer.lemmatize(word) for word in pair])\n",
    "    print(\"=====\")"
   ]
  },
  {
   "cell_type": "markdown",
   "id": "d82b21e3-c817-4f9c-94cb-e47dd267e21c",
   "metadata": {},
   "source": [
    "All of these options look like they will take some finessing down the road -- ideally \"citrusy\" and \"citrus\" would be reduced to the same root for our purposes here. That said, the Snowball stemmer looks like the most reasonable approach."
   ]
  },
  {
   "cell_type": "markdown",
   "id": "38dc2387-b9f5-4918-8cd5-998e6cdcf763",
   "metadata": {},
   "source": [
    "### Clean the chemical descriptions"
   ]
  },
  {
   "cell_type": "markdown",
   "id": "43e71a33-c899-469f-986c-f102c7384603",
   "metadata": {},
   "source": [
    "The descriptions contain a lot of information that is not useful in creating this database: a lot of numbers (we're only interested in descriptive words), a lot of punctuation, white spaces, etc. Clean up the descriptions by tokenizing the text, removing stopwords (like \"at\" or \"and\"), apply the Snowball stemmer, and remove extraneous characters like numbers or line breaks."
   ]
  },
  {
   "cell_type": "code",
   "execution_count": 9,
   "id": "eb1c3c0b-5e62-47b5-98e6-023025ceaa43",
   "metadata": {},
   "outputs": [],
   "source": [
    "from nltk.corpus import stopwords\n",
    "from nltk.tokenize import word_tokenize\n",
    "import re"
   ]
  },
  {
   "cell_type": "code",
   "execution_count": 10,
   "id": "d3e23ea7-1247-4048-8ce2-e575eb2f4da6",
   "metadata": {},
   "outputs": [],
   "source": [
    "def desc_cleaner(row):\n",
    "    \"\"\"\n",
    "    Called:\n",
    "        By user.\n",
    "    Purpose:\n",
    "        Clean the a molecule's full description as read from a reference book.\n",
    "        Tokenize the text, remove stopwords (like \"at\" or \"and\"), stem the words\n",
    "        using a Snowball stemmer, and remove other non-descriptive information,\n",
    "        such as numbers, symbols, linebreaks, and the word \"like\".\n",
    "    Accepts:\n",
    "        row: a row of a Pandas dataframe \n",
    "    Returns:\n",
    "        a modified row of the dataframe\n",
    "    \"\"\"\n",
    "    \n",
    "    \n",
    "    tokenized = word_tokenize(row[\"full_description\"])\n",
    "    nostops = [word.casefold() for word in tokenized if word not in set(stopwords.words(\"english\"))]\n",
    "    stems = [snowball.stem(word) for word in nostops]\n",
    "    stems_str = \" \".join(stems)\n",
    "    no_likes = re.sub(r\"like\", \" \", stems_str)\n",
    "    alpha_chars_only = re.sub(r\"[^a-zA-Z\\s]\", \" \", no_likes)\n",
    "    no_linebreaks = re.sub(r\"\\s+\", \" \", alpha_chars_only)\n",
    "    row[\"clean_description\"] = no_linebreaks\n",
    "    return row"
   ]
  },
  {
   "cell_type": "code",
   "execution_count": 11,
   "id": "2d03c849-1959-4cd8-97e6-b0f40e52c041",
   "metadata": {},
   "outputs": [],
   "source": [
    "molecules100 = molecules100.apply(desc_cleaner, axis = \"columns\")"
   ]
  },
  {
   "cell_type": "code",
   "execution_count": 12,
   "id": "52fb4964-69e0-49d0-9ab9-ab5fd90d21c9",
   "metadata": {},
   "outputs": [
    {
     "data": {
      "text/html": [
       "<div>\n",
       "<style scoped>\n",
       "    .dataframe tbody tr th:only-of-type {\n",
       "        vertical-align: middle;\n",
       "    }\n",
       "\n",
       "    .dataframe tbody tr th {\n",
       "        vertical-align: top;\n",
       "    }\n",
       "\n",
       "    .dataframe thead th {\n",
       "        text-align: right;\n",
       "    }\n",
       "</style>\n",
       "<table border=\"1\" class=\"dataframe\">\n",
       "  <thead>\n",
       "    <tr style=\"text-align: right;\">\n",
       "      <th></th>\n",
       "      <th>name</th>\n",
       "      <th>CAS_num</th>\n",
       "      <th>full_description</th>\n",
       "      <th>clean_description</th>\n",
       "    </tr>\n",
       "  </thead>\n",
       "  <tbody>\n",
       "    <tr>\n",
       "      <th>0</th>\n",
       "      <td>Acacia Gum</td>\n",
       "      <td>9000-01-05</td>\n",
       "      <td>Botanical name: Acacia senegal (L ) Willd  Bot...</td>\n",
       "      <td>botan name acacia seneg l willd botan famili l...</td>\n",
       "    </tr>\n",
       "    <tr>\n",
       "      <th>1</th>\n",
       "      <td>Acetal</td>\n",
       "      <td>105-57-7</td>\n",
       "      <td>Synonyms: Acetaldehyde diethyl acetal; Acetald...</td>\n",
       "      <td>synonym acetaldehyd diethyl acet acetaldehyd e...</td>\n",
       "    </tr>\n",
       "    <tr>\n",
       "      <th>2</th>\n",
       "      <td>Acetaldehyde</td>\n",
       "      <td>75-07-0</td>\n",
       "      <td>Synonyms: Ethanal; Acetic aldehyde; Acetylalde...</td>\n",
       "      <td>synonym ethan acet aldehyd acetylaldehyd ethyl...</td>\n",
       "    </tr>\n",
       "    <tr>\n",
       "      <th>3</th>\n",
       "      <td>Acetaldehyde, Butyl Phenethyl Acetal</td>\n",
       "      <td>64577-91-9</td>\n",
       "      <td>Synonyms: Benzene, (2-(1-butoxyethoxy)ethyl)-;...</td>\n",
       "      <td>synonym benzen butoxyethoxi ethyl butoxy pheny...</td>\n",
       "    </tr>\n",
       "    <tr>\n",
       "      <th>4</th>\n",
       "      <td>Acetaldehyde Di-Cis-3-Hexenyl Acetal</td>\n",
       "      <td>None</td>\n",
       "      <td>Synonyms: 1,1-bis[3(Z)-Hexenyloxy]propane; (Z,...</td>\n",
       "      <td>synonym bis z hexenyloxi propan z z ethylidene...</td>\n",
       "    </tr>\n",
       "  </tbody>\n",
       "</table>\n",
       "</div>"
      ],
      "text/plain": [
       "                                   name     CAS_num  \\\n",
       "0                            Acacia Gum  9000-01-05   \n",
       "1                                Acetal    105-57-7   \n",
       "2                          Acetaldehyde     75-07-0   \n",
       "3  Acetaldehyde, Butyl Phenethyl Acetal  64577-91-9   \n",
       "4  Acetaldehyde Di-Cis-3-Hexenyl Acetal        None   \n",
       "\n",
       "                                    full_description  \\\n",
       "0  Botanical name: Acacia senegal (L ) Willd  Bot...   \n",
       "1  Synonyms: Acetaldehyde diethyl acetal; Acetald...   \n",
       "2  Synonyms: Ethanal; Acetic aldehyde; Acetylalde...   \n",
       "3  Synonyms: Benzene, (2-(1-butoxyethoxy)ethyl)-;...   \n",
       "4  Synonyms: 1,1-bis[3(Z)-Hexenyloxy]propane; (Z,...   \n",
       "\n",
       "                                   clean_description  \n",
       "0  botan name acacia seneg l willd botan famili l...  \n",
       "1  synonym acetaldehyd diethyl acet acetaldehyd e...  \n",
       "2  synonym ethan acet aldehyd acetylaldehyd ethyl...  \n",
       "3  synonym benzen butoxyethoxi ethyl butoxy pheny...  \n",
       "4  synonym bis z hexenyloxi propan z z ethylidene...  "
      ]
     },
     "execution_count": 12,
     "metadata": {},
     "output_type": "execute_result"
    }
   ],
   "source": [
    "molecules100.head()"
   ]
  },
  {
   "cell_type": "markdown",
   "id": "4354541d-d415-461c-ae55-5e785adf8011",
   "metadata": {},
   "source": [
    "### Search for flavor and scent words"
   ]
  },
  {
   "cell_type": "markdown",
   "id": "a2eaae57-54aa-43e0-83a8-bfa6006af5e0",
   "metadata": {},
   "source": [
    "There is unfortunatley not a readily available list or dictionary of words used in the flavor & aroma industry. My research indicates that the descriptors (which the industry calls a *lexicon*) are not well standardized and vary between different sub-fields (such as wine vs. cheese vs. candy). Unfortunately, that means I will need to build my own lexicon here. It will not have the benefit of definition by professional flavorists or perfumists, but at least it will be somewhat general for the molecular data that I have available."
   ]
  },
  {
   "cell_type": "markdown",
   "id": "0e222166-99af-443a-9785-b973e1902a83",
   "metadata": {},
   "source": [
    "To build the lexicon, we'll want to identify descriptive words that appear near indicator words. For example, we want the phrase \"with flavor notes of vanilla\" to be captured as a vanilla-like flavor. To accomplish that, we'll define lists of `tags` that indicate a flavor or smell description."
   ]
  },
  {
   "cell_type": "code",
   "execution_count": 13,
   "id": "f56f0384-8c22-4bf6-9c7c-1cb0d9be0933",
   "metadata": {},
   "outputs": [],
   "source": [
    "flavor_tags = [snowball.stem(tag) for tag in [\"flavor\", \"taste\", \"palate\", \"tongue\", \"mouth\"]]\n",
    "smell_tags = [snowball.stem(tag) for tag in [\"smell\", \"scent\", \"aroma\", \"nose\", \"odor\"]]"
   ]
  },
  {
   "cell_type": "markdown",
   "id": "a80d00be-8d65-4d76-a13a-5f57edf46185",
   "metadata": {},
   "source": [
    "Define the `find_sensory` function to look for the tag words defined above, then grab the *neighboring* words within a set number of words (`window`) away from the tag word:"
   ]
  },
  {
   "cell_type": "code",
   "execution_count": 14,
   "id": "c9373ebf-6e15-4ffa-9a8a-f137eae56243",
   "metadata": {},
   "outputs": [],
   "source": [
    "def find_sensory(row, tags: list, window: int, sense_colname: str):\n",
    "    \"\"\"\n",
    "    Called:\n",
    "        By user.\n",
    "    Purpose:\n",
    "        Find words that might describe a molecule's smell or flavor. To do so,\n",
    "        iterate over the words in the clean_description column of a dataframe.\n",
    "        When a word is found that is present in the tags list, append the\n",
    "        *neighboring* +/- window words to sense_colname.\n",
    "\n",
    "    Accepts:\n",
    "        row: a row of a Pandas dataframe\n",
    "        tags: a list of stemmed words that indicate a flavor or smell description\n",
    "        window: an int, indicating how many words on either side of `tag` should\n",
    "            be appended to the results that are found.\n",
    "        sense_colname: a string naming a column of the dataframe where the\n",
    "            potential flavor/smell words should be appended\n",
    "    Returns:\n",
    "        a modified row of the dataframe\n",
    "    \"\"\"\n",
    "    \n",
    "    desc = row[\"clean_description\"].split(\" \")\n",
    "    senses = []\n",
    "    for i, word in enumerate(desc):\n",
    "        if word in tags:\n",
    "            for neighbor_word in desc[i - window : i + window]:\n",
    "                senses.append(neighbor_word)\n",
    "    row[sense_colname] = \" \".join(senses)\n",
    "    return row"
   ]
  },
  {
   "cell_type": "markdown",
   "id": "150323a1-0bdd-4ad0-851f-9af36d667819",
   "metadata": {},
   "source": [
    "How far away from a `smell_tag` like \"aroma\" should we look for words that describe the flavor? That is, what value of `window` is most appropriate for use in the `find_sensory` function above? Let's try a few values and visually examine a few results."
   ]
  },
  {
   "cell_type": "code",
   "execution_count": 15,
   "id": "e0c96181-4df6-4588-a3a3-4851009133a9",
   "metadata": {},
   "outputs": [],
   "source": [
    "for window_size in range(1, 10): \n",
    "    molecules100 = molecules100.apply(find_sensory, axis = \"columns\", \n",
    "                                      tags = smell_tags, \n",
    "                                      window = window_size, \n",
    "                                      sense_colname = (\"smell-window-\" + str(window_size)))"
   ]
  },
  {
   "cell_type": "code",
   "execution_count": 16,
   "id": "c38d2ec7-cbe7-4e76-b5b4-9571ba048623",
   "metadata": {
    "tags": []
   },
   "outputs": [
    {
     "name": "stdout",
     "output_type": "stream",
     "text": [
      "Name:  Acacia Gum\n",
      "--> window =  1\n",
      "candi aroma\n",
      "--> window =  2\n",
      "hard candi aroma threshold\n",
      "--> window =  3\n",
      "pud hard candi aroma threshold valu\n",
      "--> window =  4\n",
      "gelatin pud hard candi aroma threshold valu n\n",
      "--> window =  5\n",
      "ice gelatin pud hard candi aroma threshold valu n a\n",
      "--> window =  6\n",
      "fruit ice gelatin pud hard candi aroma threshold valu n a usual\n",
      "--> window =  7\n",
      "juic fruit ice gelatin pud hard candi aroma threshold valu n a usual max\n",
      "--> window =  8\n",
      "fruit juic fruit ice gelatin pud hard candi aroma threshold valu n a usual max food\n",
      "--> window =  9\n",
      "dairi fruit juic fruit ice gelatin pud hard candi aroma threshold valu n a usual max food categori\n",
      "\n",
      "===========\n",
      "\n",
      "Name:  Acetal\n",
      "--> window =  1\n",
      "green odor hcl aroma\n",
      "--> window =  2\n",
      "fruity green odor consumpt acid hcl aroma threshold\n",
      "--> window =  3\n",
      "pleasant fruity green odor consumpt annual miner acid hcl aroma threshold valu\n",
      "--> window =  4\n",
      "refresh pleasant fruity green odor consumpt annual lb amount miner acid hcl aroma threshold valu detect\n",
      "--> window =  5\n",
      "acet refresh pleasant fruity green odor consumpt annual lb regulatori small amount miner acid hcl aroma threshold valu detect ppb\n",
      "--> window =  6\n",
      "descript acet refresh pleasant fruity green odor consumpt annual lb regulatori status chlorid small amount miner acid hcl aroma threshold valu detect ppb tast\n",
      "--> window =  7\n",
      "no descript acet refresh pleasant fruity green odor consumpt annual lb regulatori status individu calcium chlorid small amount miner acid hcl aroma threshold valu detect ppb tast threshold\n",
      "--> window =  8\n",
      "nas no descript acet refresh pleasant fruity green odor consumpt annual lb regulatori status individu mg anhydr calcium chlorid small amount miner acid hcl aroma threshold valu detect ppb tast threshold valu\n",
      "--> window =  9\n",
      "no nas no descript acet refresh pleasant fruity green odor consumpt annual lb regulatori status individu mg kg presenc anhydr calcium chlorid small amount miner acid hcl aroma threshold valu detect ppb tast threshold valu n\n",
      "\n",
      "===========\n",
      "\n",
      "Name:  Acetaldehyde\n",
      "--> window =  1\n",
      "ether odor acid aroma fruital aroma\n",
      "--> window =  2\n",
      "penetr ether odor as sulfur acid aroma threshold leav fruital aroma pear\n",
      "--> window =  3\n",
      "pungent penetr ether odor as flavor dilut sulfur acid aroma threshold valu tobacco leav fruital aroma pear appl\n",
      "--> window =  4\n",
      "characterist pungent penetr ether odor as flavor ingredient compound dilut sulfur acid aroma threshold valu detect oak tobacco leav fruital aroma pear appl raspberri\n",
      "--> window =  5\n",
      "liquid characterist pungent penetr ether odor as flavor ingredient enhanc addit compound dilut sulfur acid aroma threshold valu detect ppb found oak tobacco leav fruital aroma pear appl raspberri strawberri\n",
      "--> window =  6\n",
      "flammabl liquid characterist pungent penetr ether odor as flavor ingredient enhanc exampl treatment addit compound dilut sulfur acid aroma threshold valu detect ppb recognit report found oak tobacco leav fruital aroma pear appl raspberri strawberri pine\n",
      "--> window =  7\n",
      "colorless flammabl liquid characterist pungent penetr ether odor as flavor ingredient enhanc exampl orang final treatment addit compound dilut sulfur acid aroma threshold valu detect ppb recognit ppb occurr report found oak tobacco leav fruital aroma pear appl raspberri strawberri pine appl\n",
      "--> window =  8\n",
      "acetaldehyd colorless flammabl liquid characterist pungent penetr ether odor as flavor ingredient enhanc exampl orang juic ammonia final treatment addit compound dilut sulfur acid aroma threshold valu detect ppb recognit ppb tast natur occurr report found oak tobacco leav fruital aroma pear appl raspberri strawberri pine appl distil\n",
      "--> window =  9\n",
      "descript acetaldehyd colorless flammabl liquid characterist pungent penetr ether odor as flavor ingredient enhanc exampl orang juic acetaldehyd acetaldehyd ammonia final treatment addit compound dilut sulfur acid aroma threshold valu detect ppb recognit ppb tast threshold a natur occurr report found oak tobacco leav fruital aroma pear appl raspberri strawberri pine appl distil water\n",
      "\n",
      "===========\n",
      "\n",
      "Name:  Acetaldehyde, Butyl Phenethyl Acetal\n",
      "--> window =  1\n",
      "leafi aroma a aroma\n",
      "--> window =  2\n",
      "green leafi aroma green n a aroma threshold\n",
      "--> window =  3\n",
      "liquid green leafi aroma green paper synthesi n a aroma threshold valu\n",
      "--> window =  4\n",
      "a liquid green leafi aroma green paper tast pud synthesi n a aroma threshold valu n\n",
      "--> window =  5\n",
      "descript a liquid green leafi aroma green paper tast consumpt gelatin pud synthesi n a aroma threshold valu n a\n",
      "--> window =  6\n",
      "no descript a liquid green leafi aroma green paper tast consumpt annual dairi gelatin pud synthesi n a aroma threshold valu n a tast\n",
      "--> window =  7\n",
      "nas no descript a liquid green leafi aroma green paper tast consumpt annual lb frozen dairi gelatin pud synthesi n a aroma threshold valu n a tast threshold\n",
      "--> window =  8\n",
      "no nas no descript a liquid green leafi aroma green paper tast consumpt annual lb regulatori good frozen dairi gelatin pud synthesi n a aroma threshold valu n a tast threshold valu\n",
      "--> window =  9\n",
      "jecfa no nas no descript a liquid green leafi aroma green paper tast consumpt annual lb regulatori status bake good frozen dairi gelatin pud synthesi n a aroma threshold valu n a tast threshold valu n\n",
      "\n",
      "===========\n",
      "\n",
      "Name:  Acetaldehyde Di-Cis-3-Hexenyl Acetal\n",
      "--> window =  1\n",
      "herbac aroma consumpt odor max aroma strength odor recommend smell\n",
      "--> window =  2\n",
      "green herbac aroma consumpt aroma consumpt odor and usual max aroma threshold high strength odor green type recommend smell solut\n",
      "--> window =  3\n",
      "strong green herbac aroma consumpt odor herbac aroma consumpt odor and or sauc usual max aroma threshold valu valu high strength odor green type green type recommend smell solut less\n",
      "--> window =  4\n",
      "liquid strong green herbac aroma consumpt odor and green herbac aroma consumpt odor and or flavor sweet sauc usual max aroma threshold valu high threshold valu high strength odor green type recommend odor green type recommend smell solut less tast\n",
      "--> window =  5\n",
      "colorless liquid strong green herbac aroma consumpt odor and or strong green herbac aroma consumpt odor and or flavor use soup sweet sauc usual max aroma threshold valu high strength aroma threshold valu high strength odor green type recommend smell strength odor green type recommend smell solut less tast threshold\n",
      "--> window =  6\n",
      "clear colorless liquid strong green herbac aroma consumpt odor and or flavor liquid strong green herbac aroma consumpt odor and or flavor use balsam candi soup sweet sauc usual max aroma threshold valu high strength odor max aroma threshold valu high strength odor green type recommend smell solut high strength odor green type recommend smell solut less tast threshold valu\n",
      "--> window =  7\n",
      "descript clear colorless liquid strong green herbac aroma consumpt odor and or flavor use colorless liquid strong green herbac aroma consumpt odor and or flavor use balsam green soft candi soup sweet sauc usual max aroma threshold valu high strength odor green usual max aroma threshold valu high strength odor green type recommend smell solut less valu high strength odor green type recommend smell solut less tast threshold valu n\n",
      "--> window =  8\n",
      "a descript clear colorless liquid strong green herbac aroma consumpt odor and or flavor use balsam clear colorless liquid strong green herbac aroma consumpt odor and or flavor use balsam green herbal food soft candi soup sweet sauc usual max aroma threshold valu high strength odor green type sauc usual max aroma threshold valu high strength odor green type recommend smell solut less tast threshold valu high strength odor green type recommend smell solut less tast threshold valu n a\n",
      "--> window =  9\n",
      "n a descript clear colorless liquid strong green herbac aroma consumpt odor and or flavor use balsam green descript clear colorless liquid strong green herbac aroma consumpt odor and or flavor use balsam green herbal leaf snack food soft candi soup sweet sauc usual max aroma threshold valu high strength odor green type recommend sweet sauc usual max aroma threshold valu high strength odor green type recommend smell solut less tast threshold aroma threshold valu high strength odor green type recommend smell solut less tast threshold valu n a natur\n",
      "\n",
      "===========\n",
      "\n",
      "Name:  Acetaldehyde Diisoamyl Acetal\n",
      "--> window =  1\n",
      "a aroma\n",
      "--> window =  2\n",
      "n a aroma threshold\n",
      "--> window =  3\n",
      "synthesi n a aroma threshold valu\n",
      "--> window =  4\n",
      "candi synthesi n a aroma threshold valu n\n",
      "--> window =  5\n",
      "hard candi synthesi n a aroma threshold valu n a\n",
      "--> window =  6\n",
      "pud hard candi synthesi n a aroma threshold valu n a tast\n",
      "--> window =  7\n",
      "gelatin pud hard candi synthesi n a aroma threshold valu n a tast threshold\n",
      "--> window =  8\n",
      "ice gelatin pud hard candi synthesi n a aroma threshold valu n a tast threshold valu\n",
      "--> window =  9\n",
      "fruit ice gelatin pud hard candi synthesi n a aroma threshold valu n a tast threshold valu n\n",
      "\n",
      "===========\n",
      "\n"
     ]
    }
   ],
   "source": [
    "for row_num in range(0, 6):\n",
    "    print(\"Name: \", molecules100.loc[row_num, \"name\"])\n",
    "    for window_size in range(1, 10):\n",
    "        print(\"--> window = \", window_size)\n",
    "        print(molecules100.loc[row_num, (\"smell-window-\") + str(window_size)])\n",
    "    print(\"\\n===========\\n\")"
   ]
  },
  {
   "cell_type": "markdown",
   "id": "8ff73c7f-a28f-451b-95f3-5abf440f20d9",
   "metadata": {},
   "source": [
    "Comparing the output above with the original PDF documents, it looks like a `window` of 4 offers a good compromise for identifying aroma words: large enough to capture the relevant words, but not so large that additional convoluting words (such as those describing tastes instead of smells) are also captured."
   ]
  },
  {
   "cell_type": "markdown",
   "id": "af1049bc-0699-4d2c-9df5-9da011a7d410",
   "metadata": {},
   "source": [
    "Does the same apply for identifying flavor words? Repeat the procedure above, this time using the list of `flavor_tags` like \"taste\"."
   ]
  },
  {
   "cell_type": "code",
   "execution_count": 17,
   "id": "077edf77-3b69-41c0-b540-3ee9af2d6c35",
   "metadata": {},
   "outputs": [],
   "source": [
    "for window_size in range(1, 10): \n",
    "    molecules100 = molecules100.apply(find_sensory, axis = \"columns\", \n",
    "                                      tags = flavor_tags, \n",
    "                                      window = window_size, \n",
    "                                      sense_colname = (\"flavor-window-\" + str(window_size)))"
   ]
  },
  {
   "cell_type": "code",
   "execution_count": 18,
   "id": "d9a7a7f1-9b43-4646-bcc7-6daaba7b8856",
   "metadata": {
    "tags": []
   },
   "outputs": [
    {
     "name": "stdout",
     "output_type": "stream",
     "text": [
      "Name:  Acacia Gum\n",
      "--> window =  1\n",
      "fixat flavor usual tast absolut tast\n",
      "--> window =  2\n",
      "food fixat flavor foam max usual tast threshold valu absolut tast characterist\n",
      "--> window =  3\n",
      "arab food fixat flavor foam stabil substitut max usual tast threshold valu threshold valu absolut tast characterist ppm\n",
      "--> window =  4\n",
      "gum arab food fixat flavor foam stabil beverag sugar substitut max usual tast threshold valu absolut tast threshold valu absolut tast characterist ppm spici\n",
      "--> window =  5\n",
      "use gum arab food fixat flavor foam stabil beverag adhes soup sugar substitut max usual tast threshold valu absolut tast usual tast threshold valu absolut tast characterist ppm spici sweet\n",
      "--> window =  6\n",
      "major use gum arab food fixat flavor foam stabil beverag adhes ice candi soup sugar substitut max usual tast threshold valu absolut tast characterist max usual tast threshold valu absolut tast characterist ppm spici sweet fruiti\n",
      "--> window =  7\n",
      "weight major use gum arab food fixat flavor foam stabil beverag adhes ice top soft candi soup sugar substitut max usual tast threshold valu absolut tast characterist ppm substitut max usual tast threshold valu absolut tast characterist ppm spici sweet fruiti honey\n",
      "--> window =  8\n",
      "molecular weight major use gum arab food fixat flavor foam stabil beverag adhes ice top emulsifi food soft candi soup sugar substitut max usual tast threshold valu absolut tast characterist ppm spici sugar substitut max usual tast threshold valu absolut tast characterist ppm spici sweet fruiti honey woodi\n",
      "--> window =  9\n",
      "distribut molecular weight major use gum arab food fixat flavor foam stabil beverag adhes ice top emulsifi stabil snack food soft candi soup sugar substitut max usual tast threshold valu absolut tast characterist ppm spici sweet soup sugar substitut max usual tast threshold valu absolut tast characterist ppm spici sweet fruiti honey woodi herbal\n",
      "\n",
      "===========\n",
      "\n",
      "Name:  Acetal\n",
      "--> window =  1\n",
      "use flavor ppb tast\n",
      "--> window =  2\n",
      "intak use flavor agent detect ppb tast threshold\n",
      "--> window =  3\n",
      "level intak use flavor agent trade valu detect ppb tast threshold valu\n",
      "--> window =  4\n",
      "current level intak use flavor agent trade associ threshold valu detect ppb tast threshold valu n\n",
      "--> window =  5\n",
      "concern current level intak use flavor agent trade associ guidelin aroma threshold valu detect ppb tast threshold valu n a\n",
      "--> window =  6\n",
      "safeti concern current level intak use flavor agent trade associ guidelin fema hcl aroma threshold valu detect ppb tast threshold valu n a natur\n",
      "--> window =  7\n",
      "no safeti concern current level intak use flavor agent trade associ guidelin fema padi acid hcl aroma threshold valu detect ppb tast threshold valu n a natur occurr\n",
      "--> window =  8\n",
      "accept no safeti concern current level intak use flavor agent trade associ guidelin fema padi mg miner acid hcl aroma threshold valu detect ppb tast threshold valu n a natur occurr present\n",
      "--> window =  9\n",
      "adi accept no safeti concern current level intak use flavor agent trade associ guidelin fema padi mg iofi amount miner acid hcl aroma threshold valu detect ppb tast threshold valu n a natur occurr present liquor\n",
      "\n",
      "===========\n",
      "\n",
      "Name:  Acetaldehyde\n",
      "--> window =  1\n",
      "as flavor use flavor ppb tast\n",
      "--> window =  2\n",
      "odor as flavor ingredient intak use flavor agent recognit ppb tast threshold\n",
      "--> window =  3\n",
      "ether odor as flavor ingredient enhanc level intak use flavor agent trade ppb recognit ppb tast threshold valu\n",
      "--> window =  4\n",
      "penetr ether odor as flavor ingredient enhanc exampl current level intak use flavor agent trade associ detect ppb recognit ppb tast threshold valu n\n",
      "--> window =  5\n",
      "pungent penetr ether odor as flavor ingredient enhanc exampl orang concern current level intak use flavor agent trade associ guidelin valu detect ppb recognit ppb tast threshold valu n a\n",
      "--> window =  6\n",
      "characterist pungent penetr ether odor as flavor ingredient enhanc exampl orang juic safeti concern current level intak use flavor agent trade associ guidelin fema threshold valu detect ppb recognit ppb tast threshold valu n a natur\n",
      "--> window =  7\n",
      "liquid characterist pungent penetr ether odor as flavor ingredient enhanc exampl orang juic acetaldehyd no safeti concern current level intak use flavor agent trade associ guidelin fema padi aroma threshold valu detect ppb recognit ppb tast threshold valu n a natur occurr\n",
      "--> window =  8\n",
      "flammabl liquid characterist pungent penetr ether odor as flavor ingredient enhanc exampl orang juic acetaldehyd help accept no safeti concern current level intak use flavor agent trade associ guidelin fema padi mg acid aroma threshold valu detect ppb recognit ppb tast threshold valu n a natur occurr report\n",
      "--> window =  9\n",
      "colorless flammabl liquid characterist pungent penetr ether odor as flavor ingredient enhanc exampl orang juic acetaldehyd help creat adi accept no safeti concern current level intak use flavor agent trade associ guidelin fema padi mg iofi sulfur acid aroma threshold valu detect ppb recognit ppb tast threshold valu n a natur occurr report found\n",
      "\n",
      "===========\n",
      "\n",
      "Name:  Acetaldehyde, Butyl Phenethyl Acetal\n",
      "--> window =  1\n",
      "paper tast use flavor a tast\n",
      "--> window =  2\n",
      "green paper tast consumpt intak use flavor agent n a tast threshold\n",
      "--> window =  3\n",
      "aroma green paper tast consumpt annual level intak use flavor agent trade valu n a tast threshold valu\n",
      "--> window =  4\n",
      "leafi aroma green paper tast consumpt annual lb current level intak use flavor agent trade associ threshold valu n a tast threshold valu n\n",
      "--> window =  5\n",
      "green leafi aroma green paper tast consumpt annual lb regulatori concern current level intak use flavor agent trade associ guidelin aroma threshold valu n a tast threshold valu n a\n",
      "--> window =  6\n",
      "liquid green leafi aroma green paper tast consumpt annual lb regulatori status safeti concern current level intak use flavor agent trade associ guidelin fema a aroma threshold valu n a tast threshold valu n a refract\n",
      "--> window =  7\n",
      "a liquid green leafi aroma green paper tast consumpt annual lb regulatori status individu no safeti concern current level intak use flavor agent trade associ guidelin fema padi n a aroma threshold valu n a tast threshold valu n a refract index\n",
      "--> window =  8\n",
      "descript a liquid green leafi aroma green paper tast consumpt annual lb regulatori status individu mg accept no safeti concern current level intak use flavor agent trade associ guidelin fema padi mg synthesi n a aroma threshold valu n a tast threshold valu n a refract index solubl\n",
      "--> window =  9\n",
      "no descript a liquid green leafi aroma green paper tast consumpt annual lb regulatori status individu mg kg adi accept no safeti concern current level intak use flavor agent trade associ guidelin fema padi mg iofi pud synthesi n a aroma threshold valu n a tast threshold valu n a refract index solubl specif\n",
      "\n",
      "===========\n",
      "\n",
      "Name:  Acetaldehyde Di-Cis-3-Hexenyl Acetal\n",
      "--> window =  1\n",
      "or flavor use flavor seasonings flavor less tast\n",
      "--> window =  2\n",
      "and or flavor use intak use flavor agent veget seasonings flavor snack solut less tast threshold\n",
      "--> window =  3\n",
      "odor and or flavor use balsam level intak use flavor agent trade process veget seasonings flavor snack food smell solut less tast threshold valu\n",
      "--> window =  4\n",
      "consumpt odor and or flavor use balsam green current level intak use flavor agent trade associ fruit process veget seasonings flavor snack food soft recommend smell solut less tast threshold valu n\n",
      "--> window =  5\n",
      "aroma consumpt odor and or flavor use balsam green herbal concern current level intak use flavor agent trade associ guidelin process fruit process veget seasonings flavor snack food soft candi type recommend smell solut less tast threshold valu n a\n",
      "--> window =  6\n",
      "herbac aroma consumpt odor and or flavor use balsam green herbal leaf safeti concern current level intak use flavor agent trade associ guidelin fema grain process fruit process veget seasonings flavor snack food soft candi soup green type recommend smell solut less tast threshold valu n a natur\n",
      "--> window =  7\n",
      "green herbac aroma consumpt odor and or flavor use balsam green herbal leaf individu no safeti concern current level intak use flavor agent trade associ guidelin fema padi other grain process fruit process veget seasonings flavor snack food soft candi soup sweet odor green type recommend smell solut less tast threshold valu n a natur occurr\n",
      "--> window =  8\n",
      "strong green herbac aroma consumpt odor and or flavor use balsam green herbal leaf individu n accept no safeti concern current level intak use flavor agent trade associ guidelin fema padi mg beverag other grain process fruit process veget seasonings flavor snack food soft candi soup sweet sauc strength odor green type recommend smell solut less tast threshold valu n a natur occurr not\n",
      "--> window =  9\n",
      "liquid strong green herbac aroma consumpt odor and or flavor use balsam green herbal leaf individu n a adi accept no safeti concern current level intak use flavor agent trade associ guidelin fema padi mg empir nonalcohol beverag other grain process fruit process veget seasonings flavor snack food soft candi soup sweet sauc usual high strength odor green type recommend smell solut less tast threshold valu n a natur occurr not report\n",
      "\n",
      "===========\n",
      "\n",
      "Name:  Acetaldehyde Diisoamyl Acetal\n",
      "--> window =  1\n",
      "use flavor a tast season flavor\n",
      "--> window =  2\n",
      "intak use flavor agent n a tast threshold beverag season flavor snack\n",
      "--> window =  3\n",
      "level intak use flavor agent trade valu n a tast threshold valu nonalcohol beverag season flavor snack food\n",
      "--> window =  4\n",
      "current level intak use flavor agent trade associ threshold valu n a tast threshold valu n product nonalcohol beverag season flavor snack food soft\n",
      "--> window =  5\n",
      "concern current level intak use flavor agent trade associ guidelin aroma threshold valu n a tast threshold valu n a milk product nonalcohol beverag season flavor snack food soft candi\n",
      "--> window =  6\n",
      "safeti concern current level intak use flavor agent trade associ guidelin padi a aroma threshold valu n a tast threshold valu n a usual categori milk product nonalcohol beverag season flavor snack food soft candi soup\n",
      "--> window =  7\n",
      "no safeti concern current level intak use flavor agent trade associ guidelin padi mg n a aroma threshold valu n a tast threshold valu n a usual max food categori milk product nonalcohol beverag season flavor snack food soft candi soup usual\n",
      "--> window =  8\n",
      "accept no safeti concern current level intak use flavor agent trade associ guidelin padi mg fema synthesi n a aroma threshold valu n a tast threshold valu n a usual max food max food categori milk product nonalcohol beverag season flavor snack food soft candi soup usual max\n",
      "--> window =  9\n",
      "adi accept no safeti concern current level intak use flavor agent trade associ guidelin padi mg fema iofi candi synthesi n a aroma threshold valu n a tast threshold valu n a usual max food categori usual max food categori milk product nonalcohol beverag season flavor snack food soft candi soup usual max natur\n",
      "\n",
      "===========\n",
      "\n"
     ]
    }
   ],
   "source": [
    "for row_num in range(0, 6):\n",
    "    print(\"Name: \", molecules100.loc[row_num, \"name\"])\n",
    "    for window_size in range(1, 10):\n",
    "        print(\"--> window = \", window_size)\n",
    "        print(molecules100.loc[row_num, (\"flavor-window-\") + str(window_size)])\n",
    "    print(\"\\n===========\\n\")"
   ]
  },
  {
   "cell_type": "markdown",
   "id": "d2d748cb-2bf6-4e2a-b8be-38a2cbf30f62",
   "metadata": {},
   "source": [
    "Two things are clear from comparing the output above to the original PDF text:\n",
    "1. In *Fenaroli's Handbook*, aroma descriptors are more common than flavor descriptors (at least in the first few entries).\n",
    "1. When flavor descriptors are found, a `window` of 4 is again a reasonable compromise of finding relevant descriptors without searching too broadly. That said, some flavor descriptors were found quite far (`window = 9`, for Acadia Gum) from the tag word."
   ]
  },
  {
   "cell_type": "markdown",
   "id": "e1ac2cdf-7da0-4714-bb77-0d87a651ebec",
   "metadata": {},
   "source": [
    "For building a lexicon, we'll use `window = 4` to pare down the number of possibilities found -- especially since there is going to be some manual processing involved at that step. When it comes time to actually assign molecules to flavor/aroma words from the lexicon, we'll use `window = 9` to ensure less is missed."
   ]
  },
  {
   "cell_type": "markdown",
   "id": "5322ecea-73ba-4288-ab26-a4dc49b0c4a1",
   "metadata": {},
   "source": [
    "Make a set of all the words found in flavorlike_words:"
   ]
  },
  {
   "cell_type": "code",
   "execution_count": 19,
   "id": "859b4ffb-cdf4-41a7-adaa-79ded3f1c90a",
   "metadata": {},
   "outputs": [],
   "source": [
    "combined_descriptions = \"\"\n",
    "for desc in molecules100[\"flavor-window-4\"].tolist():\n",
    "    combined_descriptions += (desc + \" \")"
   ]
  },
  {
   "cell_type": "markdown",
   "id": "65597be8-9f2d-44d7-8400-83628f0ce736",
   "metadata": {},
   "source": [
    "What does this set look like?"
   ]
  },
  {
   "cell_type": "code",
   "execution_count": 20,
   "id": "ffe63054-f462-44dc-8e18-4a0bf0f99a7c",
   "metadata": {},
   "outputs": [
    {
     "data": {
      "text/plain": [
       "279"
      ]
     },
     "execution_count": 20,
     "metadata": {},
     "output_type": "execute_result"
    }
   ],
   "source": [
    "flavor_candidates = set(combined_descriptions.split(\" \"))\n",
    "len(flavor_candidates)"
   ]
  },
  {
   "cell_type": "code",
   "execution_count": 21,
   "id": "bd10ecd4-eb25-4a1e-b30d-fbc055d592bb",
   "metadata": {},
   "outputs": [
    {
     "data": {
      "text/plain": [
       "{'',\n",
       " 'a',\n",
       " 'absolut',\n",
       " 'acet',\n",
       " 'acid',\n",
       " 'acidul',\n",
       " 'aconit',\n",
       " 'acrid',\n",
       " 'add',\n",
       " 'addit',\n",
       " 'adjuv',\n",
       " 'agar',\n",
       " 'agent',\n",
       " 'alanin',\n",
       " 'alaninemia',\n",
       " 'allyl',\n",
       " 'almond',\n",
       " 'almost',\n",
       " 'alo',\n",
       " 'also',\n",
       " 'ambrett',\n",
       " 'amount',\n",
       " 'and',\n",
       " 'annual',\n",
       " 'anthranil',\n",
       " 'appar',\n",
       " 'appl',\n",
       " 'apricot',\n",
       " 'aqueous',\n",
       " 'arab',\n",
       " 'aroma',\n",
       " 'aromat',\n",
       " 'as',\n",
       " 'associ',\n",
       " 'astring',\n",
       " 'bacon',\n",
       " 'balsam',\n",
       " 'banana',\n",
       " 'bay',\n",
       " 'beanlik',\n",
       " 'betel',\n",
       " 'beverag',\n",
       " 'bitter',\n",
       " 'bland',\n",
       " 'bouquet',\n",
       " 'branch',\n",
       " 'brandy',\n",
       " 'brown',\n",
       " 'burdock',\n",
       " 'burnt',\n",
       " 'butter',\n",
       " 'butteri',\n",
       " 'c',\n",
       " 'cabbag',\n",
       " 'candi',\n",
       " 'caramel',\n",
       " 'categori',\n",
       " 'cereal',\n",
       " 'charact',\n",
       " 'characterist',\n",
       " 'chees',\n",
       " 'chemic',\n",
       " 'cherri',\n",
       " 'chip',\n",
       " 'cider',\n",
       " 'coconut',\n",
       " 'color',\n",
       " 'commerci',\n",
       " 'compon',\n",
       " 'concern',\n",
       " 'confect',\n",
       " 'consumpt',\n",
       " 'cook',\n",
       " 'corn',\n",
       " 'cornmeal',\n",
       " 'cream',\n",
       " 'creami',\n",
       " 'current',\n",
       " 'delic',\n",
       " 'deriv',\n",
       " 'descript',\n",
       " 'detect',\n",
       " 'distinct',\n",
       " 'dri',\n",
       " 'earliest',\n",
       " 'earthi',\n",
       " 'enhanc',\n",
       " 'equal',\n",
       " 'especi',\n",
       " 'essenti',\n",
       " 'ethanol',\n",
       " 'ether',\n",
       " 'exampl',\n",
       " 'excel',\n",
       " 'extrem',\n",
       " 'f',\n",
       " 'fact',\n",
       " 'fatti',\n",
       " 'filbert',\n",
       " 'first',\n",
       " 'fixat',\n",
       " 'fl',\n",
       " 'flavicarpa',\n",
       " 'flavor',\n",
       " 'floral',\n",
       " 'foam',\n",
       " 'food',\n",
       " 'formul',\n",
       " 'found',\n",
       " 'fresh',\n",
       " 'fruit',\n",
       " 'fruital',\n",
       " 'fruiti',\n",
       " 'furaneol',\n",
       " 'garlic',\n",
       " 'give',\n",
       " 'grain',\n",
       " 'grape',\n",
       " 'grassi',\n",
       " 'green',\n",
       " 'gum',\n",
       " 'hay',\n",
       " 'hazelnut',\n",
       " 'heliotrop',\n",
       " 'hint',\n",
       " 'ice',\n",
       " 'impart',\n",
       " 'in',\n",
       " 'individu',\n",
       " 'ingredi',\n",
       " 'ingredient',\n",
       " 'insolubl',\n",
       " 'intak',\n",
       " 'intend',\n",
       " 'irrit',\n",
       " 'it',\n",
       " 'keton',\n",
       " 'lacrimatori',\n",
       " 'lb',\n",
       " 'leafi',\n",
       " 'leav',\n",
       " 'less',\n",
       " 'level',\n",
       " 'lik',\n",
       " 'linger',\n",
       " 'liqueur',\n",
       " 'liquid',\n",
       " 'liquor',\n",
       " 'littl',\n",
       " 'malti',\n",
       " 'market',\n",
       " 'materi',\n",
       " 'max',\n",
       " 'meat',\n",
       " 'meati',\n",
       " 'milk',\n",
       " 'miscibl',\n",
       " 'mixtur',\n",
       " 'ml',\n",
       " 'moldi',\n",
       " 'mucilagin',\n",
       " 'musti',\n",
       " 'n',\n",
       " 'nas',\n",
       " 'natur',\n",
       " 'no',\n",
       " 'nonalcohol',\n",
       " 'note',\n",
       " 'nuanc',\n",
       " 'nut',\n",
       " 'nutrient',\n",
       " 'nutti',\n",
       " 'odor',\n",
       " 'odorless',\n",
       " 'oil',\n",
       " 'oili',\n",
       " 'one',\n",
       " 'onion',\n",
       " 'or',\n",
       " 'other',\n",
       " 'panel',\n",
       " 'paper',\n",
       " 'peach',\n",
       " 'peanut',\n",
       " 'peculiar',\n",
       " 'penetr',\n",
       " 'pepper',\n",
       " 'perfum',\n",
       " 'pineappl',\n",
       " 'pineapple',\n",
       " 'pleasant',\n",
       " 'poor',\n",
       " 'possess',\n",
       " 'potato',\n",
       " 'poultri',\n",
       " 'powder',\n",
       " 'powderi',\n",
       " 'ppb',\n",
       " 'ppm',\n",
       " 'practic',\n",
       " 'prior',\n",
       " 'process',\n",
       " 'product',\n",
       " 'prussic',\n",
       " 'pungent',\n",
       " 'pure',\n",
       " 'pyrazin',\n",
       " 'recognit',\n",
       " 'recommend',\n",
       " 'reconstitut',\n",
       " 'red',\n",
       " 'regulatori',\n",
       " 'remov',\n",
       " 'report',\n",
       " 'rind',\n",
       " 'roast',\n",
       " 'rooti',\n",
       " 'sauc',\n",
       " 'sausag',\n",
       " 'savori',\n",
       " 'season',\n",
       " 'seasonings',\n",
       " 'see',\n",
       " 'sen',\n",
       " 'set',\n",
       " 'sherri',\n",
       " 'slight',\n",
       " 'smell',\n",
       " 'smoke',\n",
       " 'smooth',\n",
       " 'snack',\n",
       " 'soapi',\n",
       " 'soft',\n",
       " 'solubl',\n",
       " 'solut',\n",
       " 'solvent',\n",
       " 'somewhat',\n",
       " 'soup',\n",
       " 'sour',\n",
       " 'spici',\n",
       " 'stabil',\n",
       " 'strawberri',\n",
       " 'strong',\n",
       " 'structur',\n",
       " 'substitut',\n",
       " 'sugar',\n",
       " 'sulfur',\n",
       " 'supplement',\n",
       " 'supplementari',\n",
       " 'sweet',\n",
       " 'tang',\n",
       " 'tart',\n",
       " 'tast',\n",
       " 'term',\n",
       " 'the',\n",
       " 'threshold',\n",
       " 'tobacco',\n",
       " 'trade',\n",
       " 'treat',\n",
       " 'tropic',\n",
       " 'tub',\n",
       " 'undesir',\n",
       " 'unpleas',\n",
       " 'use',\n",
       " 'usual',\n",
       " 'valu',\n",
       " 'vanilla',\n",
       " 'veget',\n",
       " 'veri',\n",
       " 'vinegar',\n",
       " 'volatil',\n",
       " 'water',\n",
       " 'waxi',\n",
       " 'white',\n",
       " 'wine',\n",
       " 'winey',\n",
       " 'woodi',\n",
       " 'would',\n",
       " 'yogurt'}"
      ]
     },
     "execution_count": 21,
     "metadata": {},
     "output_type": "execute_result"
    }
   ],
   "source": [
    "flavor_candidates"
   ]
  },
  {
   "cell_type": "markdown",
   "id": "84ee927c-0358-4bab-a821-55c76e1a4e87",
   "metadata": {},
   "source": [
    "Great. This set looks reasonable; it contains many words that could describe a molecule's flavor, as well as many unrelated words."
   ]
  },
  {
   "cell_type": "markdown",
   "id": "2d2fce8e-66ab-4d8d-a014-43f70359dd0c",
   "metadata": {
    "tags": []
   },
   "source": [
    "## Build a lexicon"
   ]
  },
  {
   "cell_type": "markdown",
   "id": "48d2b318-4a1e-46bd-875d-79bfc1fed4b4",
   "metadata": {},
   "source": [
    "Having outlined and demonstrated a reasonable approach above, it's time to apply it to the entire data set to start building the lexicon."
   ]
  },
  {
   "cell_type": "markdown",
   "id": "ae937642-19af-490a-a86e-f37c741fdba4",
   "metadata": {},
   "source": [
    "### Import all the data & clean the descriptions"
   ]
  },
  {
   "cell_type": "code",
   "execution_count": 22,
   "id": "44504ec1-e795-402d-9247-6fe4faf0da33",
   "metadata": {},
   "outputs": [],
   "source": [
    "query = \"\"\"SELECT name, CAS_num, full_description FROM fenaroli\n",
    "           UNION\n",
    "           SELECT name, CAS_num, full_description FROM 'common-materials'\"\"\""
   ]
  },
  {
   "cell_type": "code",
   "execution_count": 23,
   "id": "67d4c3a4-df3d-4767-a926-ffa7d4369b37",
   "metadata": {},
   "outputs": [],
   "source": [
    "with create_engine(\"sqlite:///aromas-flavors.db\").connect() as db:\n",
    "    molecules = pd.read_sql(query, db)"
   ]
  },
  {
   "cell_type": "code",
   "execution_count": 24,
   "id": "dd5f7f90-939a-47c7-8661-3c0ba742629e",
   "metadata": {},
   "outputs": [],
   "source": [
    "molecules = molecules.apply(desc_cleaner, axis = \"columns\")"
   ]
  },
  {
   "cell_type": "code",
   "execution_count": 25,
   "id": "82949817-0bfd-4296-90d2-b059bcd025a4",
   "metadata": {},
   "outputs": [
    {
     "data": {
      "text/html": [
       "<div>\n",
       "<style scoped>\n",
       "    .dataframe tbody tr th:only-of-type {\n",
       "        vertical-align: middle;\n",
       "    }\n",
       "\n",
       "    .dataframe tbody tr th {\n",
       "        vertical-align: top;\n",
       "    }\n",
       "\n",
       "    .dataframe thead th {\n",
       "        text-align: right;\n",
       "    }\n",
       "</style>\n",
       "<table border=\"1\" class=\"dataframe\">\n",
       "  <thead>\n",
       "    <tr style=\"text-align: right;\">\n",
       "      <th></th>\n",
       "      <th>name</th>\n",
       "      <th>CAS_num</th>\n",
       "      <th>full_description</th>\n",
       "      <th>clean_description</th>\n",
       "    </tr>\n",
       "  </thead>\n",
       "  <tbody>\n",
       "    <tr>\n",
       "      <th>0</th>\n",
       "      <td></td>\n",
       "      <td>1-Methyl-2-(1,2,2-trimethyl[3.1.0]hex-3-ylmeth...</td>\n",
       "      <td>C15H26O, Mr 222.37, d20 4 0.947, is a colorles...</td>\n",
       "      <td>c h o mr d colorless viscous liquid power sand...</td>\n",
       "    </tr>\n",
       "    <tr>\n",
       "      <th>1</th>\n",
       "      <td></td>\n",
       "      <td>1196-31-2</td>\n",
       "      <td>*t = 20  (cid:1)  C, **t = 4  (cid:1)  C  bp, ...</td>\n",
       "      <td>cid c cid c bp cid c</td>\n",
       "    </tr>\n",
       "    <tr>\n",
       "      <th>2</th>\n",
       "      <td></td>\n",
       "      <td>12a]</td>\n",
       "      <td>.  In perfumery, acetates are the most importa...</td>\n",
       "      <td>in perfumeri acet import aliphat ester format...</td>\n",
       "    </tr>\n",
       "    <tr>\n",
       "      <th>3</th>\n",
       "      <td></td>\n",
       "      <td>14073-97-3</td>\n",
       "      <td></td>\n",
       "      <td></td>\n",
       "    </tr>\n",
       "    <tr>\n",
       "      <th>4</th>\n",
       "      <td>(+)-Fenchone</td>\n",
       "      <td>7787-20-4</td>\n",
       "      <td>containing a small amount of the ( – ) isomer ...</td>\n",
       "      <td>contain small amount isom prepar dehydrogen fe...</td>\n",
       "    </tr>\n",
       "  </tbody>\n",
       "</table>\n",
       "</div>"
      ],
      "text/plain": [
       "           name                                            CAS_num  \\\n",
       "0                1-Methyl-2-(1,2,2-trimethyl[3.1.0]hex-3-ylmeth...   \n",
       "1                                                        1196-31-2   \n",
       "2                                                             12a]   \n",
       "3                                                       14073-97-3   \n",
       "4  (+)-Fenchone                                          7787-20-4   \n",
       "\n",
       "                                    full_description  \\\n",
       "0  C15H26O, Mr 222.37, d20 4 0.947, is a colorles...   \n",
       "1  *t = 20  (cid:1)  C, **t = 4  (cid:1)  C  bp, ...   \n",
       "2  .  In perfumery, acetates are the most importa...   \n",
       "3                                                      \n",
       "4  containing a small amount of the ( – ) isomer ...   \n",
       "\n",
       "                                   clean_description  \n",
       "0  c h o mr d colorless viscous liquid power sand...  \n",
       "1                               cid c cid c bp cid c  \n",
       "2   in perfumeri acet import aliphat ester format...  \n",
       "3                                                     \n",
       "4  contain small amount isom prepar dehydrogen fe...  "
      ]
     },
     "execution_count": 25,
     "metadata": {},
     "output_type": "execute_result"
    }
   ],
   "source": [
    "molecules.head()"
   ]
  },
  {
   "cell_type": "markdown",
   "id": "61425021-6c92-4bd8-ba11-235ea39943c3",
   "metadata": {},
   "source": [
    "It's already obvious that some errors are present. We already knew that some entries were missing a `name` or `CAS_num`. That doesn't matter at this stage. These errors will be corrected or removed later (after the lexicon is built)."
   ]
  },
  {
   "cell_type": "markdown",
   "id": "361c8b68-66e7-41be-85e2-5279a8086156",
   "metadata": {},
   "source": [
    "### Find candidate aroma & flavor descriptors"
   ]
  },
  {
   "cell_type": "code",
   "execution_count": 26,
   "id": "5091a2d9-dbf8-480b-8c4d-26134b94cc13",
   "metadata": {},
   "outputs": [],
   "source": [
    "molecules = molecules.apply(find_sensory, axis = \"columns\", \n",
    "                            tags = smell_tags, \n",
    "                            window = 4, \n",
    "                            sense_colname = \"aroma_neighbor_words\")"
   ]
  },
  {
   "cell_type": "code",
   "execution_count": 27,
   "id": "4c438085-9191-479f-b251-eef0c6544e5b",
   "metadata": {},
   "outputs": [],
   "source": [
    "molecules = molecules.apply(find_sensory, axis = \"columns\", \n",
    "                            tags = flavor_tags, \n",
    "                            window = 4, \n",
    "                            sense_colname = \"flavor_neighbor_words\")"
   ]
  },
  {
   "cell_type": "code",
   "execution_count": 28,
   "id": "f163a6bf-7617-4ab7-929f-0220fdfe0562",
   "metadata": {},
   "outputs": [
    {
     "data": {
      "text/html": [
       "<div>\n",
       "<style scoped>\n",
       "    .dataframe tbody tr th:only-of-type {\n",
       "        vertical-align: middle;\n",
       "    }\n",
       "\n",
       "    .dataframe tbody tr th {\n",
       "        vertical-align: top;\n",
       "    }\n",
       "\n",
       "    .dataframe thead th {\n",
       "        text-align: right;\n",
       "    }\n",
       "</style>\n",
       "<table border=\"1\" class=\"dataframe\">\n",
       "  <thead>\n",
       "    <tr style=\"text-align: right;\">\n",
       "      <th></th>\n",
       "      <th>name</th>\n",
       "      <th>CAS_num</th>\n",
       "      <th>full_description</th>\n",
       "      <th>clean_description</th>\n",
       "      <th>aroma_neighbor_words</th>\n",
       "      <th>flavor_neighbor_words</th>\n",
       "    </tr>\n",
       "  </thead>\n",
       "  <tbody>\n",
       "    <tr>\n",
       "      <th>2995</th>\n",
       "      <td>Δ-Undecalactone</td>\n",
       "      <td>710-04-3</td>\n",
       "      <td>Synonyms: 5-Hydroxy undecanoic acid, lactone; ...</td>\n",
       "      <td>synonym hydroxi undecano acid lacton n hexyl v...</td>\n",
       "      <td>undecalacton creami peach lik aroma consumpt a...</td>\n",
       "      <td>current level intak use flavor agent trade ass...</td>\n",
       "    </tr>\n",
       "    <tr>\n",
       "      <th>2996</th>\n",
       "      <td>Ε-Decalactone</td>\n",
       "      <td>5579-78-2</td>\n",
       "      <td>Synonyms: 6-Butylhexanolide; 7-Butyl-2-oxepano...</td>\n",
       "      <td>synonym butylhexanolid butyl oxepanon butyloxe...</td>\n",
       "      <td>sweet cream tonka bean odor consumpt annual lb...</td>\n",
       "      <td>current level intak use flavor agent trade ass...</td>\n",
       "    </tr>\n",
       "    <tr>\n",
       "      <th>2997</th>\n",
       "      <td>Ε-Dodecalactone</td>\n",
       "      <td>16429-21-3</td>\n",
       "      <td>Synonyms: epsilon-Dodecalactone; 7-Hexyl-2-oxe...</td>\n",
       "      <td>synonym epsilon dodecalacton hexyl oxepanon he...</td>\n",
       "      <td>fruiti peach apricot celeri odor consumpt annu...</td>\n",
       "      <td>current level intak use flavor agent trade ass...</td>\n",
       "    </tr>\n",
       "    <tr>\n",
       "      <th>2998</th>\n",
       "      <td>Ω-6-Hexadecenlactone</td>\n",
       "      <td>None</td>\n",
       "      <td>Synonyms: omega-6-Hexadecenlactone; Oxacyclohe...</td>\n",
       "      <td>synonym omega hexadecenlacton oxacycloheptadec...</td>\n",
       "      <td>hexadecenlacton strong musk lik odor consumpt ...</td>\n",
       "      <td>current level intak use flavor agent trade ass...</td>\n",
       "    </tr>\n",
       "    <tr>\n",
       "      <th>2999</th>\n",
       "      <td>Ω-Pentadecalactone</td>\n",
       "      <td>106-02-5</td>\n",
       "      <td>Synonyms: Angelica lactone; Exaltolide; ω-Lact...</td>\n",
       "      <td>synonym angelica lacton exaltolid lacton penta...</td>\n",
       "      <td>extraordinarili persist musk lik odor nas no c...</td>\n",
       "      <td>current level intak use flavor agent trade ass...</td>\n",
       "    </tr>\n",
       "  </tbody>\n",
       "</table>\n",
       "</div>"
      ],
      "text/plain": [
       "                      name     CAS_num  \\\n",
       "2995       Δ-Undecalactone    710-04-3   \n",
       "2996         Ε-Decalactone   5579-78-2   \n",
       "2997       Ε-Dodecalactone  16429-21-3   \n",
       "2998  Ω-6-Hexadecenlactone        None   \n",
       "2999    Ω-Pentadecalactone    106-02-5   \n",
       "\n",
       "                                       full_description  \\\n",
       "2995  Synonyms: 5-Hydroxy undecanoic acid, lactone; ...   \n",
       "2996  Synonyms: 6-Butylhexanolide; 7-Butyl-2-oxepano...   \n",
       "2997  Synonyms: epsilon-Dodecalactone; 7-Hexyl-2-oxe...   \n",
       "2998  Synonyms: omega-6-Hexadecenlactone; Oxacyclohe...   \n",
       "2999  Synonyms: Angelica lactone; Exaltolide; ω-Lact...   \n",
       "\n",
       "                                      clean_description  \\\n",
       "2995  synonym hydroxi undecano acid lacton n hexyl v...   \n",
       "2996  synonym butylhexanolid butyl oxepanon butyloxe...   \n",
       "2997  synonym epsilon dodecalacton hexyl oxepanon he...   \n",
       "2998  synonym omega hexadecenlacton oxacycloheptadec...   \n",
       "2999  synonym angelica lacton exaltolid lacton penta...   \n",
       "\n",
       "                                   aroma_neighbor_words  \\\n",
       "2995  undecalacton creami peach lik aroma consumpt a...   \n",
       "2996  sweet cream tonka bean odor consumpt annual lb...   \n",
       "2997  fruiti peach apricot celeri odor consumpt annu...   \n",
       "2998  hexadecenlacton strong musk lik odor consumpt ...   \n",
       "2999  extraordinarili persist musk lik odor nas no c...   \n",
       "\n",
       "                                  flavor_neighbor_words  \n",
       "2995  current level intak use flavor agent trade ass...  \n",
       "2996  current level intak use flavor agent trade ass...  \n",
       "2997  current level intak use flavor agent trade ass...  \n",
       "2998  current level intak use flavor agent trade ass...  \n",
       "2999  current level intak use flavor agent trade ass...  "
      ]
     },
     "execution_count": 28,
     "metadata": {},
     "output_type": "execute_result"
    }
   ],
   "source": [
    "molecules.tail()"
   ]
  },
  {
   "cell_type": "markdown",
   "id": "76594819-a390-4c48-a56d-fdd41c9e9794",
   "metadata": {
    "tags": []
   },
   "source": [
    "Create sets of words that potentially describe taste (`flavor_candidates`) or smell (`aroma_candidates`)"
   ]
  },
  {
   "cell_type": "code",
   "execution_count": 29,
   "id": "178817b9-0204-4a44-a72a-a3e539c2e195",
   "metadata": {},
   "outputs": [
    {
     "name": "stdout",
     "output_type": "stream",
     "text": [
      "Count of words potentially describing flavor:  1619\n"
     ]
    }
   ],
   "source": [
    "flavor_descriptions = \"\"\n",
    "for desc in molecules[\"flavor_neighbor_words\"].tolist():\n",
    "    flavor_descriptions += (desc + \" \")\n",
    "flavor_candidates = set(flavor_descriptions.split(\" \"))\n",
    "print(\"Count of words potentially describing flavor: \", len(flavor_candidates))"
   ]
  },
  {
   "cell_type": "code",
   "execution_count": 30,
   "id": "0629c3fd-351a-42bf-bf31-736663790122",
   "metadata": {},
   "outputs": [
    {
     "name": "stdout",
     "output_type": "stream",
     "text": [
      "Count of words potentially describing flavor:  2853\n"
     ]
    }
   ],
   "source": [
    "aroma_descriptions = \"\"\n",
    "for desc in molecules[\"aroma_neighbor_words\"].tolist():\n",
    "    aroma_descriptions += (desc + \" \")\n",
    "aroma_candidates = set(aroma_descriptions.split(\" \"))\n",
    "print(\"Count of words potentially describing flavor: \", len(aroma_candidates))"
   ]
  },
  {
   "cell_type": "markdown",
   "id": "eac5ac54-d0ae-40cb-b41d-69f5a7bc36cd",
   "metadata": {},
   "source": [
    "Great. A soup of ~4400 words potentially describing flavor or aroma were found."
   ]
  },
  {
   "cell_type": "markdown",
   "id": "13b735d3-a4ef-4f44-81f5-addc89ac5839",
   "metadata": {},
   "source": [
    "### Sort the candidate descriptors"
   ]
  },
  {
   "cell_type": "markdown",
   "id": "4935c916-8786-4d73-84a6-39c68849d156",
   "metadata": {},
   "source": [
    "This is going to be ugly, but again, I can't find a pre-built list or dictionary of standardized words describing flavors or aromas. So, we'll have to sort the words that from `flavor_candidates` and `aroma_candidates` manually."
   ]
  },
  {
   "cell_type": "markdown",
   "id": "f89e9e7f-745c-4561-999c-302a5b8ec29a",
   "metadata": {},
   "source": [
    "I'm going to sort these sets manually in a spreadsheet. So, export the two sets to a CSV:"
   ]
  },
  {
   "cell_type": "code",
   "execution_count": 31,
   "id": "3b9306a2-47b0-413b-8493-efac6c1818b4",
   "metadata": {},
   "outputs": [],
   "source": [
    "import csv"
   ]
  },
  {
   "cell_type": "code",
   "execution_count": 32,
   "id": "98130a91-4dbe-40a9-a346-8788ed3045a7",
   "metadata": {},
   "outputs": [],
   "source": [
    "with open(\"work-in-progress/sense_word_candidates.csv\", \"w\") as file:\n",
    "    filewriter = csv.writer(file, delimiter = \",\")\n",
    "    for candidate in flavor_candidates.union(aroma_candidates):\n",
    "        filewriter.writerow([candidate])"
   ]
  },
  {
   "cell_type": "markdown",
   "id": "f93e2c3b-8307-4c04-b9fc-3b482c260ae1",
   "metadata": {},
   "source": [
    "**>> We'll take a brief intermission here while I go sort the spreadsheet. Back in a flash.**"
   ]
  },
  {
   "cell_type": "code",
   "execution_count": 33,
   "id": "bee99517-0b08-423b-af25-a2aaf2ad61c0",
   "metadata": {},
   "outputs": [],
   "source": [
    "from IPython.display import Image"
   ]
  },
  {
   "cell_type": "code",
   "execution_count": 34,
   "id": "f7dca6f0-71ee-4aa5-96f8-2f665753c12b",
   "metadata": {},
   "outputs": [
    {
     "data": {
      "text/html": [
       "<img src=\"https://freesvg.org/storage/img/thumb/1540863971.png\"/>"
      ],
      "text/plain": [
       "<IPython.core.display.Image object>"
      ]
     },
     "execution_count": 34,
     "metadata": {},
     "output_type": "execute_result"
    }
   ],
   "source": [
    "Image(url=\"https://freesvg.org/storage/img/thumb/1540863971.png\")"
   ]
  },
  {
   "cell_type": "markdown",
   "id": "0b159ebf-d435-42e6-b3ca-b65b94282b49",
   "metadata": {},
   "source": [
    "**...**"
   ]
  },
  {
   "cell_type": "markdown",
   "id": "9483f0a4-fd0c-451e-a464-b0eb03b3683a",
   "metadata": {},
   "source": [
    "**>> Okay, great. All done.**"
   ]
  },
  {
   "cell_type": "markdown",
   "id": "828b144e-7157-407b-b649-851ab16b7322",
   "metadata": {},
   "source": [
    "### Review the lexicon"
   ]
  },
  {
   "cell_type": "markdown",
   "id": "f9eefe11-d5f3-4e87-b719-e61d4c60ee74",
   "metadata": {},
   "source": [
    "Now that the `flavor_candidates` and `aroma_candidates` have been manually sorted and assigned to broad categories (and subcategories!), we have a lexicon of basic words describing flavors and smells. A proper flavorist or perfumist would doubtless have a more appropriate set of categories, but as mentioned above, I could not find a universal lexicon. This will have to do."
   ]
  },
  {
   "cell_type": "code",
   "execution_count": 35,
   "id": "d8c266c8-ea18-4034-b4b5-2b9e8e894fa6",
   "metadata": {},
   "outputs": [
    {
     "data": {
      "text/html": [
       "<div>\n",
       "<style scoped>\n",
       "    .dataframe tbody tr th:only-of-type {\n",
       "        vertical-align: middle;\n",
       "    }\n",
       "\n",
       "    .dataframe tbody tr th {\n",
       "        vertical-align: top;\n",
       "    }\n",
       "\n",
       "    .dataframe thead th {\n",
       "        text-align: right;\n",
       "    }\n",
       "</style>\n",
       "<table border=\"1\" class=\"dataframe\">\n",
       "  <thead>\n",
       "    <tr style=\"text-align: right;\">\n",
       "      <th></th>\n",
       "      <th>category</th>\n",
       "      <th>subcategory</th>\n",
       "    </tr>\n",
       "  </thead>\n",
       "  <tbody>\n",
       "    <tr>\n",
       "      <th>0</th>\n",
       "      <td>brown</td>\n",
       "      <td>NaN</td>\n",
       "    </tr>\n",
       "    <tr>\n",
       "      <th>1</th>\n",
       "      <td>brown</td>\n",
       "      <td>chocolate</td>\n",
       "    </tr>\n",
       "    <tr>\n",
       "      <th>2</th>\n",
       "      <td>brown</td>\n",
       "      <td>vanilla</td>\n",
       "    </tr>\n",
       "    <tr>\n",
       "      <th>3</th>\n",
       "      <td>earthy</td>\n",
       "      <td>NaN</td>\n",
       "    </tr>\n",
       "    <tr>\n",
       "      <th>4</th>\n",
       "      <td>earthy</td>\n",
       "      <td>dry</td>\n",
       "    </tr>\n",
       "    <tr>\n",
       "      <th>5</th>\n",
       "      <td>earthy</td>\n",
       "      <td>fungal</td>\n",
       "    </tr>\n",
       "    <tr>\n",
       "      <th>6</th>\n",
       "      <td>earthy</td>\n",
       "      <td>nutty</td>\n",
       "    </tr>\n",
       "    <tr>\n",
       "      <th>7</th>\n",
       "      <td>earthy</td>\n",
       "      <td>woody</td>\n",
       "    </tr>\n",
       "    <tr>\n",
       "      <th>8</th>\n",
       "      <td>fruity</td>\n",
       "      <td>NaN</td>\n",
       "    </tr>\n",
       "    <tr>\n",
       "      <th>9</th>\n",
       "      <td>fruity</td>\n",
       "      <td>berry</td>\n",
       "    </tr>\n",
       "    <tr>\n",
       "      <th>10</th>\n",
       "      <td>fruity</td>\n",
       "      <td>citrusy</td>\n",
       "    </tr>\n",
       "    <tr>\n",
       "      <th>11</th>\n",
       "      <td>savory</td>\n",
       "      <td>NaN</td>\n",
       "    </tr>\n",
       "    <tr>\n",
       "      <th>12</th>\n",
       "      <td>savory</td>\n",
       "      <td>cooked</td>\n",
       "    </tr>\n",
       "    <tr>\n",
       "      <th>13</th>\n",
       "      <td>savory</td>\n",
       "      <td>fishy</td>\n",
       "    </tr>\n",
       "    <tr>\n",
       "      <th>14</th>\n",
       "      <td>savory</td>\n",
       "      <td>meaty</td>\n",
       "    </tr>\n",
       "    <tr>\n",
       "      <th>15</th>\n",
       "      <td>sharp</td>\n",
       "      <td>NaN</td>\n",
       "    </tr>\n",
       "    <tr>\n",
       "      <th>16</th>\n",
       "      <td>sharp</td>\n",
       "      <td>bitter</td>\n",
       "    </tr>\n",
       "    <tr>\n",
       "      <th>17</th>\n",
       "      <td>sharp</td>\n",
       "      <td>chemical</td>\n",
       "    </tr>\n",
       "    <tr>\n",
       "      <th>18</th>\n",
       "      <td>sharp</td>\n",
       "      <td>repugnant</td>\n",
       "    </tr>\n",
       "    <tr>\n",
       "      <th>19</th>\n",
       "      <td>sharp</td>\n",
       "      <td>salty</td>\n",
       "    </tr>\n",
       "    <tr>\n",
       "      <th>20</th>\n",
       "      <td>sharp</td>\n",
       "      <td>sour</td>\n",
       "    </tr>\n",
       "    <tr>\n",
       "      <th>21</th>\n",
       "      <td>sharp</td>\n",
       "      <td>spicy</td>\n",
       "    </tr>\n",
       "    <tr>\n",
       "      <th>22</th>\n",
       "      <td>sharp</td>\n",
       "      <td>sulfurous</td>\n",
       "    </tr>\n",
       "    <tr>\n",
       "      <th>23</th>\n",
       "      <td>starchy</td>\n",
       "      <td>NaN</td>\n",
       "    </tr>\n",
       "    <tr>\n",
       "      <th>24</th>\n",
       "      <td>starchy</td>\n",
       "      <td>bready</td>\n",
       "    </tr>\n",
       "    <tr>\n",
       "      <th>25</th>\n",
       "      <td>vegetal</td>\n",
       "      <td>NaN</td>\n",
       "    </tr>\n",
       "    <tr>\n",
       "      <th>26</th>\n",
       "      <td>vegetal</td>\n",
       "      <td>allium</td>\n",
       "    </tr>\n",
       "    <tr>\n",
       "      <th>27</th>\n",
       "      <td>vegetal</td>\n",
       "      <td>herbal</td>\n",
       "    </tr>\n",
       "    <tr>\n",
       "      <th>28</th>\n",
       "      <td>vegetal</td>\n",
       "      <td>vegetable</td>\n",
       "    </tr>\n",
       "  </tbody>\n",
       "</table>\n",
       "</div>"
      ],
      "text/plain": [
       "   category subcategory\n",
       "0     brown         NaN\n",
       "1     brown   chocolate\n",
       "2     brown     vanilla\n",
       "3    earthy         NaN\n",
       "4    earthy         dry\n",
       "5    earthy      fungal\n",
       "6    earthy       nutty\n",
       "7    earthy       woody\n",
       "8    fruity         NaN\n",
       "9    fruity       berry\n",
       "10   fruity     citrusy\n",
       "11   savory         NaN\n",
       "12   savory      cooked\n",
       "13   savory       fishy\n",
       "14   savory       meaty\n",
       "15    sharp         NaN\n",
       "16    sharp      bitter\n",
       "17    sharp    chemical\n",
       "18    sharp   repugnant\n",
       "19    sharp       salty\n",
       "20    sharp        sour\n",
       "21    sharp       spicy\n",
       "22    sharp   sulfurous\n",
       "23  starchy         NaN\n",
       "24  starchy      bready\n",
       "25  vegetal         NaN\n",
       "26  vegetal      allium\n",
       "27  vegetal      herbal\n",
       "28  vegetal   vegetable"
      ]
     },
     "execution_count": 35,
     "metadata": {},
     "output_type": "execute_result"
    }
   ],
   "source": [
    "lexicon = pd.read_csv(\"lexicon.csv\")\n",
    "lexicon"
   ]
  },
  {
   "cell_type": "markdown",
   "id": "d384b8d1-e42d-4a97-b22d-bd3d849d22c3",
   "metadata": {},
   "source": [
    "I also created a dictionary that assigns each stemmed descriptor to one or more categories / subcategories:"
   ]
  },
  {
   "cell_type": "code",
   "execution_count": 36,
   "id": "0ee04eef-4176-43b0-bcbd-34b286b80eb4",
   "metadata": {},
   "outputs": [],
   "source": [
    "stem_translator = {}\n",
    "with open(\"stems-to-lexicon.csv\") as file:\n",
    "    reader = csv.DictReader(file)\n",
    "    for row in reader:\n",
    "        stem = row[\"word_stem\"]\n",
    "        desc = \"\"\n",
    "        for i in [1, 2, 3]:\n",
    "            if row[\"Category_\" + str(i)]:\n",
    "                desc +=row [\"Category_\" + str(i)]\n",
    "                if row[\"Subcategory_\" + str(i)]:\n",
    "                    desc += (\"|\" + row[\"Subcategory_\" + str(i)])\n",
    "                desc += \" \"\n",
    "        stem_translator[stem] = desc.rstrip()"
   ]
  },
  {
   "cell_type": "code",
   "execution_count": 37,
   "id": "e8d4aafa-93c6-40fc-b5c9-1e024be1a9f5",
   "metadata": {},
   "outputs": [
    {
     "data": {
      "text/plain": [
       "'fruity'"
      ]
     },
     "execution_count": 37,
     "metadata": {},
     "output_type": "execute_result"
    }
   ],
   "source": [
    "stem_translator[\"apple\"]"
   ]
  },
  {
   "cell_type": "code",
   "execution_count": 38,
   "id": "369ff812-3e6d-45f3-b6d9-c3a6adf675bd",
   "metadata": {},
   "outputs": [
    {
     "data": {
      "text/plain": [
       "'starchy|bready savory|cooked'"
      ]
     },
     "execution_count": 38,
     "metadata": {},
     "output_type": "execute_result"
    }
   ],
   "source": [
    "stem_translator[\"toast\"]"
   ]
  },
  {
   "cell_type": "markdown",
   "id": "aec75ff4-2544-44fa-a427-4646e355f1ce",
   "metadata": {},
   "source": [
    "## Assign molecules to categories of flavors & smells"
   ]
  },
  {
   "cell_type": "markdown",
   "id": "748c8b42-0c19-48df-856a-915937c4f507",
   "metadata": {},
   "source": [
    "Now it's time to put everything together! Using the `find_sensory` function defined above, I'll search through the `aroma_neighbor_words` and `flavor_neighbor_words` columns of the dataframe to find `descriptors` that have a categorical definition in the new lexicon. "
   ]
  },
  {
   "cell_type": "code",
   "execution_count": 39,
   "id": "fdcbfdc3-bf46-4764-9675-9c8571188408",
   "metadata": {},
   "outputs": [],
   "source": [
    "def assign_sense_categories(row, search_column: str, result_column: str, sensory_dict: dict):\n",
    "    \"\"\"\n",
    "    Called:\n",
    "        By user.\n",
    "    Purpose:\n",
    "        Iterate over the words in search_column. When one is found that is\n",
    "        defined in sensory_dict, append that definition to result_column.\n",
    "    Accepts:\n",
    "        row: a row of a Pandas dataframe\n",
    "        search_column: a string that is the name of a column in the dataframe\n",
    "        result_column: a string that is the name of a column in the dataframe\n",
    "        sensory_dict: a dict translating stemmed words into sensory categories\n",
    "    Returns:\n",
    "        a modified row of the dataframe\n",
    "    \"\"\"\n",
    "    \n",
    "    translation = set()\n",
    "    \n",
    "    # Search the dict for translations of the stemmed word\n",
    "    for word in row[search_column].split(\" \"):\n",
    "        if word in sensory_dict.keys():\n",
    "            translation.update(sensory_dict[word].split(\" \"))\n",
    "    \n",
    "    # If no translation is found, return None instead.\n",
    "    if len(translation) > 0:\n",
    "        row[result_column] = \" \".join(translation)\n",
    "    else:\n",
    "        row[result_column] = None\n",
    "       \n",
    "    return row"
   ]
  },
  {
   "cell_type": "markdown",
   "id": "954b1330-da99-4145-8a89-7951b2ef07f7",
   "metadata": {},
   "source": [
    "Apply the function for categorizing aroma words:"
   ]
  },
  {
   "cell_type": "code",
   "execution_count": 40,
   "id": "fb159929-c46c-4db2-a8ec-d0c9c51b57c2",
   "metadata": {},
   "outputs": [],
   "source": [
    "molecules = molecules.apply(assign_sense_categories,\n",
    "                            search_column = \"aroma_neighbor_words\",\n",
    "                            result_column = \"aroma\",\n",
    "                            sensory_dict = stem_translator,\n",
    "                            axis = \"columns\")"
   ]
  },
  {
   "cell_type": "markdown",
   "id": "aa33fc97-5272-4131-8786-a3cbce1f4ba9",
   "metadata": {},
   "source": [
    "And also for flavor words:"
   ]
  },
  {
   "cell_type": "code",
   "execution_count": 41,
   "id": "3c7c231d-33c4-4c8c-8729-fc816ffea9e0",
   "metadata": {},
   "outputs": [],
   "source": [
    "molecules = molecules.apply(assign_sense_categories,\n",
    "                            search_column = \"flavor_neighbor_words\",\n",
    "                            result_column = \"flavor\",\n",
    "                            sensory_dict = stem_translator,\n",
    "                            axis = \"columns\")"
   ]
  },
  {
   "cell_type": "code",
   "execution_count": 42,
   "id": "59a6366a-1d50-4c2e-94ea-9284cd3e1b8b",
   "metadata": {},
   "outputs": [
    {
     "data": {
      "text/html": [
       "<div>\n",
       "<style scoped>\n",
       "    .dataframe tbody tr th:only-of-type {\n",
       "        vertical-align: middle;\n",
       "    }\n",
       "\n",
       "    .dataframe tbody tr th {\n",
       "        vertical-align: top;\n",
       "    }\n",
       "\n",
       "    .dataframe thead th {\n",
       "        text-align: right;\n",
       "    }\n",
       "</style>\n",
       "<table border=\"1\" class=\"dataframe\">\n",
       "  <thead>\n",
       "    <tr style=\"text-align: right;\">\n",
       "      <th></th>\n",
       "      <th>name</th>\n",
       "      <th>CAS_num</th>\n",
       "      <th>full_description</th>\n",
       "      <th>clean_description</th>\n",
       "      <th>aroma_neighbor_words</th>\n",
       "      <th>flavor_neighbor_words</th>\n",
       "      <th>aroma</th>\n",
       "      <th>flavor</th>\n",
       "    </tr>\n",
       "  </thead>\n",
       "  <tbody>\n",
       "    <tr>\n",
       "      <th>0</th>\n",
       "      <td></td>\n",
       "      <td>1-Methyl-2-(1,2,2-trimethyl[3.1.0]hex-3-ylmeth...</td>\n",
       "      <td>C15H26O, Mr 222.37, d20 4 0.947, is a colorles...</td>\n",
       "      <td>c h o mr d colorless viscous liquid power sand...</td>\n",
       "      <td>liquid power sandel wood odor creami rosi unde...</td>\n",
       "      <td></td>\n",
       "      <td>floral earthy|woody</td>\n",
       "      <td>None</td>\n",
       "    </tr>\n",
       "    <tr>\n",
       "      <th>1</th>\n",
       "      <td></td>\n",
       "      <td>1196-31-2</td>\n",
       "      <td>*t = 20  (cid:1)  C, **t = 4  (cid:1)  C  bp, ...</td>\n",
       "      <td>cid c cid c bp cid c</td>\n",
       "      <td></td>\n",
       "      <td></td>\n",
       "      <td>None</td>\n",
       "      <td>None</td>\n",
       "    </tr>\n",
       "    <tr>\n",
       "      <th>2</th>\n",
       "      <td></td>\n",
       "      <td>12a]</td>\n",
       "      <td>.  In perfumery, acetates are the most importa...</td>\n",
       "      <td>in perfumeri acet import aliphat ester format...</td>\n",
       "      <td>ester prefer artifici fruit aroma natur acet e...</td>\n",
       "      <td>use conif note in flavor composit aliphat ester</td>\n",
       "      <td>fruity</td>\n",
       "      <td>earthy|woody</td>\n",
       "    </tr>\n",
       "    <tr>\n",
       "      <th>3</th>\n",
       "      <td></td>\n",
       "      <td>14073-97-3</td>\n",
       "      <td></td>\n",
       "      <td></td>\n",
       "      <td></td>\n",
       "      <td></td>\n",
       "      <td>None</td>\n",
       "      <td>None</td>\n",
       "    </tr>\n",
       "    <tr>\n",
       "      <th>4</th>\n",
       "      <td>(+)-Fenchone</td>\n",
       "      <td>7787-20-4</td>\n",
       "      <td>containing a small amount of the ( – ) isomer ...</td>\n",
       "      <td>contain small amount isom prepar dehydrogen fe...</td>\n",
       "      <td></td>\n",
       "      <td>obtain cid individu fragranc flavor materi alo...</td>\n",
       "      <td>None</td>\n",
       "      <td>None</td>\n",
       "    </tr>\n",
       "    <tr>\n",
       "      <th>...</th>\n",
       "      <td>...</td>\n",
       "      <td>...</td>\n",
       "      <td>...</td>\n",
       "      <td>...</td>\n",
       "      <td>...</td>\n",
       "      <td>...</td>\n",
       "      <td>...</td>\n",
       "      <td>...</td>\n",
       "    </tr>\n",
       "    <tr>\n",
       "      <th>2995</th>\n",
       "      <td>Δ-Undecalactone</td>\n",
       "      <td>710-04-3</td>\n",
       "      <td>Synonyms: 5-Hydroxy undecanoic acid, lactone; ...</td>\n",
       "      <td>synonym hydroxi undecano acid lacton n hexyl v...</td>\n",
       "      <td>undecalacton creami peach lik aroma consumpt a...</td>\n",
       "      <td>current level intak use flavor agent trade ass...</td>\n",
       "      <td>fruity</td>\n",
       "      <td>fruity brown fruity|berry</td>\n",
       "    </tr>\n",
       "    <tr>\n",
       "      <th>2996</th>\n",
       "      <td>Ε-Decalactone</td>\n",
       "      <td>5579-78-2</td>\n",
       "      <td>Synonyms: 6-Butylhexanolide; 7-Butyl-2-oxepano...</td>\n",
       "      <td>synonym butylhexanolid butyl oxepanon butyloxe...</td>\n",
       "      <td>sweet cream tonka bean odor consumpt annual lb...</td>\n",
       "      <td>current level intak use flavor agent trade ass...</td>\n",
       "      <td>starchy dairy</td>\n",
       "      <td>None</td>\n",
       "    </tr>\n",
       "    <tr>\n",
       "      <th>2997</th>\n",
       "      <td>Ε-Dodecalactone</td>\n",
       "      <td>16429-21-3</td>\n",
       "      <td>Synonyms: epsilon-Dodecalactone; 7-Hexyl-2-oxe...</td>\n",
       "      <td>synonym epsilon dodecalacton hexyl oxepanon he...</td>\n",
       "      <td>fruiti peach apricot celeri odor consumpt annu...</td>\n",
       "      <td>current level intak use flavor agent trade ass...</td>\n",
       "      <td>fruity vegetal|vegetable</td>\n",
       "      <td>None</td>\n",
       "    </tr>\n",
       "    <tr>\n",
       "      <th>2998</th>\n",
       "      <td>Ω-6-Hexadecenlactone</td>\n",
       "      <td>None</td>\n",
       "      <td>Synonyms: omega-6-Hexadecenlactone; Oxacyclohe...</td>\n",
       "      <td>synonym omega hexadecenlacton oxacycloheptadec...</td>\n",
       "      <td>hexadecenlacton strong musk lik odor consumpt ...</td>\n",
       "      <td>current level intak use flavor agent trade ass...</td>\n",
       "      <td>floral earthy|woody</td>\n",
       "      <td>vegetal fruity|berry</td>\n",
       "    </tr>\n",
       "    <tr>\n",
       "      <th>2999</th>\n",
       "      <td>Ω-Pentadecalactone</td>\n",
       "      <td>106-02-5</td>\n",
       "      <td>Synonyms: Angelica lactone; Exaltolide; ω-Lact...</td>\n",
       "      <td>synonym angelica lacton exaltolid lacton penta...</td>\n",
       "      <td>extraordinarili persist musk lik odor nas no c...</td>\n",
       "      <td>current level intak use flavor agent trade ass...</td>\n",
       "      <td>earthy|woody</td>\n",
       "      <td>brown|vanilla</td>\n",
       "    </tr>\n",
       "  </tbody>\n",
       "</table>\n",
       "<p>3000 rows × 8 columns</p>\n",
       "</div>"
      ],
      "text/plain": [
       "                      name                                            CAS_num  \\\n",
       "0                           1-Methyl-2-(1,2,2-trimethyl[3.1.0]hex-3-ylmeth...   \n",
       "1                                                                   1196-31-2   \n",
       "2                                                                        12a]   \n",
       "3                                                                  14073-97-3   \n",
       "4             (+)-Fenchone                                          7787-20-4   \n",
       "...                    ...                                                ...   \n",
       "2995       Δ-Undecalactone                                           710-04-3   \n",
       "2996         Ε-Decalactone                                          5579-78-2   \n",
       "2997       Ε-Dodecalactone                                         16429-21-3   \n",
       "2998  Ω-6-Hexadecenlactone                                               None   \n",
       "2999    Ω-Pentadecalactone                                           106-02-5   \n",
       "\n",
       "                                       full_description  \\\n",
       "0     C15H26O, Mr 222.37, d20 4 0.947, is a colorles...   \n",
       "1     *t = 20  (cid:1)  C, **t = 4  (cid:1)  C  bp, ...   \n",
       "2     .  In perfumery, acetates are the most importa...   \n",
       "3                                                         \n",
       "4     containing a small amount of the ( – ) isomer ...   \n",
       "...                                                 ...   \n",
       "2995  Synonyms: 5-Hydroxy undecanoic acid, lactone; ...   \n",
       "2996  Synonyms: 6-Butylhexanolide; 7-Butyl-2-oxepano...   \n",
       "2997  Synonyms: epsilon-Dodecalactone; 7-Hexyl-2-oxe...   \n",
       "2998  Synonyms: omega-6-Hexadecenlactone; Oxacyclohe...   \n",
       "2999  Synonyms: Angelica lactone; Exaltolide; ω-Lact...   \n",
       "\n",
       "                                      clean_description  \\\n",
       "0     c h o mr d colorless viscous liquid power sand...   \n",
       "1                                  cid c cid c bp cid c   \n",
       "2      in perfumeri acet import aliphat ester format...   \n",
       "3                                                         \n",
       "4     contain small amount isom prepar dehydrogen fe...   \n",
       "...                                                 ...   \n",
       "2995  synonym hydroxi undecano acid lacton n hexyl v...   \n",
       "2996  synonym butylhexanolid butyl oxepanon butyloxe...   \n",
       "2997  synonym epsilon dodecalacton hexyl oxepanon he...   \n",
       "2998  synonym omega hexadecenlacton oxacycloheptadec...   \n",
       "2999  synonym angelica lacton exaltolid lacton penta...   \n",
       "\n",
       "                                   aroma_neighbor_words  \\\n",
       "0     liquid power sandel wood odor creami rosi unde...   \n",
       "1                                                         \n",
       "2     ester prefer artifici fruit aroma natur acet e...   \n",
       "3                                                         \n",
       "4                                                         \n",
       "...                                                 ...   \n",
       "2995  undecalacton creami peach lik aroma consumpt a...   \n",
       "2996  sweet cream tonka bean odor consumpt annual lb...   \n",
       "2997  fruiti peach apricot celeri odor consumpt annu...   \n",
       "2998  hexadecenlacton strong musk lik odor consumpt ...   \n",
       "2999  extraordinarili persist musk lik odor nas no c...   \n",
       "\n",
       "                                  flavor_neighbor_words  \\\n",
       "0                                                         \n",
       "1                                                         \n",
       "2       use conif note in flavor composit aliphat ester   \n",
       "3                                                         \n",
       "4     obtain cid individu fragranc flavor materi alo...   \n",
       "...                                                 ...   \n",
       "2995  current level intak use flavor agent trade ass...   \n",
       "2996  current level intak use flavor agent trade ass...   \n",
       "2997  current level intak use flavor agent trade ass...   \n",
       "2998  current level intak use flavor agent trade ass...   \n",
       "2999  current level intak use flavor agent trade ass...   \n",
       "\n",
       "                         aroma                     flavor  \n",
       "0          floral earthy|woody                       None  \n",
       "1                         None                       None  \n",
       "2                       fruity               earthy|woody  \n",
       "3                         None                       None  \n",
       "4                         None                       None  \n",
       "...                        ...                        ...  \n",
       "2995                    fruity  fruity brown fruity|berry  \n",
       "2996             starchy dairy                       None  \n",
       "2997  fruity vegetal|vegetable                       None  \n",
       "2998       floral earthy|woody       vegetal fruity|berry  \n",
       "2999              earthy|woody              brown|vanilla  \n",
       "\n",
       "[3000 rows x 8 columns]"
      ]
     },
     "execution_count": 42,
     "metadata": {},
     "output_type": "execute_result"
    }
   ],
   "source": [
    "molecules"
   ]
  },
  {
   "cell_type": "markdown",
   "id": "919bc5c4-75bd-4c26-93ad-c0e007dc5a3a",
   "metadata": {},
   "source": [
    "*Fantastic.* It looks like the flavor & smell descriptors have been appropriately parsed & categorized into the `aroma` and `flavor` columns."
   ]
  },
  {
   "cell_type": "markdown",
   "id": "c5564372-9df7-4389-bb8c-b5dcd3b29899",
   "metadata": {},
   "source": [
    "## Clean up the resulting dataframe"
   ]
  },
  {
   "cell_type": "markdown",
   "id": "d88875b8-eb0b-453b-9ef7-a4c339821ebb",
   "metadata": {},
   "source": [
    "The `molecules` dataframe contains all the useful information we need, but also a lot of unusable fluff. Some rows are missing a `CAS_num`, and others have neither an `aroma` or `flavor` that are characterized. Create a copy of the `molecules` dataframe to clean up:"
   ]
  },
  {
   "cell_type": "code",
   "execution_count": 43,
   "id": "28648686-ebe2-4666-8752-6b17afef6f15",
   "metadata": {},
   "outputs": [],
   "source": [
    "keep_cols = [\"name\", \"CAS_num\", \"aroma\", \"flavor\"]\n",
    "aromas_flavors = molecules[keep_cols]"
   ]
  },
  {
   "cell_type": "markdown",
   "id": "7d3e12cd-0711-41ac-b50c-5a0f47dc4537",
   "metadata": {},
   "source": [
    "### Remove rows missing critical values"
   ]
  },
  {
   "cell_type": "markdown",
   "id": "6c467ef0-451b-4b94-b1b2-f1aa2b3ddb0b",
   "metadata": {},
   "source": [
    "Remove the rows that have neither an `aroma` nor a `flavor`:"
   ]
  },
  {
   "cell_type": "code",
   "execution_count": 44,
   "id": "7bfe710f-b005-4929-b082-9b3e7d9b54f2",
   "metadata": {},
   "outputs": [
    {
     "data": {
      "text/html": [
       "<div>\n",
       "<style scoped>\n",
       "    .dataframe tbody tr th:only-of-type {\n",
       "        vertical-align: middle;\n",
       "    }\n",
       "\n",
       "    .dataframe tbody tr th {\n",
       "        vertical-align: top;\n",
       "    }\n",
       "\n",
       "    .dataframe thead th {\n",
       "        text-align: right;\n",
       "    }\n",
       "</style>\n",
       "<table border=\"1\" class=\"dataframe\">\n",
       "  <thead>\n",
       "    <tr style=\"text-align: right;\">\n",
       "      <th></th>\n",
       "      <th>name</th>\n",
       "      <th>CAS_num</th>\n",
       "      <th>aroma</th>\n",
       "      <th>flavor</th>\n",
       "    </tr>\n",
       "  </thead>\n",
       "  <tbody>\n",
       "    <tr>\n",
       "      <th>0</th>\n",
       "      <td></td>\n",
       "      <td>1-Methyl-2-(1,2,2-trimethyl[3.1.0]hex-3-ylmeth...</td>\n",
       "      <td>floral earthy|woody</td>\n",
       "      <td>None</td>\n",
       "    </tr>\n",
       "    <tr>\n",
       "      <th>2</th>\n",
       "      <td></td>\n",
       "      <td>12a]</td>\n",
       "      <td>fruity</td>\n",
       "      <td>earthy|woody</td>\n",
       "    </tr>\n",
       "    <tr>\n",
       "      <th>5</th>\n",
       "      <td>(+)-Menthofuran</td>\n",
       "      <td>17957-94-7</td>\n",
       "      <td>fruity floral fatty fruity|citrusy</td>\n",
       "      <td>None</td>\n",
       "    </tr>\n",
       "    <tr>\n",
       "      <th>7</th>\n",
       "      <td>(+/-)-1-Hepten-3-Ol</td>\n",
       "      <td>4938-52-7</td>\n",
       "      <td>fatty dairy</td>\n",
       "      <td>vegetal fruity sharp|chemical liquorlike</td>\n",
       "    </tr>\n",
       "    <tr>\n",
       "      <th>8</th>\n",
       "      <td>(+/-)-2,4,8-Trimethyl-7-Nonen-2-Ol</td>\n",
       "      <td>437770-28-0</td>\n",
       "      <td>fruity fruity|citrusy</td>\n",
       "      <td>fruity|berry fruity|citrusy</td>\n",
       "    </tr>\n",
       "    <tr>\n",
       "      <th>...</th>\n",
       "      <td>...</td>\n",
       "      <td>...</td>\n",
       "      <td>...</td>\n",
       "      <td>...</td>\n",
       "    </tr>\n",
       "    <tr>\n",
       "      <th>2995</th>\n",
       "      <td>Δ-Undecalactone</td>\n",
       "      <td>710-04-3</td>\n",
       "      <td>fruity</td>\n",
       "      <td>fruity brown fruity|berry</td>\n",
       "    </tr>\n",
       "    <tr>\n",
       "      <th>2996</th>\n",
       "      <td>Ε-Decalactone</td>\n",
       "      <td>5579-78-2</td>\n",
       "      <td>starchy dairy</td>\n",
       "      <td>None</td>\n",
       "    </tr>\n",
       "    <tr>\n",
       "      <th>2997</th>\n",
       "      <td>Ε-Dodecalactone</td>\n",
       "      <td>16429-21-3</td>\n",
       "      <td>fruity vegetal|vegetable</td>\n",
       "      <td>None</td>\n",
       "    </tr>\n",
       "    <tr>\n",
       "      <th>2998</th>\n",
       "      <td>Ω-6-Hexadecenlactone</td>\n",
       "      <td>None</td>\n",
       "      <td>floral earthy|woody</td>\n",
       "      <td>vegetal fruity|berry</td>\n",
       "    </tr>\n",
       "    <tr>\n",
       "      <th>2999</th>\n",
       "      <td>Ω-Pentadecalactone</td>\n",
       "      <td>106-02-5</td>\n",
       "      <td>earthy|woody</td>\n",
       "      <td>brown|vanilla</td>\n",
       "    </tr>\n",
       "  </tbody>\n",
       "</table>\n",
       "<p>2489 rows × 4 columns</p>\n",
       "</div>"
      ],
      "text/plain": [
       "                                    name  \\\n",
       "0                                          \n",
       "2                                          \n",
       "5                        (+)-Menthofuran   \n",
       "7                    (+/-)-1-Hepten-3-Ol   \n",
       "8     (+/-)-2,4,8-Trimethyl-7-Nonen-2-Ol   \n",
       "...                                  ...   \n",
       "2995                     Δ-Undecalactone   \n",
       "2996                       Ε-Decalactone   \n",
       "2997                     Ε-Dodecalactone   \n",
       "2998                Ω-6-Hexadecenlactone   \n",
       "2999                  Ω-Pentadecalactone   \n",
       "\n",
       "                                                CAS_num  \\\n",
       "0     1-Methyl-2-(1,2,2-trimethyl[3.1.0]hex-3-ylmeth...   \n",
       "2                                                  12a]   \n",
       "5                                            17957-94-7   \n",
       "7                                             4938-52-7   \n",
       "8                                           437770-28-0   \n",
       "...                                                 ...   \n",
       "2995                                           710-04-3   \n",
       "2996                                          5579-78-2   \n",
       "2997                                         16429-21-3   \n",
       "2998                                               None   \n",
       "2999                                           106-02-5   \n",
       "\n",
       "                                   aroma  \\\n",
       "0                    floral earthy|woody   \n",
       "2                                 fruity   \n",
       "5     fruity floral fatty fruity|citrusy   \n",
       "7                            fatty dairy   \n",
       "8                  fruity fruity|citrusy   \n",
       "...                                  ...   \n",
       "2995                              fruity   \n",
       "2996                       starchy dairy   \n",
       "2997            fruity vegetal|vegetable   \n",
       "2998                 floral earthy|woody   \n",
       "2999                        earthy|woody   \n",
       "\n",
       "                                        flavor  \n",
       "0                                         None  \n",
       "2                                 earthy|woody  \n",
       "5                                         None  \n",
       "7     vegetal fruity sharp|chemical liquorlike  \n",
       "8                  fruity|berry fruity|citrusy  \n",
       "...                                        ...  \n",
       "2995                 fruity brown fruity|berry  \n",
       "2996                                      None  \n",
       "2997                                      None  \n",
       "2998                      vegetal fruity|berry  \n",
       "2999                             brown|vanilla  \n",
       "\n",
       "[2489 rows x 4 columns]"
      ]
     },
     "execution_count": 44,
     "metadata": {},
     "output_type": "execute_result"
    }
   ],
   "source": [
    "aromas_flavors = aromas_flavors[pd.notna(aromas_flavors[\"flavor\"]) | pd.notna(aromas_flavors[\"aroma\"])]\n",
    "aromas_flavors"
   ]
  },
  {
   "cell_type": "markdown",
   "id": "6ae12001-c765-4fe2-9826-fbc005573c95",
   "metadata": {},
   "source": [
    "Also remove the rows that have neither a `name` or a `CAS_num`."
   ]
  },
  {
   "cell_type": "code",
   "execution_count": 45,
   "id": "85387a24-980e-43c1-8fc6-38f30bb82e8c",
   "metadata": {},
   "outputs": [],
   "source": [
    "def invalid_to_na(row, colname: str, min_len: int, max_len: int):\n",
    "    \"\"\"\n",
    "    Called:\n",
    "        By user.\n",
    "    Purpose:\n",
    "        Check the validity of the value in the `colname` column of a dataframe\n",
    "        by ensuring its length falls between minimum and maximum limits.\n",
    "    Accepts:\n",
    "        row: a row of a Pandas dataframe\n",
    "        colname: a string that is the name of a column in the dataframe\n",
    "        min_len: an int defining the minimum acceptable length of the string\n",
    "            data in colname\n",
    "        max_len: an int defining the maximum acceptable length of the string\n",
    "            data in colname\n",
    "    Returns:\n",
    "        a modified row of the dataframe\n",
    "    \"\"\"\n",
    "    \n",
    "    if row[colname] and len(row[colname]) > min_len and len(row[colname]) < max_len:\n",
    "        pass\n",
    "    else:\n",
    "        row[colname] = None\n",
    "    \n",
    "    return row"
   ]
  },
  {
   "cell_type": "code",
   "execution_count": 46,
   "id": "5c8fbafc-5bd4-4da6-9ef7-723147b62c3e",
   "metadata": {},
   "outputs": [
    {
     "data": {
      "text/html": [
       "<div>\n",
       "<style scoped>\n",
       "    .dataframe tbody tr th:only-of-type {\n",
       "        vertical-align: middle;\n",
       "    }\n",
       "\n",
       "    .dataframe tbody tr th {\n",
       "        vertical-align: top;\n",
       "    }\n",
       "\n",
       "    .dataframe thead th {\n",
       "        text-align: right;\n",
       "    }\n",
       "</style>\n",
       "<table border=\"1\" class=\"dataframe\">\n",
       "  <thead>\n",
       "    <tr style=\"text-align: right;\">\n",
       "      <th></th>\n",
       "      <th>name</th>\n",
       "      <th>CAS_num</th>\n",
       "      <th>aroma</th>\n",
       "      <th>flavor</th>\n",
       "    </tr>\n",
       "  </thead>\n",
       "  <tbody>\n",
       "    <tr>\n",
       "      <th>5</th>\n",
       "      <td>(+)-Menthofuran</td>\n",
       "      <td>17957-94-7</td>\n",
       "      <td>fruity floral fatty fruity|citrusy</td>\n",
       "      <td>None</td>\n",
       "    </tr>\n",
       "    <tr>\n",
       "      <th>7</th>\n",
       "      <td>(+/-)-1-Hepten-3-Ol</td>\n",
       "      <td>4938-52-7</td>\n",
       "      <td>fatty dairy</td>\n",
       "      <td>vegetal fruity sharp|chemical liquorlike</td>\n",
       "    </tr>\n",
       "    <tr>\n",
       "      <th>8</th>\n",
       "      <td>(+/-)-2,4,8-Trimethyl-7-Nonen-2-Ol</td>\n",
       "      <td>437770-28-0</td>\n",
       "      <td>fruity fruity|citrusy</td>\n",
       "      <td>fruity|berry fruity|citrusy</td>\n",
       "    </tr>\n",
       "    <tr>\n",
       "      <th>9</th>\n",
       "      <td>(+/-)-2,8-Epithio-Cis-P-Menthane</td>\n",
       "      <td>68398-18-5</td>\n",
       "      <td>earthy fruity|citrusy</td>\n",
       "      <td>vegetal fruity sharp|sulfurous fruity|citrusy</td>\n",
       "    </tr>\n",
       "    <tr>\n",
       "      <th>10</th>\n",
       "      <td>(+/-)-2-Hydroxypiperitone</td>\n",
       "      <td>490-03-9</td>\n",
       "      <td>vegetal fruity|berry vegetal|herbal</td>\n",
       "      <td>fruity</td>\n",
       "    </tr>\n",
       "    <tr>\n",
       "      <th>...</th>\n",
       "      <td>...</td>\n",
       "      <td>...</td>\n",
       "      <td>...</td>\n",
       "      <td>...</td>\n",
       "    </tr>\n",
       "    <tr>\n",
       "      <th>2995</th>\n",
       "      <td>Δ-Undecalactone</td>\n",
       "      <td>710-04-3</td>\n",
       "      <td>fruity</td>\n",
       "      <td>fruity brown fruity|berry</td>\n",
       "    </tr>\n",
       "    <tr>\n",
       "      <th>2996</th>\n",
       "      <td>Ε-Decalactone</td>\n",
       "      <td>5579-78-2</td>\n",
       "      <td>starchy dairy</td>\n",
       "      <td>None</td>\n",
       "    </tr>\n",
       "    <tr>\n",
       "      <th>2997</th>\n",
       "      <td>Ε-Dodecalactone</td>\n",
       "      <td>16429-21-3</td>\n",
       "      <td>fruity vegetal|vegetable</td>\n",
       "      <td>None</td>\n",
       "    </tr>\n",
       "    <tr>\n",
       "      <th>2998</th>\n",
       "      <td>Ω-6-Hexadecenlactone</td>\n",
       "      <td>None</td>\n",
       "      <td>floral earthy|woody</td>\n",
       "      <td>vegetal fruity|berry</td>\n",
       "    </tr>\n",
       "    <tr>\n",
       "      <th>2999</th>\n",
       "      <td>Ω-Pentadecalactone</td>\n",
       "      <td>106-02-5</td>\n",
       "      <td>earthy|woody</td>\n",
       "      <td>brown|vanilla</td>\n",
       "    </tr>\n",
       "  </tbody>\n",
       "</table>\n",
       "<p>2458 rows × 4 columns</p>\n",
       "</div>"
      ],
      "text/plain": [
       "                                    name      CAS_num  \\\n",
       "5                        (+)-Menthofuran   17957-94-7   \n",
       "7                    (+/-)-1-Hepten-3-Ol    4938-52-7   \n",
       "8     (+/-)-2,4,8-Trimethyl-7-Nonen-2-Ol  437770-28-0   \n",
       "9       (+/-)-2,8-Epithio-Cis-P-Menthane   68398-18-5   \n",
       "10             (+/-)-2-Hydroxypiperitone     490-03-9   \n",
       "...                                  ...          ...   \n",
       "2995                     Δ-Undecalactone     710-04-3   \n",
       "2996                       Ε-Decalactone    5579-78-2   \n",
       "2997                     Ε-Dodecalactone   16429-21-3   \n",
       "2998                Ω-6-Hexadecenlactone         None   \n",
       "2999                  Ω-Pentadecalactone     106-02-5   \n",
       "\n",
       "                                    aroma  \\\n",
       "5      fruity floral fatty fruity|citrusy   \n",
       "7                             fatty dairy   \n",
       "8                   fruity fruity|citrusy   \n",
       "9                   earthy fruity|citrusy   \n",
       "10    vegetal fruity|berry vegetal|herbal   \n",
       "...                                   ...   \n",
       "2995                               fruity   \n",
       "2996                        starchy dairy   \n",
       "2997             fruity vegetal|vegetable   \n",
       "2998                  floral earthy|woody   \n",
       "2999                         earthy|woody   \n",
       "\n",
       "                                             flavor  \n",
       "5                                              None  \n",
       "7          vegetal fruity sharp|chemical liquorlike  \n",
       "8                       fruity|berry fruity|citrusy  \n",
       "9     vegetal fruity sharp|sulfurous fruity|citrusy  \n",
       "10                                           fruity  \n",
       "...                                             ...  \n",
       "2995                      fruity brown fruity|berry  \n",
       "2996                                           None  \n",
       "2997                                           None  \n",
       "2998                           vegetal fruity|berry  \n",
       "2999                                  brown|vanilla  \n",
       "\n",
       "[2458 rows x 4 columns]"
      ]
     },
     "execution_count": 46,
     "metadata": {},
     "output_type": "execute_result"
    }
   ],
   "source": [
    "aromas_flavors = aromas_flavors.apply(invalid_to_na, colname = \"name\", min_len = 5, max_len = 256, axis = \"columns\")\n",
    "aromas_flavors = aromas_flavors.apply(invalid_to_na, colname = \"CAS_num\", min_len = 7, max_len = 15, axis = \"columns\")\n",
    "aromas_flavors = aromas_flavors[pd.notna(aromas_flavors[\"name\"]) | pd.notna(aromas_flavors[\"CAS_num\"])]\n",
    "aromas_flavors"
   ]
  },
  {
   "cell_type": "markdown",
   "id": "c01051bb-5fa6-4d72-b852-5e9ee8845623",
   "metadata": {
    "tags": []
   },
   "source": [
    "### Find missing `name` from `CAS_num`, or vice versa"
   ]
  },
  {
   "cell_type": "markdown",
   "id": "dc1a67e4-471b-4937-8797-bbd0463a1ea8",
   "metadata": {
    "tags": []
   },
   "source": [
    "Are there many entries missing either piece of data?"
   ]
  },
  {
   "cell_type": "code",
   "execution_count": 47,
   "id": "72510b72-a6df-480b-b3b0-39339fac89fa",
   "metadata": {},
   "outputs": [
    {
     "name": "stdout",
     "output_type": "stream",
     "text": [
      "Entries missing a name: 16\n"
     ]
    }
   ],
   "source": [
    "print(\"Entries missing a name: {}\".format(aromas_flavors[\"name\"].isna().sum()))"
   ]
  },
  {
   "cell_type": "code",
   "execution_count": 48,
   "id": "49d70cd1-6f8d-4c05-bcf9-f5872d3f98ac",
   "metadata": {},
   "outputs": [
    {
     "name": "stdout",
     "output_type": "stream",
     "text": [
      "Entries missing a CAS number: 756\n"
     ]
    }
   ],
   "source": [
    "print(\"Entries missing a CAS number: {}\".format(aromas_flavors[\"CAS_num\"].isna().sum()))"
   ]
  },
  {
   "cell_type": "code",
   "execution_count": 49,
   "id": "4c7d13da-c1d4-4443-9522-974722c3fb7b",
   "metadata": {},
   "outputs": [],
   "source": [
    "import requests\n",
    "from time import sleep"
   ]
  },
  {
   "cell_type": "code",
   "execution_count": 50,
   "id": "9af6858d-301e-4bf7-b460-6712f4fc390c",
   "metadata": {},
   "outputs": [],
   "source": [
    "# In this generic query, the first blank is the structural identifier (CAS or name), and the second blank is the desired output (\"smiles\" or \"inchi\")\n",
    "query_url = \"https://cactus.nci.nih.gov/chemical/structure/{}/{}\"\n",
    "\n",
    "def name_cas_lookup(row):\n",
    "    \"\"\"\n",
    "    Called:\n",
    "        By user.\n",
    "    Purpose:\n",
    "        Check a dataframe row for missing CAS number (`CAS_num` column) or a\n",
    "        missing name (`name` column). When one is missing, use the other\n",
    "        to retrieve it from the NIH CACTUS API.\n",
    "    Accepts:\n",
    "        row: a row of a Pandas dataframe\n",
    "    Returns:\n",
    "        a modified row of the dataframe\n",
    "    \"\"\"\n",
    "    \n",
    "    \n",
    "    # If no CAS number is found, look it up by name\n",
    "    if pd.isna(row[\"CAS_num\"]):\n",
    "        try:\n",
    "            reply = requests.get(query_url.format(row[\"name\"], \"cas\"), timeout = 5)\n",
    "            if reply.status_code == 200:\n",
    "                row[\"CAS_num\"] = reply.text\n",
    "                sleep(1)\n",
    "        except:\n",
    "            pass\n",
    "    \n",
    "    # If no name is found, look it up by CAS number\n",
    "    if pd.isna(row[\"name\"]):\n",
    "        try:\n",
    "            reply = requests.get(query_url.format(row[\"name\"], \"iupac_name\"), timeout = 4)\n",
    "            if reply.status_code == 200:\n",
    "                row[\"name\"] = reply.text\n",
    "                sleep(1)\n",
    "        except:\n",
    "            pass\n",
    "\n",
    "    return row"
   ]
  },
  {
   "cell_type": "code",
   "execution_count": 51,
   "id": "695cc78c-95c9-4b29-8d56-e2e477332024",
   "metadata": {},
   "outputs": [],
   "source": [
    "aromas_flavors = aromas_flavors.apply(name_cas_lookup, axis = \"columns\")"
   ]
  },
  {
   "cell_type": "markdown",
   "id": "26c85ab9-3c08-4bfb-85f8-d15e499a995e",
   "metadata": {},
   "source": [
    "Are there any remaining entries missing a CAS number or name?"
   ]
  },
  {
   "cell_type": "code",
   "execution_count": 52,
   "id": "013712b3-9bf9-44f2-a169-4cd02dcdbe79",
   "metadata": {},
   "outputs": [
    {
     "name": "stdout",
     "output_type": "stream",
     "text": [
      "Entries still missing a name: 16\n",
      "Entries still missing a CAS number: 451\n"
     ]
    }
   ],
   "source": [
    "print(\"Entries still missing a name: {}\".format(aromas_flavors[\"name\"].isna().sum()))\n",
    "print(\"Entries still missing a CAS number: {}\".format(aromas_flavors[\"CAS_num\"].isna().sum()))"
   ]
  },
  {
   "cell_type": "markdown",
   "id": "8ca09d17-6123-4a87-9965-c02ee0399e0a",
   "metadata": {},
   "source": [
    "While it is unfortunate that CAS numbers were not found for more of these entries, let's move ahead by keeping them. It may yet be possible to salvage the data for those entries through other means."
   ]
  },
  {
   "cell_type": "markdown",
   "id": "1701d83f-1c03-407d-bf24-d024b8be3f27",
   "metadata": {},
   "source": [
    "## Write the data to the database"
   ]
  },
  {
   "cell_type": "markdown",
   "id": "8dd0c794-564f-4f67-bcf5-262eb12e0f31",
   "metadata": {},
   "source": [
    "We'll write the new categorical data to the `categorized-descriptors` table of the `aromas-flavors.db` SQLite database."
   ]
  },
  {
   "cell_type": "code",
   "execution_count": 56,
   "id": "d07f3984-2b3c-4f7a-8c25-1f7399674091",
   "metadata": {},
   "outputs": [],
   "source": [
    "with create_engine(\"sqlite:///aromas-flavors.db\").connect() as db:\n",
    "    aromas_flavors.to_sql(\"categorized-descriptors\", db, index = False, if_exists = \"replace\")"
   ]
  },
  {
   "cell_type": "markdown",
   "id": "82acebc9-c028-403d-b540-1e60508b07cb",
   "metadata": {},
   "source": [
    "## Export data as a CSV"
   ]
  },
  {
   "cell_type": "markdown",
   "id": "84ced1bf-fb65-4170-aad7-cd4245e7ae3a",
   "metadata": {},
   "source": [
    "For sharing purposes, it would also be nice to export the data as a CSV file. Because some of the chemical names include commas, I'll use a tab instead of a comma as the delimiter."
   ]
  },
  {
   "cell_type": "code",
   "execution_count": 58,
   "id": "b58063b8-7f74-401d-98be-63f737e3f086",
   "metadata": {},
   "outputs": [],
   "source": [
    "aromas_flavors.to_csv(\"aromas-flavors-categorized.csv\", sep = \"\\t\", index = False)"
   ]
  }
 ],
 "metadata": {
  "kernelspec": {
   "display_name": "nlp",
   "language": "python",
   "name": "nlp"
  },
  "language_info": {
   "codemirror_mode": {
    "name": "ipython",
    "version": 3
   },
   "file_extension": ".py",
   "mimetype": "text/x-python",
   "name": "python",
   "nbconvert_exporter": "python",
   "pygments_lexer": "ipython3",
   "version": "3.10.2"
  }
 },
 "nbformat": 4,
 "nbformat_minor": 5
}
