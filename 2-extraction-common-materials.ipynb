{
 "cells": [
  {
   "cell_type": "markdown",
   "id": "05a3a7e8-9c80-4325-a071-acc599fe52ea",
   "metadata": {},
   "source": [
    "# 2. Extracting data from *Common Fragrance and Flavor Materials*"
   ]
  },
  {
   "cell_type": "markdown",
   "id": "5fe5b114-72f7-45a6-ad91-a36e9deb88ab",
   "metadata": {},
   "source": [
    "## Purpose, contents, & conclusions"
   ]
  },
  {
   "cell_type": "markdown",
   "id": "986e13a6-7da4-47b7-9274-45af02c60e0f",
   "metadata": {},
   "source": [
    "**Purpose:** This notebook was used to extract data about aroma/flavor chemicals from a PDF copy of *Common Fragrance and Flavor Materials*. Data is given only basic cleaning and treatment. *Note:* The PDF copy is excluded from the public repository for copyright reasons."
   ]
  },
  {
   "cell_type": "markdown",
   "id": "c7783ed0-6a1a-4674-aa72-a7680dad1c75",
   "metadata": {},
   "source": [
    "**Reference:** Surburg, H., & Panten, J. (Eds.). (2016). *Common Fragrance and Flavor Materials: Preparation, Properties, and Uses.* Wiley. https://doi.org/10.1002/9783527693153"
   ]
  },
  {
   "cell_type": "markdown",
   "id": "02ecdc0d-98ca-4aa5-af78-c4db415e3d13",
   "metadata": {},
   "source": [
    "**Contents:** The notebook contains:\n",
    "* Extraction of data from one ~300-page PDF."
   ]
  },
  {
   "cell_type": "markdown",
   "id": "98f2631e-828a-441d-8308-dc34362deef4",
   "metadata": {},
   "source": [
    "**Conclusions:** Key outputs are:\n",
    "* Lightly cleaned data are written to the `common-materials` table of the `aromas-flavors.db` SQLite database. Each row on the table is one flavor/aroma chemical, and there are three data fields: the chemical `name`, its unique `CAS_num`, and a `full_description`."
   ]
  },
  {
   "cell_type": "markdown",
   "id": "2039e84e-2ad5-4183-8b9f-8df458999a13",
   "metadata": {},
   "source": [
    "## Test drive `pdfminer` again"
   ]
  },
  {
   "cell_type": "markdown",
   "id": "65521d33-2262-407d-838c-2e25bddd9407",
   "metadata": {},
   "source": [
    "Let's start by tinkering with the options available from `pdfminer` to see what will provide the data we need without too much trouble."
   ]
  },
  {
   "cell_type": "markdown",
   "id": "46c54bdb-5f7e-4738-8a9a-3716a6f12edd",
   "metadata": {},
   "source": [
    "The PDF contains 326 pages. From visual inspection, the chemical information of interest **begins on page 20 and ends on page 249**."
   ]
  },
  {
   "cell_type": "code",
   "execution_count": 1,
   "id": "b2972ca0-b540-46b8-bdc8-fd2f1606f71e",
   "metadata": {},
   "outputs": [],
   "source": [
    "pagerange = [19, 25]"
   ]
  },
  {
   "cell_type": "code",
   "execution_count": 2,
   "id": "bb1a53d4-25bf-48ce-8fc2-817dfa8e1f7b",
   "metadata": {},
   "outputs": [],
   "source": [
    "from pdfminer.high_level import extract_text"
   ]
  },
  {
   "cell_type": "markdown",
   "id": "6b776879-37b4-49e1-8881-249cdf32cfd3",
   "metadata": {},
   "source": [
    "#### Read text with `extract_text`"
   ]
  },
  {
   "cell_type": "code",
   "execution_count": 3,
   "id": "efce9286-e7f2-440d-af04-ba28bc676345",
   "metadata": {},
   "outputs": [],
   "source": [
    "extracted = extract_text(\"raw-data/common-fragrance-and-flavor-materials.pdf\",\n",
    "                         page_numbers = [page for page in range(pagerange[0], pagerange[1])]\n",
    "                        )\n",
    "extracted = \"\".join(extracted)"
   ]
  },
  {
   "cell_type": "code",
   "execution_count": 4,
   "id": "d6bc22f0-7c6d-4eda-b4bb-b336f5bf5199",
   "metadata": {},
   "outputs": [
    {
     "data": {
      "text/plain": [
       "'8\\n\\nIndividual Fragrance and Flavor Materials\\n\\nSymrise\\nTakasago\\nTreatt\\nVioryl\\n\\n= Symrise GmbH & Co KG, Germany\\n= Takasago Perfumery Co., Japan\\n= R.C. Treatt & Co., Ltd., UK\\n= Vioryl S.A., Greece\\n\\nMonographs on fragrance materials and essential oils which have been published by\\nthe Research Institute for Fragrance Materials (RIFM) in “Food and Chemical Toxi-\\ncology” are cited below the individual compounds as “FCT” with year, volume, and\\npage of publication.\\n\\n2.1 Aliphatic Compounds\\n\\nThe acyclic terpenes are discussed separately in Section 2.2. Some of the cycloali-\\nphatic fragrance and flavor materials are structurally related to the cyclic terpenes\\nand are, therefore, discussed in Section 2.4 after the cyclic terpenes.\\n\\n2.1.1 Hydrocarbons\\n\\nSaturated and unsaturated aliphatic hydrocarbons with straight as well as branched\\nchains occur abundantly in natural foodstuffs, but they contribute to the odor and\\ntaste only to a limited extent and have not therefore gained commercial importance.\\nThe only exceptions are the highly unsaturated hydrocarbons (E,Z)-1,3,5-undeca-\\ntriene and its synthetic precursor 1,3-undecadien-5-yne.\\n\\n(E,Z)-1,3,5-Undecatriene [51447-08-6]\\n\\nC11H18, Mr 150.26, is a colorless liquid with a strong green, galbanum-like odor. It\\noccurs naturally in galbanum oil (see p. 207) and is the odor-determining constituent\\nof the oil. The commercial qualities also contain some all-trans isomer and are of-\\nfered only in dilution due to better stability.\\n\\nNumerous synthetic routes for the production of 1,3,5-undecatrienes have been\\n\\ndeveloped. Typical routes are described in [10] – [10b].\\nFCT 1988 (26), p. 415.\\n\\nTrade Names. Galbanolene Super (Firmenich), Undecatriene 10 % (Givaudan)\\n\\n\\x0c1,3-Undecadien-5-yne [166432-52-6]\\n\\nAliphatic Compounds\\n\\n9\\n\\nC11H16, Mr 148.24, n20\\n20 0.845 – 0.855, is a colorless liquid with a\\nnice fruity-green strong violet-leaf note. It recommended as an alternative to methyl\\noctynoate and methyl nonynoate [10c].\\n\\nD 1.44 – 1.444, d20\\n\\nTrade Na'"
      ]
     },
     "execution_count": 4,
     "metadata": {},
     "output_type": "execute_result"
    }
   ],
   "source": [
    "extracted[:2000]"
   ]
  },
  {
   "cell_type": "markdown",
   "id": "a11d981e-5677-4148-97e2-0ba372c51505",
   "metadata": {},
   "source": [
    "This output is pretty reasonable. It has a fair number of extra line breaks, but that's fixable. "
   ]
  },
  {
   "cell_type": "markdown",
   "id": "e744b910-161b-4282-bce6-6740c3fef1b2",
   "metadata": {},
   "source": [
    "#### Parse chemical names & CAS numbers"
   ]
  },
  {
   "cell_type": "markdown",
   "id": "826cf5d0-4048-41ec-a1e7-0c2ab82d8685",
   "metadata": {},
   "source": [
    "*Common Fragrance and Flavor Chemicals* is more simply formatted than *Fenaroli's Handbook* was, so less of the content seems to be in a jumbled order. In fact, it might be possible to fully parse out the chemical data via regex using the unique CAS numbers as punctuation because it looks like they are always enclosed in square brackets, e.g.: \"[51447-08-6]\" with trailing line breaks."
   ]
  },
  {
   "cell_type": "code",
   "execution_count": 5,
   "id": "6d697989-aac4-4090-b1a6-11f70ec319fb",
   "metadata": {
    "tags": []
   },
   "outputs": [],
   "source": [
    "import re"
   ]
  },
  {
   "cell_type": "code",
   "execution_count": 6,
   "id": "f774f45d-ab69-4389-83df-a33e89d385f7",
   "metadata": {},
   "outputs": [
    {
     "data": {
      "text/plain": [
       "['\\n(E,Z)-1,3,5-Undecatriene [51447-08-6]',\n",
       " '\\x0c1,3-Undecadien-5-yne [166432-52-6]',\n",
       " '\\n3-Octanol [589-98-0]',\n",
       " '\\n2,6-Dimethyl-2-heptanol [13254-34-7]',\n",
       " '\\ntrans-2-Hexen-l-ol [928-95-0]']"
      ]
     },
     "execution_count": 6,
     "metadata": {},
     "output_type": "execute_result"
    }
   ],
   "source": [
    "titles = re.findall(\"[\\n\\f]\\S+\\s\\[[\\d-]+\\]\", extracted)\n",
    "titles[:5]"
   ]
  },
  {
   "cell_type": "code",
   "execution_count": 7,
   "id": "c960f28b-0b6b-47d8-949d-c0b5bcf7a760",
   "metadata": {},
   "outputs": [
    {
     "data": {
      "text/plain": [
       "20"
      ]
     },
     "execution_count": 7,
     "metadata": {},
     "output_type": "execute_result"
    }
   ],
   "source": [
    "len(titles)"
   ]
  },
  {
   "cell_type": "markdown",
   "id": "bb58a5a6-030b-49d4-80bf-684e18011deb",
   "metadata": {},
   "source": [
    "Fantastic! This was a pretty easy way to pull out the molecule names and their corresponding CAS numbers. Now all that remains is to also collect the corresponding technical description."
   ]
  },
  {
   "cell_type": "markdown",
   "id": "cb0fb566-4027-4906-9375-34c840b312a4",
   "metadata": {},
   "source": [
    "#### Parse chemical descriptions"
   ]
  },
  {
   "cell_type": "markdown",
   "id": "c28df45c-8376-4be3-b2ed-eb8bd0561e6d",
   "metadata": {},
   "source": [
    "Again because of their clean & simple formatting in this book, chemical names & CAS numbers will be a convenient way to extract out the chemical descriptions: each one starts with the same basic format of `\"\\nchemical name [CAS number]\"`."
   ]
  },
  {
   "cell_type": "markdown",
   "id": "dfdf2252-f4ed-42c1-8927-77c903f5545c",
   "metadata": {},
   "source": [
    "Using regex to split at the same pattern as above ought to give the a complete set of descriptions."
   ]
  },
  {
   "cell_type": "code",
   "execution_count": 8,
   "id": "5d744429-f2fa-47f4-a855-0a758c3f0907",
   "metadata": {},
   "outputs": [],
   "source": [
    "# The regex below includes both newline (\\n) and form feed (\\f) at the start\n",
    "# of the line. Some entries start at the very top of the PDF page, and these\n",
    "# begin with the form feed character. All others begin with newline.\n",
    "descriptions = re.split(r\"[\\n\\f]\\S+\\s\\[[\\d-]+\\]\", extracted)"
   ]
  },
  {
   "cell_type": "code",
   "execution_count": 9,
   "id": "9ee69a5d-d82e-48ab-bf24-22a4ba56f27b",
   "metadata": {},
   "outputs": [
    {
     "data": {
      "text/plain": [
       "21"
      ]
     },
     "execution_count": 9,
     "metadata": {},
     "output_type": "execute_result"
    }
   ],
   "source": [
    "len(descriptions)"
   ]
  },
  {
   "cell_type": "markdown",
   "id": "70f9727a-ee9d-43be-8a3e-3d142095d36f",
   "metadata": {},
   "source": [
    "As expected, there is an extra entry in `descriptions` because of the text present on the first page before the first actual chemical entry begins. Remove the unecessary first list entry."
   ]
  },
  {
   "cell_type": "code",
   "execution_count": 10,
   "id": "595a84f4-38a4-4e69-9cb9-113c7115ce4f",
   "metadata": {},
   "outputs": [
    {
     "data": {
      "text/plain": [
       "'8\\n\\nIndividual Fragrance and Flavor Materials\\n\\nSymr'"
      ]
     },
     "execution_count": 10,
     "metadata": {},
     "output_type": "execute_result"
    }
   ],
   "source": [
    "descriptions.pop(0)[:50]"
   ]
  },
  {
   "cell_type": "markdown",
   "id": "62414b3f-67b5-4120-bf4c-045af6e32b3d",
   "metadata": {},
   "source": [
    "Double-check to make sure this approach is working as expected:"
   ]
  },
  {
   "cell_type": "code",
   "execution_count": 11,
   "id": "a8fa8119-e90c-4c0b-80b3-f89fc0d98dab",
   "metadata": {},
   "outputs": [
    {
     "name": "stdout",
     "output_type": "stream",
     "text": [
      "Title:  \n",
      "(E,Z)-1,3,5-Undecatriene [51447-08-6]\n",
      "Description:  \n",
      "\n",
      "C11H18, Mr 150.26, is a colorless liquid with a strong green, galbanum-like odor. It\n",
      "occurs naturally in galbanum oil (see p. 207) and is the odor-determining constituent\n",
      "of the oil. The commercial qualities also contain some all-trans isomer and are of-\n",
      "fered only in dilution due to better stability.\n",
      "\n",
      "Numerous synthetic routes for the production of 1,3,5-undecatrienes have been\n",
      "\n",
      "developed. Typical routes are described in [10] – [10b].\n",
      "FCT 1988 (26), p. 415.\n",
      "\n",
      "Trade Names. Galbanolene Super (Fi\n",
      "\n",
      "====\n",
      "\n",
      "Title:  \f",
      "1,3-Undecadien-5-yne [166432-52-6]\n",
      "Description:  \n",
      "\n",
      "Aliphatic Compounds\n",
      "\n",
      "9\n",
      "\n",
      "C11H16, Mr 148.24, n20\n",
      "20 0.845 – 0.855, is a colorless liquid with a\n",
      "nice fruity-green strong violet-leaf note. It recommended as an alternative to methyl\n",
      "octynoate and methyl nonynoate [10c].\n",
      "\n",
      "D 1.44 – 1.444, d20\n",
      "\n",
      "Trade Name. Violettyne MIP (Firmenich)\n",
      "\n",
      "2.1.2 Alcohols\n",
      "\n",
      "Free and esterified, saturated primary alcohols occur widely in nature, e.g., in fruit.\n",
      "Since their odor is relatively weak, their use as components in fragrance composi-\n",
      "tions is limited. Their use in \n",
      "\n",
      "====\n",
      "\n",
      "Title:  \n",
      "3-Octanol [589-98-0]\n",
      "Description:  \n",
      "C, d20\n",
      "CH3(CH2)4CH(OH)CH2CH3, C8H18O, Mr 130.23, bp97.6 kPa 176 – 176.5\n",
      "4\n",
      "0.8264, n20\n",
      "D 1.4252, may occur in its optically active form. It is a colorless liquid\n",
      "that has a mushroomy-earthy odor and occurs in mushrooms. 3-Octanol can be ob-\n",
      "tained by hydrogenation of 3-octanone; it is used in lavender compositions and for\n",
      "imparting mushroom-like odors.\n",
      "FCT 1979 (17) p. 881.\n",
      "\n",
      "(cid:1)\n",
      "\n",
      "\n",
      "====\n",
      "\n",
      "Title:  \n",
      "2,6-Dimethyl-2-heptanol [13254-34-7]\n",
      "Description:  \n",
      "\n",
      "\f",
      "10\n",
      "\n",
      "Individual Fragrance and Flavor Materials\n",
      "\n",
      "(cid:1)\n",
      "\n",
      "C9H20O, Mr 144.26, bp101.3 kPa 170 – 172\n",
      "D 1.4248, which has not\n",
      "yet been found in nature, is a colorless liquid with a delicate, flowery odor reminis-\n",
      "cent of freesias. It is synthesized from 6-methyl-5-hepten-2-one and methylmagne-\n",
      "sium chloride by a Grignard reaction, followed by hydrogenation, and is used in\n",
      "flowery perfume compositions.\n",
      "FCT 1992 (30) p. 30.\n",
      "\n",
      "20 0.8186, n20\n",
      "\n",
      "C, d20\n",
      "\n",
      "Trade Names. Dimetol (Giv.).\n",
      "\n",
      "\n",
      "====\n",
      "\n"
     ]
    }
   ],
   "source": [
    "for i, entry in enumerate(zip(titles, descriptions)):\n",
    "    if i < 4:\n",
    "        print(\"Title: \", entry[0])\n",
    "        print(\"Description: \", entry[1][:500])\n",
    "        print(\"\\n====\\n\")"
   ]
  },
  {
   "cell_type": "markdown",
   "id": "0275a7ac-a13f-431b-9dfa-3226666daff9",
   "metadata": {},
   "source": [
    "Great! Each entry begins with a chemical name and unique CAS number as expected. Spot checking these results vs. the actual PDF indicates that the chemical names in `titles` are correctly matched with their corresponding `descriptions` using this approach.\n",
    "\n",
    "The only drawbacks are:\n",
    "* some unnecessary (i.e.: non-specific, non-chemical) section header information is present in some of the `descriptions` entries. This is visibile, for example, in the description for *1,3-Undecadien-5-yne [166432-52-6]*, which also contains the start of the generic alcohols chapter (\"2.1.2 Alcohols Free and esterified, saturated...\" It's necessary to remove these before more detailed parsing for odor or taste descriptors because the section header information could contain a vague description of organleptic properties representative of the whole category that do not necessarily apply to the specific molecule that follows.\n",
    "* page numbers and chapter / section titles are present in some of the `descriptions`, too. For example, the entry for *1,3-Undecadien-5-yne [166432-52-6]* also shows the book's page number (\"9\") and the section title (\"Aliphatic Compounds), each on their own lines. Although it is ugly, it probably is not necessary to remove this information because it does not appear to contain information that will convolute further analysis (like the word \"odor\" or \"flavor\", for example)."
   ]
  },
  {
   "cell_type": "markdown",
   "id": "4b102d77-6dbc-43a8-afe6-29d088c774ca",
   "metadata": {},
   "source": [
    "#### Remove generic section headers and content"
   ]
  },
  {
   "cell_type": "markdown",
   "id": "6d53ba08-ab7a-4e9f-ba97-6304eb88f1ae",
   "metadata": {},
   "source": [
    "Section headers take the format of \"n.n.n Title\", such as \"2.1.2 Alcohols\". In the list of `descriptions`, they come *after* the chemically interesting information about individual molecules. That means it should be feasible to split each chemical description at a regex pattern that matches \"n.n.n Title\", discarding everything after the split."
   ]
  },
  {
   "cell_type": "code",
   "execution_count": 12,
   "id": "60da7115-db65-400c-902d-be04da7dc5e2",
   "metadata": {},
   "outputs": [
    {
     "data": {
      "text/plain": [
       "'\\n\\nAliphatic Compounds\\n\\n9\\n\\nC11H16, Mr 148.24, n20\\n20 0.845 – 0.855, is a colorless liquid with a\\nnice fruity-green strong violet-leaf note. It recommended as an alternative to methyl\\noctynoate and methyl nonynoate [10c].\\n\\nD 1.44 – 1.444, d20\\n\\nTrade Name. Violettyne MIP (Firmenich)\\n\\n'"
      ]
     },
     "execution_count": 12,
     "metadata": {},
     "output_type": "execute_result"
    }
   ],
   "source": [
    "re.split(r\"[\\d.]+\\s[\\w\\d]+[\\n\\f]\", descriptions[1])[0]"
   ]
  },
  {
   "cell_type": "markdown",
   "id": "f724df49-0baa-4886-8e53-aa89def1d511",
   "metadata": {},
   "source": [
    "That looks like it will work! Compare this to the output for *1,3-Undecadien-5-yne [166432-52-6]* a few cells up. The \"2.1.2 Alcohols\" and subsequent text has been removed."
   ]
  },
  {
   "cell_type": "markdown",
   "id": "71a93c8d-ddfb-4fb2-bdee-f305659ac1e0",
   "metadata": {},
   "source": [
    "## Build parsing function"
   ]
  },
  {
   "cell_type": "markdown",
   "id": "44c002d0-5f95-4698-ab2a-e0117194ac89",
   "metadata": {},
   "source": [
    "Using the scratch work above as a template, let's build some functions to handle parsing the whole PDF book in a more organized fashion."
   ]
  },
  {
   "cell_type": "code",
   "execution_count": 13,
   "id": "21086e24-ea14-4ff4-84ab-10b462905c9e",
   "metadata": {},
   "outputs": [],
   "source": [
    "def remove_breaks(text: str) -> str:\n",
    "    \"\"\"\n",
    "    Called:\n",
    "        By parse_extracted.\n",
    "    Purpose:\n",
    "        Remove all line breaks from the input text\n",
    "    Accepts:\n",
    "        text: A string of text that may or may not contain\n",
    "            a linebreak, form feed, carriage return, etc.\n",
    "    Returns:\n",
    "        A modified string free of such breaks\n",
    "    \"\"\"\n",
    "    \n",
    "    nolines = re.sub(r\"[\\n\\f\\r]\", \" \", text)\n",
    "    return nolines.strip()"
   ]
  },
  {
   "cell_type": "code",
   "execution_count": 14,
   "id": "26c8efe1-454d-4c4a-ac8d-48a6ee375ba6",
   "metadata": {},
   "outputs": [],
   "source": [
    "def parse_extracted(extract: str) -> list:\n",
    "    \"\"\"\n",
    "    Called:\n",
    "        By user.\n",
    "    Purpose:\n",
    "        Split a large chunk of extracted text into chemical names, unique\n",
    "        CAS numbers, and chemical descriptions.\n",
    "    Accepts:\n",
    "        extract: One long string containing the extracted text as directly\n",
    "            read from the PDF by pdfminer\n",
    "    Returns:\n",
    "        a list of dicts in the format:\n",
    "        (cas number, chemical name, chemical description)\n",
    "    \"\"\"\n",
    "    \n",
    "    # Extract entry titles (chemical names + CAS numbers) and roughly split \n",
    "    # into corresponding descriptions using regex.\n",
    "    titles = re.findall(\"[\\n\\f]\\S+\\s\\[[\\s\\d-]+\\]\", extracted)\n",
    "    raw_descriptions = re.split(r\"[\\n\\f]\\S+\\s\\[[\\s\\d-]+\\]\", extracted)\n",
    "    \n",
    "    # Split the entry titles into separate lists of chemical names and\n",
    "    # CAS numbers.\n",
    "    names = []\n",
    "    cas_nums = []\n",
    "    for title in titles:\n",
    "        match = re.split(r\"\\s(?:\\[)\", title)\n",
    "        names.append(remove_breaks(match[0]))\n",
    "        cas_nums.append(remove_breaks(match[1][:-1]))\n",
    "        # the last character of the cas_nums match will always be \"]\",\n",
    "        # which should be excluded. That is why the string slice is present above.\n",
    "    \n",
    "    # Remove the first entry in the descriptions list, which is currently the\n",
    "    # leading text _before_ the first real chemical description begins.\n",
    "    raw_descriptions.pop(0)\n",
    "    \n",
    "    # Remove extraneous, generic subsection text that is not actually a part\n",
    "    # of a single chemical's data\n",
    "    descriptions = [re.split(r\"[\\d.]+\\s[\\w\\d]+[\\n\\f]\", desc)[0]\n",
    "                    for desc in raw_descriptions]\n",
    "    # Also remove line breaks \\n and form feeds \\f from the descriptions\n",
    "    descriptions = [remove_breaks(desc) for desc in descriptions]\n",
    "    \n",
    "    # If all parsed lists are the same length, bundle them into a single\n",
    "    # list of dicts.\n",
    "    parsed_data = []\n",
    "    if len(names) == len(cas_nums) == len(descriptions):\n",
    "        for i, chem_name in enumerate(names):\n",
    "            parsed_data.append(dict(name = chem_name,\n",
    "                                    CAS_num = cas_nums[i],\n",
    "                                    full_description = descriptions[i]))\n",
    "        \n",
    "        return parsed_data\n",
    "    \n",
    "    else:\n",
    "        print(\"Error: Data not parsed correctly.\")\n",
    "        print(\"Names: {} found\\n{}\".format(len(names), names[-5:]))\n",
    "        print(\"CAS nums: {} found\\n{}\".format(len(cas_nums), titles[-5:]))\n",
    "        print(\"Descriptions: {} found\\n{}\".format(len(descriptions), descriptions[-5:][:50]))   "
   ]
  },
  {
   "cell_type": "markdown",
   "id": "78e3997f-b6c1-4474-8ac3-13bafd1cb116",
   "metadata": {},
   "source": [
    "## Parse the full PDF"
   ]
  },
  {
   "cell_type": "markdown",
   "id": "be4e189f-3bd1-4894-9fb4-106d91c77784",
   "metadata": {},
   "source": [
    "Use the functions from above to extract and parse the full PDF document."
   ]
  },
  {
   "cell_type": "code",
   "execution_count": 15,
   "id": "dec22d5b-f8f9-47c8-8ae3-eebc443524a8",
   "metadata": {},
   "outputs": [],
   "source": [
    "pagerange = (19, 187)\n",
    "extracted = extract_text(\"raw-data/common-fragrance-and-flavor-materials.pdf\",\n",
    "                              page_numbers = [page for page in range(pagerange[0], pagerange[1])])"
   ]
  },
  {
   "cell_type": "code",
   "execution_count": 16,
   "id": "76668f79-62c9-447e-a286-8eab0f3e3a2f",
   "metadata": {},
   "outputs": [],
   "source": [
    "aromas_flavors = parse_extracted(extracted)"
   ]
  },
  {
   "cell_type": "markdown",
   "id": "ac78587b-c84d-429e-b94c-575d778b6f1a",
   "metadata": {},
   "source": [
    "Visually examine the first few and last few entries, comparing them to the actual text of the PDF:"
   ]
  },
  {
   "cell_type": "code",
   "execution_count": 17,
   "id": "584fe3c9-0aba-496a-9c67-ee24675efbcd",
   "metadata": {},
   "outputs": [
    {
     "data": {
      "text/plain": [
       "([{'name': '(E,Z)-1,3,5-Undecatriene',\n",
       "   'CAS_num': '51447-08-6',\n",
       "   'full_description': 'C11H18, Mr 150.26, is a colorless liquid with a strong green, galbanum-like odor'},\n",
       "  {'name': '1,3-Undecadien-5-yne',\n",
       "   'CAS_num': '166432-52-6',\n",
       "   'full_description': 'Aliphatic Compounds  9  C11H16, Mr 148.24, n20 20 0.845 – 0.855, is a colorless liquid with a nice fruity-green strong violet-leaf note. It recommended as an alternative to methyl octynoate and methyl nonynoate [10c].  D 1.44 – 1.444, d20  Trade Name. Violettyne MIP (Firmenich)'},\n",
       "  {'name': '3-Octanol',\n",
       "   'CAS_num': '589-98-0',\n",
       "   'full_description': 'C, d20 CH3(CH2)4CH(OH)CH2CH3, C8H18O, Mr 130.23, bp97.6 kPa 176 –'},\n",
       "  {'name': '2,6-Dimethyl-2-heptanol',\n",
       "   'CAS_num': '13254-34-7',\n",
       "   'full_description': '10  Individual Fragrance and Flavor Materials  (cid:1)  C9H20O, Mr 144.26, bp101.3 kPa 170 – 172 D 1.4248, which has not yet been found in nature, is a colorless liquid with a delicate, flowery odor reminis- cent of freesias. It is synthesized from 6-methyl-5-hepten-2-one and methylmagne- sium chloride by a Grignard reaction, followed by hydrogenation, and is used in flowery perfume compositions. FCT 1992 (30) p. 30.  20 0.8186, n20  C, d20  Trade Names. Dimetol (Giv.).'},\n",
       "  {'name': 'trans-2-Hexen-l-ol',\n",
       "   'CAS_num': '928-95-0',\n",
       "   'full_description': 'CH3CH2CH2CH = CHCH2OH, C6H12O, Mr 100.16, bp101.3 kPa 155 4 0.8459, n20 D 1.4382, occurs in many fruits and has a fruity, green odor, which is sweeter than that of the isomeric cis-3-hexen-l-ol and is, therefore, preferred in aroma com- positions. FCT 1974 (12) p. 911.  C, d20  (cid:1)'}],\n",
       " [{'name': '2-methylquinoxaline',\n",
       "   'CAS_num': '7251-61-8',\n",
       "   'full_description': '; musty, roasted flavor'},\n",
       "  {'name': '2,5-dimethylthiazole',\n",
       "   'CAS_num': '4175-66-0',\n",
       "   'full_description': ': meat-like odor'},\n",
       "  {'name': '2-isobutylthiazole',\n",
       "   'CAS_num': '18640-74-9',\n",
       "   'full_description': ': tomato odor   N- and N,S-Heterocycles  175'},\n",
       "  {'name': '4-methyl-5-thiazolethanol',\n",
       "   'CAS_num': '137-00-8',\n",
       "   'full_description': ': meaty, roast odor'},\n",
       "  {'name': '2-acetyl-2-thiazoline',\n",
       "   'CAS_num': '29926-41-8',\n",
       "   'full_description': ': cooked beef odor  alkyldimethyl-1,3,5-dithiazines: roast odor'}])"
      ]
     },
     "execution_count": 17,
     "metadata": {},
     "output_type": "execute_result"
    }
   ],
   "source": [
    "aromas_flavors[:5], aromas_flavors[-5:]"
   ]
  },
  {
   "cell_type": "markdown",
   "id": "acaaaa61-180f-421b-9c60-4b9e216c8c8e",
   "metadata": {},
   "source": [
    "Fantastic! This sampling visually matches the PDF document; names, CAS numbers, and descriptions are matched correctly. There is some extraneous information present still, but this will be dealt with in subsequent processing.\n",
    "\n",
    "The presence of data for chemicals without a listed CAS number (e.g. \"alkyildimethyl-1,3,5-dithiazines\" in the final entry) is annoying in its difficulty to separate out. On visual inspection of the PDF, this appears to be the *one, single entry* with that problem. So... I'll just fix it manually."
   ]
  },
  {
   "cell_type": "code",
   "execution_count": 18,
   "id": "fb7c305e-6042-4955-baa6-0a5755e26893",
   "metadata": {},
   "outputs": [
    {
     "data": {
      "text/plain": [
       "{'name': '2-acetyl-2-thiazoline',\n",
       " 'CAS_num': '29926-41-8',\n",
       " 'full_description': 'cooked beef odor'}"
      ]
     },
     "execution_count": 18,
     "metadata": {},
     "output_type": "execute_result"
    }
   ],
   "source": [
    "troublesome = aromas_flavors.pop(-1)\n",
    "troublesome[\"full_description\"] = \"cooked beef odor\"\n",
    "aromas_flavors.append(troublesome)\n",
    "aromas_flavors[-1]"
   ]
  },
  {
   "cell_type": "markdown",
   "id": "d7cf42ac-0943-4470-bbe0-c74ebfb52769",
   "metadata": {},
   "source": [
    "That's an inelegant solution, but it's good enough."
   ]
  },
  {
   "cell_type": "markdown",
   "id": "24b640be-fd2c-4d29-ac00-5e8bff96199d",
   "metadata": {},
   "source": [
    "## Write to the database"
   ]
  },
  {
   "cell_type": "markdown",
   "id": "2093ce14-eabf-41cf-af2e-07459433f0ed",
   "metadata": {
    "tags": []
   },
   "source": [
    "Finally, write the extracted data to the `common-materials` table of the SQLite database, `aromas-flavors.db`. There are three fields: the chemical `name`, its unique `CAS_num`, and a `full_description`."
   ]
  },
  {
   "cell_type": "code",
   "execution_count": 19,
   "id": "8c934c39-b22a-44e4-bc5c-f60fc050790a",
   "metadata": {},
   "outputs": [],
   "source": [
    "import dataset"
   ]
  },
  {
   "cell_type": "code",
   "execution_count": 20,
   "id": "898679e1-10bd-4d01-a183-0aeaf371e355",
   "metadata": {},
   "outputs": [],
   "source": [
    "db = dataset.connect(\"sqlite:///aromas-flavors.db\")"
   ]
  },
  {
   "cell_type": "code",
   "execution_count": 21,
   "id": "c736f6df-6ac7-4b15-8b75-efdc0f92b239",
   "metadata": {},
   "outputs": [],
   "source": [
    "db[\"common-materials\"].insert_many(aromas_flavors)"
   ]
  },
  {
   "cell_type": "markdown",
   "id": "8cd15c0d-0eeb-4320-aee6-fc3fac30a15e",
   "metadata": {},
   "source": [
    "Great -- all done. The entries from *Fenaroli's Handbook* have been extracted and written to `aromas-flavors.db`. They're searchable by chemical name and CAS number."
   ]
  }
 ],
 "metadata": {
  "kernelspec": {
   "display_name": "pdf-tools",
   "language": "python",
   "name": "pdf-tools"
  },
  "language_info": {
   "codemirror_mode": {
    "name": "ipython",
    "version": 3
   },
   "file_extension": ".py",
   "mimetype": "text/x-python",
   "name": "python",
   "nbconvert_exporter": "python",
   "pygments_lexer": "ipython3",
   "version": "3.10.9"
  }
 },
 "nbformat": 4,
 "nbformat_minor": 5
}
