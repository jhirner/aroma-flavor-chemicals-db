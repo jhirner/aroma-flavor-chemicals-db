{
 "cells": [
  {
   "cell_type": "markdown",
   "id": "05a3a7e8-9c80-4325-a071-acc599fe52ea",
   "metadata": {},
   "source": [
    "# 1. Extracting data from *Fenaroli's Handbook*"
   ]
  },
  {
   "cell_type": "markdown",
   "id": "5fe5b114-72f7-45a6-ad91-a36e9deb88ab",
   "metadata": {},
   "source": [
    "## Purpose, contents, & conclusions"
   ]
  },
  {
   "cell_type": "markdown",
   "id": "986e13a6-7da4-47b7-9274-45af02c60e0f",
   "metadata": {},
   "source": [
    "**Purpose:** This notebook was used to extract data about aroma/flavor chemicals from a PDF copy of *Fenaroli's Handbook*. Data is given only basic cleaning and treatment. *Note:* The PDF copy is excluded from the public repository for copyright reasons."
   ]
  },
  {
   "cell_type": "markdown",
   "id": "c7783ed0-6a1a-4674-aa72-a7680dad1c75",
   "metadata": {},
   "source": [
    "**Reference:** Burdock, G.A. (2009). *Fenaroli's Handbook of Flavor Ingredients (6th ed.).* CRC Press. https://doi.org/10.1201/9781439847503"
   ]
  },
  {
   "cell_type": "markdown",
   "id": "02ecdc0d-98ca-4aa5-af78-c4db415e3d13",
   "metadata": {},
   "source": [
    "**Contents:** The notebook contains:\n",
    "* Extraction of data from one ~2000-page PDF."
   ]
  },
  {
   "cell_type": "markdown",
   "id": "98f2631e-828a-441d-8308-dc34362deef4",
   "metadata": {},
   "source": [
    "**Conclusions:** Key outputs are:\n",
    "* Lightly cleaned data are written to the `fenaroli` table of the `aromas-flavors.db` SQLite database."
   ]
  },
  {
   "cell_type": "markdown",
   "id": "2039e84e-2ad5-4183-8b9f-8df458999a13",
   "metadata": {},
   "source": [
    "## Test drive a few PDF tools"
   ]
  },
  {
   "cell_type": "markdown",
   "id": "86d58788-6fa0-4d80-997e-73e850ad4f08",
   "metadata": {},
   "source": [
    "Before investing much time in any one approach to extracting the data from the PDF copy of *Fenaroli's Handbook*, let's invest a little effort in trying out two different libraries on the first few pages of the document: `PyPDF` and `pdfminer`. Then, I can move ahead with whichever one works most conveniently on this particular PDF."
   ]
  },
  {
   "cell_type": "markdown",
   "id": "f1179101-d7a4-40d1-8696-c605bec329a4",
   "metadata": {},
   "source": [
    "### Test drive of `PyPDF`"
   ]
  },
  {
   "cell_type": "code",
   "execution_count": 1,
   "id": "c169077d-8315-4416-8155-2b1376007d79",
   "metadata": {},
   "outputs": [],
   "source": [
    "from pypdf import PdfReader"
   ]
  },
  {
   "cell_type": "markdown",
   "id": "49684234-b62c-4f1e-8c5a-80786c9ee8fd",
   "metadata": {},
   "source": [
    "#### Load the pdf"
   ]
  },
  {
   "cell_type": "code",
   "execution_count": 2,
   "id": "daa89af1-9b5d-4632-ab52-8808229daa67",
   "metadata": {},
   "outputs": [],
   "source": [
    "reader = PdfReader(\"raw-data/fenarolis-handbook.pdf\")"
   ]
  },
  {
   "cell_type": "code",
   "execution_count": 3,
   "id": "8feb7913-8c30-4aac-942d-96ec2eb9d51b",
   "metadata": {},
   "outputs": [
    {
     "data": {
      "text/plain": [
       "2162"
      ]
     },
     "execution_count": 3,
     "metadata": {},
     "output_type": "execute_result"
    }
   ],
   "source": [
    "len(reader.pages)"
   ]
  },
  {
   "cell_type": "markdown",
   "id": "46c54bdb-5f7e-4738-8a9a-3716a6f12edd",
   "metadata": {},
   "source": [
    "The PDF contains 2162 pages. From visual inspection, the chemical information of interest **begins on page 26 and ends on page 2035**."
   ]
  },
  {
   "cell_type": "markdown",
   "id": "48ef0b29-5eee-4c52-92b3-482a50924e2f",
   "metadata": {},
   "source": [
    "#### First pass -- let's just see what happens"
   ]
  },
  {
   "cell_type": "code",
   "execution_count": 4,
   "id": "b2972ca0-b540-46b8-bdc8-fd2f1606f71e",
   "metadata": {},
   "outputs": [],
   "source": [
    "pagerange = [25, 30]"
   ]
  },
  {
   "cell_type": "code",
   "execution_count": 5,
   "id": "0c0884f5-58b9-4d94-8657-572ed0a9e080",
   "metadata": {},
   "outputs": [],
   "source": [
    "extracted = \"\"\n",
    "for page in range(pagerange[0], pagerange[1]):\n",
    "    extracted += reader.pages[page].extract_text()"
   ]
  },
  {
   "cell_type": "code",
   "execution_count": 6,
   "id": "fb905db5-500c-4903-b2a2-e95a897cfc56",
   "metadata": {},
   "outputs": [
    {
     "data": {
      "text/plain": [
       "'1A\\nACACIA GUM\\nBotanical name: .Acacia senegal .(L.).Willd.\\nBot\\nanical family: .Le\\nguminosae\\nOther names: .Aca\\ncia.[JA\\nN];.Aca\\ncia senegal .gum; .Ara\\nbic.gum; .gum.Ara\\nbic;.Aca\\ncia delbata .gum; .Aca\\ncia.sol\\nution; .Aca\\ncia.syr\\nup;.\\nAus\\ntralian .gu\\nm;.Gu\\nm.Ar\\nabic; .In\\ndian.gu\\nm;.Wa\\nttle.gu\\nm\\nCAS .No.: 9000 -01-05 FL .No.: n/a FEMA .No.: 2001 NAS .No.: 2001\\nCoE.No.: n/a EINECS .No.: 232 -519-5 JECF\\nA.No.: n/a E.No.: 414\\nD\\nescription: .Ara\\nbic.or.aca\\ncia.gum.is.the.dri\\ned.exu\\ndate.obt\\nained .fro\\nm'"
      ]
     },
     "execution_count": 6,
     "metadata": {},
     "output_type": "execute_result"
    }
   ],
   "source": [
    "extracted[:500]"
   ]
  },
  {
   "cell_type": "markdown",
   "id": "dbf5c086-d186-4d94-90dd-8cdb20f9e7f9",
   "metadata": {},
   "source": [
    "**Oh no.** PyPDF has found a lot more linebreaks than are visually present in the document. Additionally, we'll also want to make sure page numbers/headers are excluded; here one shows up at the very beginning (\"1A\")."
   ]
  },
  {
   "cell_type": "markdown",
   "id": "c32b1771-d5d1-44eb-84f0-23b67052558a",
   "metadata": {},
   "source": [
    "### Test drive of `pdfminer`"
   ]
  },
  {
   "cell_type": "code",
   "execution_count": 7,
   "id": "bb1a53d4-25bf-48ce-8fc2-817dfa8e1f7b",
   "metadata": {},
   "outputs": [],
   "source": [
    "from pdfminer.high_level import extract_text"
   ]
  },
  {
   "cell_type": "markdown",
   "id": "6b776879-37b4-49e1-8881-249cdf32cfd3",
   "metadata": {},
   "source": [
    "#### Via `extract_text`"
   ]
  },
  {
   "cell_type": "code",
   "execution_count": 8,
   "id": "efce9286-e7f2-440d-af04-ba28bc676345",
   "metadata": {},
   "outputs": [],
   "source": [
    "extracted = extract_text(\"raw-data/fenarolis-handbook.pdf\",\n",
    "                         page_numbers = [page for page in range(pagerange[0], pagerange[1])]\n",
    "                        )"
   ]
  },
  {
   "cell_type": "code",
   "execution_count": 9,
   "id": "d6bc22f0-7c6d-4eda-b4bb-b336f5bf5199",
   "metadata": {},
   "outputs": [
    {
     "data": {
      "text/plain": [
       "'A\\n\\nACACIA GUM\\n\\nBotanical name:.Acacia senegal.(L.).Willd.\\n\\nBotanical family:.Leguminosae\\n\\nOther names:.Acacia.[JAN];.Acacia senegal.gum;.Arabic.gum;.gum.Arabic;.Acacia delbata.gum;.Acacia.solution;.Acacia.syrup;.\\nAustralian.gum;.Gum.Arabic;.Indian.gum;.Wattle.gum\\n\\nCAS.No.:\\nCoE.No.:\\n\\n9000-01-05\\nn/a\\n\\nFL.No.:\\nEINECS.No.: 232-519-5\\n\\nn/a\\n\\nFEMA.No.:\\nJECFA.No.:\\n\\n2001\\nn/a\\n\\nNAS.No.:\\nE.No.:\\n\\n2001\\n414\\n\\nDescription:.Arabic.or.acacia.gum.is.the.dried.exudate.obtained.from.the.stems.and.branches.of.Acacia sen'"
      ]
     },
     "execution_count": 9,
     "metadata": {},
     "output_type": "execute_result"
    }
   ],
   "source": [
    "extracted[:500]"
   ]
  },
  {
   "cell_type": "markdown",
   "id": "a11d981e-5677-4148-97e2-0ba372c51505",
   "metadata": {},
   "source": [
    "Unexpectedly, this output is already cleaner than `PyPDF`; fewer extraneous line breaks are present."
   ]
  },
  {
   "cell_type": "markdown",
   "id": "aa69223e-1047-41a9-9850-50dae464c247",
   "metadata": {},
   "source": [
    "#### Via `extract_pages`"
   ]
  },
  {
   "cell_type": "code",
   "execution_count": 10,
   "id": "f459f23e-11e3-4d7b-a68f-466a697e179e",
   "metadata": {},
   "outputs": [],
   "source": [
    "from pdfminer.high_level import extract_pages"
   ]
  },
  {
   "cell_type": "code",
   "execution_count": 11,
   "id": "c2d5e4ce-5874-4828-9c00-7ef3339cffd8",
   "metadata": {},
   "outputs": [],
   "source": [
    "from pdfminer.layout import LTTextContainer, LTTextLine, LTChar"
   ]
  },
  {
   "cell_type": "code",
   "execution_count": 12,
   "id": "41a62874-4ef1-42af-830e-a757ed49a2ef",
   "metadata": {},
   "outputs": [],
   "source": [
    "extracted = []\n",
    "for page in extract_pages(\"raw-data/fenarolis-handbook.pdf\",\n",
    "                          page_numbers = [page for page in range(pagerange[0], pagerange[1])]):\n",
    "    for element in page:\n",
    "        extracted.append(element)"
   ]
  },
  {
   "cell_type": "markdown",
   "id": "3295afbd-794f-4b05-94e2-e87e858e57ae",
   "metadata": {},
   "source": [
    "The extracted elements can be read directly..."
   ]
  },
  {
   "cell_type": "code",
   "execution_count": 13,
   "id": "ca492482-e7cf-478f-a78e-ede8f205a827",
   "metadata": {},
   "outputs": [
    {
     "data": {
      "text/plain": [
       "[<LTTextBoxHorizontal(0) 54.000,690.564,79.992,726.564 'A\\n'>,\n",
       " <LTTextBoxHorizontal(1) 54.000,655.514,126.105,666.514 'ACACIA GUM\\n'>,\n",
       " <LTTextBoxHorizontal(2) 54.000,640.341,224.800,649.851 'Botanical name:.Acacia senegal.(L.).Willd.\\n'>,\n",
       " <LTTextBoxHorizontal(3) 54.000,624.837,179.295,634.337 'Botanical family:.Leguminosae\\n'>,\n",
       " <LTTextBoxHorizontal(4) 53.981,597.829,560.350,618.843 'Other names:.Acacia.[JAN];.Acacia senegal.gum;.Arabic.gum;.gum.Arabic;.Acacia delbata.gum;.Acacia.solution;.Acacia.syrup;.\\nAustralian.gum;.Gum.Arabic;.Indian.gum;.Wattle.gum\\n'>,\n",
       " <LTTextBoxHorizontal(5) 56.250,569.613,93.728,592.603 'CAS.No.:\\nCoE.No.:\\n'>,\n",
       " <LTTextBoxHorizontal(6) 116.252,569.613,160.579,592.603 '9000-01-05\\nn/a\\n'>,\n",
       " <LTTextBoxHorizontal(7) 182.248,569.613,281.827,592.603 'FL.No.:\\nEINECS.No.: 232-519-5\\n'>,\n",
       " <LTTextBoxHorizontal(8) 242.251,583.103,253.859,592.603 'n/a\\n'>,\n",
       " <LTTextBoxHorizontal(9) 308.247,569.613,354.522,592.603 'FEMA.No.:\\nJECFA.No.:\\n'>]"
      ]
     },
     "execution_count": 13,
     "metadata": {},
     "output_type": "execute_result"
    }
   ],
   "source": [
    "extracted[:10]"
   ]
  },
  {
   "cell_type": "markdown",
   "id": "f4c5c5ab-d578-407b-bf2f-1167764c6b81",
   "metadata": {},
   "source": [
    "...or they can be filtered by the LTTextContainer type to eliminate other elements (lines, etc.):"
   ]
  },
  {
   "cell_type": "code",
   "execution_count": 14,
   "id": "85ecd02c-f152-4b27-b7f7-eb86e47f69de",
   "metadata": {},
   "outputs": [
    {
     "name": "stdout",
     "output_type": "stream",
     "text": [
      "<LTTextLineHorizontal 54.000,690.564,79.992,726.564 'A\\n'>\n",
      "<LTTextLineHorizontal 54.000,655.514,126.105,666.514 'ACACIA GUM\\n'>\n",
      "<LTTextLineHorizontal 54.000,640.341,224.800,649.851 'Botanical name:.Acacia senegal.(L.).Willd.\\n'>\n",
      "<LTTextLineHorizontal 54.000,624.837,179.295,634.337 'Botanical family:.Leguminosae\\n'>\n",
      "<LTTextLineHorizontal 54.000,609.333,560.350,618.843 'Other names:.Acacia.[JAN];.Acacia senegal.gum;.Arabic.gum;.gum.Arabic;.Acacia delbata.gum;.Acacia.solution;.Acacia.syrup;.\\n'>\n",
      "<LTTextLineHorizontal 53.981,597.829,265.252,607.329 'Australian.gum;.Gum.Arabic;.Indian.gum;.Wattle.gum\\n'>\n",
      "<LTTextLineHorizontal 56.250,583.103,93.728,592.603 'CAS.No.:\\n'>\n",
      "<LTTextLineHorizontal 56.250,569.613,92.141,579.113 'CoE.No.:\\n'>\n",
      "<LTTextLineHorizontal 116.252,583.103,160.579,592.603 '9000-01-05\\n'>\n",
      "<LTTextLineHorizontal 116.252,569.613,127.861,579.113 'n/a\\n'>\n",
      "<LTTextLineHorizontal 182.249,583.103,212.335,592.603 'FL.No.:\\n'>\n",
      "<LTTextLineHorizontal 182.248,569.613,281.827,579.113 'EINECS.No.: 232-519-5\\n'>\n",
      "<LTTextLineHorizontal 242.251,583.103,253.859,592.603 'n/a\\n'>\n",
      "<LTTextLineHorizontal 308.247,583.103,353.638,592.603 'FEMA.No.:\\n'>\n",
      "<LTTextLineHorizontal 308.247,569.613,354.522,579.113 'JECFA.No.:\\n'>\n"
     ]
    }
   ],
   "source": [
    "for element in extracted[:10]:\n",
    "    if isinstance(element, LTTextContainer):\n",
    "        for text_line in element:\n",
    "            print(text_line)"
   ]
  },
  {
   "cell_type": "markdown",
   "id": "1fb55eb4-ad48-4077-a44e-7365b5e88932",
   "metadata": {},
   "source": [
    "Apparently reading the text by character rather than text box is also an option. Let's try that."
   ]
  },
  {
   "cell_type": "code",
   "execution_count": 15,
   "id": "593fe69d-b8af-4c0d-98c1-51720de508cb",
   "metadata": {},
   "outputs": [],
   "source": [
    "extracted_chars = []\n",
    "for page in extract_pages(\"raw-data/fenarolis-handbook.pdf\",\n",
    "                          page_numbers = [page for page in range(pagerange[0], pagerange[1])]\n",
    "                          ):\n",
    "    for element in page:\n",
    "        if isinstance(element, LTTextContainer):\n",
    "            for text_line in element:\n",
    "                for character in text_line:\n",
    "                    if isinstance(character, LTChar):\n",
    "                        extracted_chars.append((character._text, character.fontname, round(character.size, 1)))"
   ]
  },
  {
   "cell_type": "code",
   "execution_count": 16,
   "id": "ba5240bc-2efd-459d-bf9c-8280a99e9c82",
   "metadata": {},
   "outputs": [
    {
     "data": {
      "text/plain": [
       "[('A', 'TimesLTStd-Bold', 36.0),\n",
       " ('A', 'TimesLTStd-Bold', 11.0),\n",
       " ('C', 'TimesLTStd-Bold', 11.0),\n",
       " ('A', 'TimesLTStd-Bold', 11.0),\n",
       " ('C', 'TimesLTStd-Bold', 11.0),\n",
       " ('I', 'TimesLTStd-Bold', 11.0),\n",
       " ('A', 'TimesLTStd-Bold', 11.0),\n",
       " (' ', 'TimesLTStd-Bold', 11.0),\n",
       " ('G', 'TimesLTStd-Bold', 11.0),\n",
       " ('U', 'TimesLTStd-Bold', 11.0),\n",
       " ('M', 'TimesLTStd-Bold', 11.0),\n",
       " ('B', 'TimesLTStd-Bold', 9.5),\n",
       " ('o', 'TimesLTStd-Bold', 9.5),\n",
       " ('t', 'TimesLTStd-Bold', 9.5),\n",
       " ('a', 'TimesLTStd-Bold', 9.5),\n",
       " ('n', 'TimesLTStd-Bold', 9.5),\n",
       " ('i', 'TimesLTStd-Bold', 9.5),\n",
       " ('c', 'TimesLTStd-Bold', 9.5),\n",
       " ('a', 'TimesLTStd-Bold', 9.5),\n",
       " ('l', 'TimesLTStd-Bold', 9.5)]"
      ]
     },
     "execution_count": 16,
     "metadata": {},
     "output_type": "execute_result"
    }
   ],
   "source": [
    "extracted_chars[:20]"
   ]
  },
  {
   "cell_type": "markdown",
   "id": "dc87c391-0cb3-462b-8e2c-ec890ff60329",
   "metadata": {},
   "source": [
    "This could be a convenient break! The header information (here, the first \"A\") is in a unique font size. Each chemical entry (here, \"ACACIA GUM\") is both in all-caps and a unique font size. Finally, within that, data labels (such as \"Botanical name:\") are bolded. This font information could be a useful way to parse the document."
   ]
  },
  {
   "cell_type": "markdown",
   "id": "15c6aeee-9fd2-43eb-8038-3340bc30df00",
   "metadata": {},
   "source": [
    "#### Try parsing the document by font formatting."
   ]
  },
  {
   "cell_type": "markdown",
   "id": "9a1bb9eb-2eb9-4901-b768-647ec6d9b725",
   "metadata": {},
   "source": [
    "I'll do this in some nice, organized functions so that after I troubleshoot them, I can easily reuse them to extract the entire ~2000 page document."
   ]
  },
  {
   "cell_type": "code",
   "execution_count": 17,
   "id": "99f7b354-ea54-40bb-b110-716881dbecef",
   "metadata": {},
   "outputs": [],
   "source": [
    "def read_line(textline: str) -> str:\n",
    "    \n",
    "    \"\"\"\n",
    "    Called:\n",
    "         By parse_pages function for partial parsing of a PDF document.\n",
    "    Accepts:\n",
    "         textline: A LTTextLine object from partial PDF parsing by pdfminer\n",
    "    Returns:\n",
    "         a string of text from the TextLine object, terminating with a pipe (|)\n",
    "    \"\"\"\n",
    "    \n",
    "    text = []\n",
    "    for character in textline:\n",
    "        if isinstance(character, LTChar):\n",
    "            text.append(character._text)\n",
    "    text.append(\"|\") # Include pipe as a separator at the end of each text container.\n",
    "                     # This will be a fallback in case values cannot readily be parsed\n",
    "                     # a more elegant way down the road.\n",
    "    return \"\".join(text)"
   ]
  },
  {
   "cell_type": "code",
   "execution_count": 18,
   "id": "9ad810cf-6e35-4b0f-bb35-45cd7b1b4943",
   "metadata": {},
   "outputs": [],
   "source": [
    "def start_new_entry_content(segmented_entry: list) -> str:\n",
    "    \n",
    "    \"\"\"\n",
    "    Called:\n",
    "        By parse_pages function whenever a new encyclopedia entry is detected.\n",
    "    Purpose:\n",
    "        Clean up the *prior entry's* content, which at the time of calling is\n",
    "        stored as a disjointed list of strings, segmented_entry.\n",
    "    Accepts:\n",
    "        segmented_entry: A list of strings containing the body of reference\n",
    "              information for a single encyclopedia entry. The strings are\n",
    "              of varied length, and their length isn't particularly\n",
    "              meaningful.\n",
    "    Returns:\n",
    "        a single string combining all the entries from the input list.\n",
    "    \"\"\"\n",
    "    \n",
    "    return \" \".join(segmented_entry)"
   ]
  },
  {
   "cell_type": "code",
   "execution_count": 19,
   "id": "d2b497d2-c774-4953-8865-8af15d5e0447",
   "metadata": {},
   "outputs": [],
   "source": [
    "# Display a progress bar so this long process doesn't occur\n",
    "# entirely in a black box.\n",
    "from tqdm import tqdm"
   ]
  },
  {
   "cell_type": "code",
   "execution_count": 20,
   "id": "619bcb33-23a7-49c7-b94a-3e8fd4ef75fe",
   "metadata": {},
   "outputs": [],
   "source": [
    "def parse_pages(start_page: int, end_page: int) -> tuple:\n",
    "    \n",
    "    \"\"\"\n",
    "    Called:\n",
    "        By user.\n",
    "    Purpose:\n",
    "        Manage data extraction from the multipage Fenaroli's Handbook PDF.\n",
    "    Accepts:\n",
    "        start_page: int indicating the first page of the PDF for extraction\n",
    "        end_page: int indicating the final page of the PDF for extraction\n",
    "    Returns:\n",
    "        a tuple containing:\n",
    "            - a list of titles for articles from the encyclopedia-style book\n",
    "            - a list containing the corresponding article content (with one\n",
    "              list entry for each article)\n",
    "    \"\"\"\n",
    "    \n",
    "    \n",
    "    extracted = []\n",
    "    entry_titles = []\n",
    "    entry_content = []\n",
    "    partial_content = []\n",
    "\n",
    "    for page in tqdm(extract_pages(\"raw-data/fenarolis-handbook.pdf\",\n",
    "                                   page_numbers = [page for page in range(start_page, end_page)])):\n",
    "        for element in page:\n",
    "            # extracted.append(element)\n",
    "            if isinstance(element, LTTextContainer):\n",
    "                for text in element:\n",
    "                    \n",
    "                    if isinstance(text, LTTextLine):\n",
    "                        # If we are, in fact, iterating over a TextLine object\n",
    "                        # as expected instead of, e.g., a LTChar single\n",
    "                        # character, then proceed. Single characters in text\n",
    "                        # containers will be ignored.\n",
    "                        \n",
    "                        # First, extract the text from this line.\n",
    "                        newline = read_line(text)\n",
    "\n",
    "                        # Then figure out how to categorize the line.\n",
    "                        # Determine the font size for this line based on the first\n",
    "                        # character present. Is this the title of an encyclopedia entry\n",
    "                        # (font size 11), the body of an entry (font size 9.5), or\n",
    "                        # something else (in which case it can be ignored)?\n",
    "                        chars = [char for char in text]\n",
    "                        if isinstance(chars[0], LTChar):\n",
    "                            if round(chars[0].size, 1) == 11:\n",
    "                                entry_titles.append(newline)\n",
    "                                # When a new entry is detected, wrap up the old entry &\n",
    "                                # prepare to start a fresh new one.\n",
    "                                entry_content.append(start_new_entry_content(partial_content))\n",
    "                                partial_content = []\n",
    "                            elif round(chars[0].size, 1) == 9.5:\n",
    "                                partial_content.append(newline)\n",
    "                            else:\n",
    "                                pass\n",
    "    \n",
    "    # Before finishing, append the final partial_content to entry_content, if any\n",
    "    entry_content.append(start_new_entry_content(partial_content))\n",
    "      \n",
    "    return entry_titles, entry_content"
   ]
  },
  {
   "cell_type": "markdown",
   "id": "acc2142e-17c2-4f04-8041-0fc567319e53",
   "metadata": {},
   "source": [
    "Now, let's test these functions to make sure everything is working as expected:"
   ]
  },
  {
   "cell_type": "code",
   "execution_count": 21,
   "id": "d7b212d9-f428-4f66-8fc7-8cdbcfe7309e",
   "metadata": {
    "tags": []
   },
   "outputs": [
    {
     "name": "stderr",
     "output_type": "stream",
     "text": [
      "5it [00:02,  1.69it/s]\n"
     ]
    }
   ],
   "source": [
    "entry_titles, entry_content = parse_pages(25, 30)"
   ]
  },
  {
   "cell_type": "code",
   "execution_count": 22,
   "id": "125b9feb-1c36-4301-b176-837835d1b7de",
   "metadata": {},
   "outputs": [
    {
     "data": {
      "text/plain": [
       "['ACACIA GUM|',\n",
       " 'ACETAL|',\n",
       " 'ACETALDEHYDE|',\n",
       " 'ACETALDEHYDE, BUTYL PHENETHYL ACETAL|',\n",
       " 'ACETALDEHYDE DI-cis-3-HEXENYL ACETAL|']"
      ]
     },
     "execution_count": 22,
     "metadata": {},
     "output_type": "execute_result"
    }
   ],
   "source": [
    "entry_titles"
   ]
  },
  {
   "cell_type": "code",
   "execution_count": 23,
   "id": "c3a236f5-4c25-4c6e-9ee6-e425a64485d6",
   "metadata": {},
   "outputs": [
    {
     "data": {
      "text/plain": [
       "['',\n",
       " 'Botanical name:.Acacia senegal.(L.).Willd.| Botanical family:.Leguminosae| Other names:.Acacia.[JAN];.Acacia senegal.gum;.Arabic.gum;.gum.Arabic;.Acacia delbata.gum;.Acacia.solution;.Acacia.syrup;.| Australian.gum;.Gum.Arabic;.Indian.gum;.Wattle.gum| CAS.No.:| CoE.No.:| 9000-01-05| n/a| FL.No.:| EINECS.No.:232-519-5| n/a| FEMA.No.:| JECFA.No.:| 2001| n/a| NAS.No.:| E.No.:| 2001| 414| Description:.Arabic.or.acacia.gum.is.the.dried.exudate.obtained.from.the.stems.and.branches.of.Acacia senegal (L.).Willd..or.of.| related.species.of.Acacia..Injured.trees.exude.gum.Arabic;.heat,.poor.nutrition.and.drought.stimulate.its.production..Most.of.the.gum.| Arabic.production.is.from.wild.trees,.but.some.from.privately.owned.and.cultivated.gardens.are.tapped.and.collected.on.a.systematic.| basis.| The.gum.called.Hashab.geneina.(garden.gum).is.the.cleanest.and.lightest.grade.and.is.most.preferred.for.the.U.S..market..The.wild.| gum.(called.Hashab.wady).is.collected.on.a.part-time.basis.in.the.dry.season,.from.October.to.May.or.June,.by.natives.whose.main.| occupation.is.usually.farming..After.gathering,.it.is.taken.to.central.collecting.stations.where.it.is.auctioned.under.government.super-| vision,.graded.by.hand.and.dried.before.exporting.to.gum.suppliers.in.all.parts.of.the.world..Then.it.is.resorted,.ground,.processed.| and.graded.to.various.specifications.| Clear,.white.(sun-bleached).spheroidal.tears,.up.to.32.mm.in.diameter,.also.occur.as.flakes..Chemically,.gum.Arabic.is.a.neutral.or.| slightly.acid.salt.of.a.complex.polysaccharide.containing.calcium,.magnesium.and.potassium.cations..Its.most.distinguishing.prop-| erty.among.the.natural.gums.is.its.extreme.solubility.in.water..Solutions.of.over.50%.concentration.may.be.prepared..Gum.Arabic.| is.best.described.as.“heteropolymolecular,”.that.is,.a.polymer.system.having.either.a.variation.in.monomer.(galactose,.arabinose,.| rhamnose,.glucuronic.acid.and.4-O-methylgucuronic.acid).composition.and/or.variation.in.the.mode.of.linking.and.branching.of.the.| monomer.units,.in.addition.to.a.distribution.in.molecular.weight.| Major.uses.of.gum.Arabic.in.foods.are.as.a.fixative.for.flavors,.a.foam.stabilizer.in.beverages,.an.adhesive.for.icings.and.toppings,.| and.an.emulsifier.and.stabilizer.in.confectionary.and.ice.cream..It.is.also.widely.used.in.the.pharmaceutical,.cosmetic,.paper,.textile,.| paint,.ink.and.lithography.industries.| Consumption: Annual:.12,000,000.00.lb.| Regulatory Status:| CoE:.n/a| FDA:.21.CFR.169.179, 172.780,.184.1330,.582.7330;.27.CFR.24.246;.240.1051| FDA.(other):.Listed.in.Inactive.Ingredient.Guide.(CDER,.1996);.HOC.(1992)| JECFA:.ADI:.Not.specified.(1989)| Individual:.10.1694.mg/kg/day| Trade association guidelines:.FEMA.PADI:.2.47.mg.| Specifications:.(FCC,.1996)| Appearance| White.or.yellowish.white.spheroidal.| tears| Heavy.metals.(as.Pb)Not.more.than.0.002%| IOFI:.Natural| Arsenic.(as.As)| Not.more.than.3.mg/kg| Identification| Ash.(acid-insoluble)Not.more.than.0.5%| Ash.(total)| Not.more.than.4%| Insoluble.matter| Solubility| To.10.mL.of.a.cold.1-in-50.solution.of.| acacia,.add.0.2.mL.diluted.lead.| subacetate.TS;.a.flocculent,.or.curdy,.| white.precipitate.is.formed.| immediately| Not.more.than.1%| 1.g.Dissolves.in.2.mL.water| 2.| Reported uses (ppm):.(FEMA,.1994)| Food Category| Alcoholic.beverages| Baked.goods| Breakfast.cereals| Chewing.gum| Condiments,.relishes| Confection,.frosting| Fats,.oils| Frozen.dairy| Fruit.juice| Fruit.ices| Gelatins,.puddings| Hard.candy| Aroma threshold values: n/a| Usual| 0.59| 0.78| 0.07| 27.83| 0.09| 12.72| 4.34| 0.24| 0.36| 5.00| 0.61| 276.50| Max.| 1.53| 3.84| 0.18| 28.04| 0.11| 14.86| 12.61| 0.32| 0.56| 9.99| 5.28| 284.70| Food Category| Imitation.dairy| Instant.coffee,.tea| Meat.products| Milk.products| Nonalcoholic.beverages| Nut.products| Other.grains| Snack.foods| Soft.candy| Soups| Sugar.substitutes| Max.| 12.50| 0.80| 3.37| 0.04| 0.66| 7.28| 10.00| 28.57| 452.10| 0.04| 10.00| Usual| 9.56| 0.13| 0.99| 0.04| 0.36| 6.38| 10.00| 5.72| 269.20| 0.04| 10.00| Taste threshold values: Absolute;.taste.characteristics.at.15.ppm:.spicy.sweet,.fruity.and.honey.with.a.woody,.herbal.nuance.|',\n",
       " 'Synonyms: Acetaldehyde.diethyl.acetal;.Acetaldehyde.ethyl.acetal;.Acetol;.Diethylacetal;.Dithane,.1,1-diethoxy-;.Ethylidene.diethyl.| ether;.Ethylidenediethyl.ether;.1,1-Diethoxyethane| CAS.No.:| CoE.No.:| 105-57-7| 35| FL.No.:| EINECS.No.:203-310-6| 06.001| FEMA.No.:| JECFA.No.:| 2002| 941| NAS.No.:| 2002| Description:.Acetal.has.a.refreshing,.pleasant,.fruity-green.odor.| Consumption: Annual:.1000.00.lb.| Regulatory Status:| Individual:.0.0008474.mg/kg/day| CoE:.Approved..Bev.:.23.ppm;.Food:.20.ppm| FDA:.21 CFR.172.515| FDA.(other):.n/a| JECFA:.ADI:.Acceptable..No.safety.concern.at.current.levels.of.intake.when.used.as.a.flavoring.agent.(2001).| Trade association guidelines: FEMA.PADI:.11.580.mg.| IOFI:.Nature.Identical| Empirical Formula/MW:| C6H14O2/118.18| Specifications:.(JECFA,.2008)| Acid.value.(max)| 1.0| Refractive.index| Appearance| Volatile.colorless.liquid| Solubility| Assay.(min)| Boiling.point| 95%.C6H14O2| 102°C| Specific.gravity| 1.378–1.386.(20°C)| Soluble.in.alcohol.(1.mL.in.1.mL.95%.| ethanol).propylene.glycol.and.| vegetable.oils;.slightly.soluble.in.| water| 0.822–0.831.(25°C)| .| Reported uses (ppm):.(FEMA,.1994)| Food Category| Alcoholic.beverages| Baked.goods| Chewing.gum| Fats,.oils| Frozen.dairy| Usual| 5.00| 65.20| 154.70| 1.80| 35.66| Max.| 13.33| 89.70| 154.70| 2.50| 72.70| 3| Food Category| Gelatins,.puddings| Hard.candy| Nonalcoholic.beverages| Soft.candy| Usual| 36.39| 4.20| 5.41| 32.69| Max.| 66.78| 4.20| 10.55| 55.93| Synthesis: From.ethyl.alcohol.and.acetaldehyde.in.the.presence.of.anhydrous.calcium.chloride.or.small.amounts.of.mineral.| acids.(HCl).| Aroma threshold values: Detection:.4.to.42.ppb| Taste threshold values: n/a| Natural occurrence:.Present.in.some.liquors.(e.g.,.sake,.whiskey.and.cognac);.also.detected.and.quantitatively.assessed.in.rums..| Found.in.apple.juice,.orange.juice,.orange.peel.oil,.bitter.orange.juice,.strawberry.fruit,.raw.radish,.Chinese.quince.fruit,.Chinese.| quince.flesh,.udo.(Aralia cordata Thunb.).|',\n",
       " 'Synonyms: Ethanal;.Acetic.aldehyde;.Acetylaldehyde;.Ethyl.aldehyde| CAS.No.:| CoE.No.:| 75-07-0| 89| FL.No.:| EINECS.No.:200-836-8| 05.001| FEMA.No.:| JECFA.No.:| 2003| 80| NAS.No.:| 2003| Description:.Acetaldehyde.is.a.colorless,.flammable.liquid.with.a.characteristic.pungent,.penetrating,.ethereal.odor..As.a.flavor.| ingredient/enhancer,.as,.for.example,.in.orange.juice,.acetaldehyde.helps.create.naturalness,.fruitiness.and.juiciness.| Consumption: Annual:.186666.6.lb..| Regulatory Status:| Individual:.0.1581.mg/kg/day| CoE:.Approved..Bev.:.23.ppm;.Food:.20.ppm| FDA:.21 CFR.182.60,.582.60;.27.CFR.19.460,.21.et seq.| FDA.(other):.n/a| JECFA:.ADI:.Acceptable..No.safety.concern.at.current.levels.of.intake.when.used.as.a.flavoring.agent.(1997).| Trade association guidelines: FEMA.PADI:.35.261.mg..| IOFI:.Nature.Identical| Empirical Formula/MW:| C2H4O/44.05| Specifications:.(FCC,.1996)| Acid.value.(max)| 5.0| Appearance| Colorless,.liquid| Assay.(min)| 99%| Boiling.point| Residue.on.| evaporation| Solubility| 21°C| 0.0006%| Miscible.in.water,.alcohol.and.organic.| solvents| 4.| Reported uses (ppm):.(FEMA,.1994)| Food Category| Alcoholic.beverages| Baked.goods| Cheese| Chewing.gum| Condiment,.relish| Confection,.frosting| Fats,.oils| Frozen.dairy| Fruit.ices| Gelatin,.pudding| Gravies| Usual| 470.00| 30.00| 0.0005| 0.78| 0.50| 83.00| 0.10| 94.00| 50.00| 8.10| 0.61| Max.| 470.00| 280.00| 600.00| 9.20| 5.00| 2000.00| 4.00| 150.00| 100.00| 100.00| 53.00| Food Category| Hard.candy| Imitation.dairy| Jams,.jellies| Meat.products| Milk.products| Nonalcoholic.beverages| Reconstituted.vegetables| Snack.foods| Soft.candy| Sweet.sauce| Usual| 9.29| 0.20| 23.00| 1.67| 76.00| 38.00| 0.0085| 0.25| 3.00| 13.00| Max.| 21.49| 0.70| 50.00| 5.53| 76.00| 190.00| 0.02| 10.00| 1000.00| 230.00| Synthesis: The.method.of.synthesis.is.dependent.on.the.price.of.feedstock.and.may.be.produced.by.a.number.of.methods:.(1).by.| oxidation.of.ethyl.alcohol.with.potassium.dichromate.or.manganese.dioxide.in.the.presence.of.sulfuric.acid;.(2).by.addition.of.water.| to.acetylene;.(3).by.formation.during.the.natural.alcoholic.fermentation.process..Recovery.is.effected.by.suitable.fractionation,.sub-| sequent.preparation.of.the.acetaldehyde.ammonia.and.final.treatment.of.the.addition.compound.with.diluted.sulfuric.acid.| Aroma threshold values: Detection:.0.7.to.200.ppb;.Recognition:.27.to.380.ppb| Taste threshold values: n/a| Natural occurrence: Reported.found.in.oak.and.tobacco.leaves;.in.the.fruital.aromas.of.pear,.apple,.raspberry,.strawberry.and.pine-| apple;.in.the.distillation.waters.of.Monarda punctata, orris,.cumin,.chenopodium;.in.the.essential.oils.of.Litsea cubeba, Magnolia | grandiflora, Artemisia brevifolia, rosemary,.balm,.clary.sage,.Mentha arvensis, daffodil,.bitter.orange,.camphor,.angelica,.fennel,.| mustard,.Scotch.blended.whiskey,.Japanese.whiskey,.rose.wine,.blackberry.brandy.and.rum.|',\n",
       " 'Synonyms: Benzene, (2-(1-butoxyethoxy)ethyl)-; 2-Butoxy-2-phenylethoxy-ethane.Acetal.R;.Pepital;.1-Phenethoxy-1-propoxy-| ethane;.Propyl.phenethyl.acetal;.2-(1-Butoxyethoxy)ethyl.benzene;.Benzene,.2-(1-butoxyethoxy)ethyl-;.2-(1-Butoxyethoxy)| ethyl.benzene| CAS.No.:| CoE.No.:| 64577-91-9| 10007| FL.No.:| EINECS.No.:264-948-9| 06.036| FEMA.No.:| JECFA.No.:| 3125| 1001| NAS.No.:| 3125| Description:.A.liquid.with.a.green.leafy.aroma.and.a.green.paper.taste.| Consumption:.Annual:.<1.00.lb.| Regulatory Status:| Individual:.0.00000084.mg/kg/day| CoE:.n/a| FDA:.n/a| FDA.(other):.n/a| JECFA:.ADI:.Acceptable..No.safety.concern.at.current.levels.of.intake.when.used.as.a.flavoring.agent.(2002).| Trade association guidelines: FEMA.PADI:.0.546.mg.| IOFI:.Artificial| Empirical Formula/MW:| C14H22O2/222.33| .| 5| Specifications:.(JECFA,.2008)| Acid.value.(max).| 1.0| Appearance| Colorless.liquid| Assay.(min)| Boiling.point| 97%| 280–282°C| Reported uses (ppm):.(FEMA,.1994)| Food Category| Baked.goods| Frozen.dairy| Gelatins,.puddings| Synthesis: n/a| Aroma threshold values: n/a| Taste threshold values: n/a| Refractive.index| Solubility| Specific.gravity| 1.467–1.481.(20°C)| Miscible.in.oils;.miscible.in.ethanol.at.| room.temperature| 0.923–0.935.(25°C)| Usual| 2.00| 2.33| 1.00| Max.| 3.00| 3.00| 3.00| Food Category| Nonalcoholic.beverages| Soft.candy| Usual| 1.67| 3.00| Max.| 3.00| 4.00| Natural occurrence:.Not.reported.found.in.nature.|',\n",
       " 'Synonyms: 1,1-bis[3(Z)-Hexenyloxy]propane; (Z,Z)-1,1ʹ-[Ethylidenebis(oxy)]di(hex-3-ene); 3-Hexene, 1,1ʹ-(ethylidenebis(oxy))| bis-, (3Z,3ʹZ)-; Acetaldehyde di-(Z)-3-hexen-1-yl acetal;.Acetaldehyde.di-(Z)-3-hexenyl.acetal;.(Z,Z)-1,1ʹ-(Ethylidenebis(oxy))| di(hex-3-ene);.3-Hexene,.1,1ʹ-(ethylidenebis(oxy))bis-,.(Z,Z)-;.Leaf.alcohol.(dihexenyl).acetal| CAS.No.:| CoE.No.:| FL.No.:| EINECS.No.| FEMA.No.:| JECFA.No.:| 63449-64-9| n/a| n/a| 264-154-2| 4381| 1747| NAS.No.:| n/a| Description:.Clear,.colorless.liquid;.strong,.green,.herbaceous.aroma.| Consumption: Odor.and/or.flavor.used.in.balsam,.green,.herbal,.and.leaf...| Individual:.n/a| Regulatory Status:| CoE:.n/a| FDA:.n/a| FDA.(other):.n/a| JECFA:.ADI:.Acceptable..No.safety.concern.at.current.levels.of.intake.when.used.as.a.flavoring.agent.(2007).| Trade association guidelines: FEMA.PADI:.2.717.mg.| Empirical Formula/MW:| IOFI:.n/a| C14H26O2/226.36| Specifications:.(JECFA,.2008)| Acid.value.(max)| Assay.(min)| 1.0| 96%| Boiling.point| 278–279°C.| Refractive.index| Solubility| Specific.gravity| 1.442–1.448.(20°C)| Insoluble.in.water;.soluble.in.organic.| solvents.and.ethanol| 0.864–0.870.(25°C)|']"
      ]
     },
     "execution_count": 23,
     "metadata": {},
     "output_type": "execute_result"
    }
   ],
   "source": [
    "entry_content"
   ]
  },
  {
   "cell_type": "markdown",
   "id": "f0201d56-3e89-4b80-81da-d28d0d976638",
   "metadata": {},
   "source": [
    "**Fantastic.** This is working fairly nicely. The last thing that needs to be done (bare minimum) before turning this loose on the full document is to extract out the unique CAS identification numbers. These will be the most reliable way for searching the data later."
   ]
  },
  {
   "cell_type": "markdown",
   "id": "c65bb865-f4f3-4606-b8c4-de6db0180c57",
   "metadata": {},
   "source": [
    "#### Extract unique CAS numbers"
   ]
  },
  {
   "cell_type": "markdown",
   "id": "dd6f44a0-a7f1-4c37-9284-d32c24016eea",
   "metadata": {},
   "source": [
    "Because of the structure of the PDF document & my approach to extracting it, the unique CAS numbers that we need have an extraneous data label (\"CoE.No.\") between the \"CAS No.\" label and the number itself, e.g.: \"CAS.No.:| CoE.No.:| 105-57-7|\" So, the simplest way to find the CAS number will likely be to search for the extraneous \"CoE.No.\" and snag the number that follows it."
   ]
  },
  {
   "cell_type": "code",
   "execution_count": 24,
   "id": "0a3b2bd7-f213-4e2a-b1c4-b350174e3c3b",
   "metadata": {},
   "outputs": [],
   "source": [
    "import re"
   ]
  },
  {
   "cell_type": "code",
   "execution_count": 25,
   "id": "906a15a3-dbb9-42bd-b9b8-f4f01399cc73",
   "metadata": {},
   "outputs": [],
   "source": [
    "def extract_cas_num(chem_desc: str) -> str:\n",
    "        \n",
    "    \"\"\"\n",
    "    Called:\n",
    "        By user.\n",
    "    Purpose:\n",
    "        Extract a chemical's unique CAS number identifier from the chemical\n",
    "        description extracted from the Fenaroli's Handbook.\n",
    "    Accepts:\n",
    "        chem_desc: String containing the entirety of one chemical's entry\n",
    "            in the Fenaroli's Handbook.\n",
    "    Returns:\n",
    "        a string: the unique CAS number\n",
    "    \"\"\"\n",
    "    \n",
    "    regex = r\"CoE.No.:\\|\\s[\\d\\-]+\"\n",
    "    found = re.search(regex, chem_desc)\n",
    "    if found:\n",
    "        cas_num = re.sub(\"CoE.No.:\\|\\s\", \"\", found.group(0))\n",
    "        return cas_num\n",
    "    else:\n",
    "        pass"
   ]
  },
  {
   "cell_type": "code",
   "execution_count": 26,
   "id": "82604f34-5d78-4711-bd02-e37facb8edbc",
   "metadata": {},
   "outputs": [
    {
     "data": {
      "text/plain": [
       "'105-57-7'"
      ]
     },
     "execution_count": 26,
     "metadata": {},
     "output_type": "execute_result"
    }
   ],
   "source": [
    "extract_cas_num(entry_content[2])"
   ]
  },
  {
   "cell_type": "markdown",
   "id": "1853c5fd-0129-4781-bbe4-d8bc9c55bb41",
   "metadata": {},
   "source": [
    "## Extract the complete data set"
   ]
  },
  {
   "cell_type": "markdown",
   "id": "baea5fbe-4e25-43ef-90a2-34333bf81d63",
   "metadata": {},
   "source": [
    "Using the functions above, extract the complete data set from the Fenaroli's Handbook. At this stage, we will generate a fairly crude data set:\n",
    "* `titles`: A list of article titles (each corresponding to an individual chemical name) for each entry in the Handbook.\n",
    "* `descriptions`: A list containing the complete full text of the Handbook, with one list entry per chemical.\n",
    "* `cas_nums`: A list of unique CAS numbers, with one list entry per chemical."
   ]
  },
  {
   "cell_type": "markdown",
   "id": "83af4294-d2e3-4af0-a7f2-9000984addbf",
   "metadata": {},
   "source": [
    "### Parse the PDF"
   ]
  },
  {
   "cell_type": "markdown",
   "id": "9f26997e-54a3-4f22-8cee-eaf6ed10b2c5",
   "metadata": {},
   "source": [
    "Using the functions above, crudely parse the PDF into lists of chemical `titles` and their `descriptions."
   ]
  },
  {
   "cell_type": "code",
   "execution_count": 27,
   "id": "5a63fdf3-61ba-4a34-9457-8d95d63d3e69",
   "metadata": {},
   "outputs": [
    {
     "name": "stderr",
     "output_type": "stream",
     "text": [
      "2036it [06:59,  4.86it/s]\n"
     ]
    }
   ],
   "source": [
    "titles, descriptions = parse_pages(25, 2061)"
   ]
  },
  {
   "cell_type": "markdown",
   "id": "433c3682-a22c-4a60-8e3c-b30738b783f6",
   "metadata": {},
   "source": [
    "Double-check that an equal number of entry titles and entry descriptions were found:"
   ]
  },
  {
   "cell_type": "markdown",
   "id": "4e5552df-1123-4c9f-bfc2-33ead8753ae4",
   "metadata": {},
   "source": [
    "Remember that the list of extracted extracted data entries, `descriptions`, has an unnecessary blank entry at the beginning (because of line 51 in `parse_pages`). Remove that before proceeding."
   ]
  },
  {
   "cell_type": "code",
   "execution_count": 28,
   "id": "b2d8b575-dbfb-4d26-8de4-52f25a8d0ead",
   "metadata": {
    "tags": []
   },
   "outputs": [
    {
     "data": {
      "text/plain": [
       "''"
      ]
     },
     "execution_count": 28,
     "metadata": {},
     "output_type": "execute_result"
    }
   ],
   "source": [
    "descriptions.pop(0)"
   ]
  },
  {
   "cell_type": "code",
   "execution_count": 29,
   "id": "a4205df8-eaf4-483f-8e6d-1f89eeace9cb",
   "metadata": {},
   "outputs": [
    {
     "data": {
      "text/plain": [
       "(2735, 2735)"
      ]
     },
     "execution_count": 29,
     "metadata": {},
     "output_type": "execute_result"
    }
   ],
   "source": [
    "len(titles), len(descriptions)"
   ]
  },
  {
   "cell_type": "markdown",
   "id": "c5ff3c2f-0a28-4b69-93cb-fae56a158a92",
   "metadata": {},
   "source": [
    "### Extract CAS numbers"
   ]
  },
  {
   "cell_type": "markdown",
   "id": "e4eba18f-7746-4ba9-b3bb-305430d5b435",
   "metadata": {},
   "source": [
    "Generate a list of CAS numbers, `cas_nums`, to serve as unique identifiers for each chemical entry. The CAS numbers are currently buried in the list of `descriptions`."
   ]
  },
  {
   "cell_type": "code",
   "execution_count": 30,
   "id": "71e778aa-accc-45ef-94aa-f100d7da416e",
   "metadata": {
    "tags": []
   },
   "outputs": [],
   "source": [
    "cas_nums = []\n",
    "for desc in descriptions:\n",
    "    cas_nums.append(extract_cas_num(desc))"
   ]
  },
  {
   "cell_type": "markdown",
   "id": "d052a900-2e6e-4b9c-8be4-b20078ea1b81",
   "metadata": {},
   "source": [
    "### Clean up the descriptions"
   ]
  },
  {
   "cell_type": "markdown",
   "id": "90e9bfcc-4601-41d0-a8a4-3bae22d26527",
   "metadata": {},
   "source": [
    "The `descriptions` are pretty ugly right now, featuring a lot of unnecessary periods that are artifacts from the PDF reading, as well as a bunch of pipes (|) we inserted earlier as a backup plan for text separation. Go a head and remove both."
   ]
  },
  {
   "cell_type": "code",
   "execution_count": 31,
   "id": "699654ae-efa1-4eca-b1df-21e3d2aba4af",
   "metadata": {},
   "outputs": [],
   "source": [
    "clean_descriptions = [desc.replace(\".\", \" \").replace(\"|\", \"\") for desc in descriptions]"
   ]
  },
  {
   "cell_type": "markdown",
   "id": "54036365-0ea6-42fc-a64f-810f6d6d5f14",
   "metadata": {
    "tags": []
   },
   "source": [
    "### Fix the casing of entry `titles`"
   ]
  },
  {
   "cell_type": "markdown",
   "id": "09de5638-7b4c-42c7-bee5-d42c93768556",
   "metadata": {},
   "source": [
    "The list of `titles` are currently being yelled in all caps. Replace that with title case."
   ]
  },
  {
   "cell_type": "code",
   "execution_count": 32,
   "id": "652f1aea-c072-406e-9002-37222420bc03",
   "metadata": {},
   "outputs": [],
   "source": [
    "clean_titles = [title.replace(\"|\", \"\").title() for title in titles] # Hey, I heard you like titles."
   ]
  },
  {
   "cell_type": "markdown",
   "id": "2a12a55a-f087-46ce-af3b-d40b821f0ee8",
   "metadata": {},
   "source": [
    "### Bundle the extracted data into a dict"
   ]
  },
  {
   "cell_type": "markdown",
   "id": "adbfaf3a-b745-4b35-933b-28edf22e414f",
   "metadata": {
    "tags": []
   },
   "source": [
    "Combine the lists of `titles`, `descriptions`, and `cas_nums` into a single list of dicts."
   ]
  },
  {
   "cell_type": "code",
   "execution_count": 33,
   "id": "b2afeff9-ce99-4b3b-839d-fb01e0a9b93c",
   "metadata": {},
   "outputs": [
    {
     "data": {
      "text/plain": [
       "(2735, 2735, 2735)"
      ]
     },
     "execution_count": 33,
     "metadata": {},
     "output_type": "execute_result"
    }
   ],
   "source": [
    "len(clean_titles), len(clean_descriptions), len(cas_nums)"
   ]
  },
  {
   "cell_type": "code",
   "execution_count": 34,
   "id": "b8a68ebc-b171-4675-9ce7-dca1cb065e37",
   "metadata": {},
   "outputs": [],
   "source": [
    "aromas = []\n",
    "for i in range(len(clean_titles)):\n",
    "    aromas.append(dict(CAS_num = cas_nums[i],\n",
    "                       name = clean_titles[i],\n",
    "                       full_description = clean_descriptions[i]))"
   ]
  },
  {
   "cell_type": "code",
   "execution_count": 35,
   "id": "ff46d257-8205-4c00-aff0-243af3081bcb",
   "metadata": {},
   "outputs": [
    {
     "data": {
      "text/plain": [
       "{'CAS_num': '9000-01-05',\n",
       " 'name': 'Acacia Gum',\n",
       " 'full_description': 'Botanical name: Acacia senegal (L ) Willd  Botanical family: Leguminosae Other names: Acacia [JAN]; Acacia senegal gum; Arabic gum; gum Arabic; Acacia delbata gum; Acacia solution; Acacia syrup;  Australian gum; Gum Arabic; Indian gum; Wattle gum CAS No : CoE No : 9000-01-05 n/a FL No : EINECS No :232-519-5 n/a FEMA No : JECFA No : 2001 n/a NAS No : E No : 2001 414 Description: Arabic or acacia gum is the dried exudate obtained from the stems and branches of Acacia senegal (L ) Willd  or of  related species of Acacia  Injured trees exude gum Arabic; heat, poor nutrition and drought stimulate its production  Most of the gum  Arabic production is from wild trees, but some from privately owned and cultivated gardens are tapped and collected on a systematic  basis  The gum called Hashab geneina (garden gum) is the cleanest and lightest grade and is most preferred for the U S  market  The wild  gum (called Hashab wady) is collected on a part-time basis in the dry season, from October to May or June, by natives whose main  occupation is usually farming  After gathering, it is taken to central collecting stations where it is auctioned under government super- vision, graded by hand and dried before exporting to gum suppliers in all parts of the world  Then it is resorted, ground, processed  and graded to various specifications  Clear, white (sun-bleached) spheroidal tears, up to 32 mm in diameter, also occur as flakes  Chemically, gum Arabic is a neutral or  slightly acid salt of a complex polysaccharide containing calcium, magnesium and potassium cations  Its most distinguishing prop- erty among the natural gums is its extreme solubility in water  Solutions of over 50% concentration may be prepared  Gum Arabic  is best described as “heteropolymolecular,” that is, a polymer system having either a variation in monomer (galactose, arabinose,  rhamnose, glucuronic acid and 4-O-methylgucuronic acid) composition and/or variation in the mode of linking and branching of the  monomer units, in addition to a distribution in molecular weight  Major uses of gum Arabic in foods are as a fixative for flavors, a foam stabilizer in beverages, an adhesive for icings and toppings,  and an emulsifier and stabilizer in confectionary and ice cream  It is also widely used in the pharmaceutical, cosmetic, paper, textile,  paint, ink and lithography industries  Consumption: Annual: 12,000,000 00 lb  Regulatory Status: CoE: n/a FDA: 21 CFR 169 179, 172 780, 184 1330, 582 7330; 27 CFR 24 246; 240 1051 FDA (other): Listed in Inactive Ingredient Guide (CDER, 1996); HOC (1992) JECFA: ADI: Not specified (1989) Individual: 10 1694 mg/kg/day Trade association guidelines: FEMA PADI: 2 47 mg  Specifications: (FCC, 1996) Appearance White or yellowish white spheroidal  tears Heavy metals (as Pb)Not more than 0 002% IOFI: Natural Arsenic (as As) Not more than 3 mg/kg Identification Ash (acid-insoluble)Not more than 0 5% Ash (total) Not more than 4% Insoluble matter Solubility To 10 mL of a cold 1-in-50 solution of  acacia, add 0 2 mL diluted lead  subacetate TS; a flocculent, or curdy,  white precipitate is formed  immediately Not more than 1% 1 g Dissolves in 2 mL water 2  Reported uses (ppm): (FEMA, 1994) Food Category Alcoholic beverages Baked goods Breakfast cereals Chewing gum Condiments, relishes Confection, frosting Fats, oils Frozen dairy Fruit juice Fruit ices Gelatins, puddings Hard candy Aroma threshold values: n/a Usual 0 59 0 78 0 07 27 83 0 09 12 72 4 34 0 24 0 36 5 00 0 61 276 50 Max  1 53 3 84 0 18 28 04 0 11 14 86 12 61 0 32 0 56 9 99 5 28 284 70 Food Category Imitation dairy Instant coffee, tea Meat products Milk products Nonalcoholic beverages Nut products Other grains Snack foods Soft candy Soups Sugar substitutes Max  12 50 0 80 3 37 0 04 0 66 7 28 10 00 28 57 452 10 0 04 10 00 Usual 9 56 0 13 0 99 0 04 0 36 6 38 10 00 5 72 269 20 0 04 10 00 Taste threshold values: Absolute; taste characteristics at 15 ppm: spicy sweet, fruity and honey with a woody, herbal nuance '}"
      ]
     },
     "execution_count": 35,
     "metadata": {},
     "output_type": "execute_result"
    }
   ],
   "source": [
    "aromas[0]"
   ]
  },
  {
   "cell_type": "markdown",
   "id": "5592ee9c-adf9-4397-bfdf-3f17f2233ade",
   "metadata": {},
   "source": [
    "## Write it to the database"
   ]
  },
  {
   "cell_type": "markdown",
   "id": "8777a9ce-833c-4f97-9d1e-63cc7131ee41",
   "metadata": {},
   "source": [
    "We'll write the extracted data to the `fenaroli` table of the SQLite database, `aromas-flavors.db`."
   ]
  },
  {
   "cell_type": "code",
   "execution_count": 36,
   "id": "31919f48-bc56-4e8f-9132-d052f986d13f",
   "metadata": {},
   "outputs": [],
   "source": [
    "import dataset"
   ]
  },
  {
   "cell_type": "code",
   "execution_count": 37,
   "id": "45d438f4-1424-41e2-8b0e-6c1214900273",
   "metadata": {},
   "outputs": [],
   "source": [
    "db = dataset.connect(\"sqlite:///aromas-flavors.db\")"
   ]
  },
  {
   "cell_type": "code",
   "execution_count": 38,
   "id": "638bdb9f-27e4-42d5-aa33-5e178f15d005",
   "metadata": {},
   "outputs": [],
   "source": [
    "db[\"fenaroli\"].insert_many(aromas)"
   ]
  },
  {
   "cell_type": "markdown",
   "id": "a1a1cd28-84bb-43ae-911d-bf14e240f325",
   "metadata": {},
   "source": [
    "Great -- all done. The entries from *Fenaroli's Handbook* have been extracted and written to `aromas-flavors.db`. They're searchable by chemical name and CAS number."
   ]
  }
 ],
 "metadata": {
  "kernelspec": {
   "display_name": "pdf-tools",
   "language": "python",
   "name": "pdf-tools"
  },
  "language_info": {
   "codemirror_mode": {
    "name": "ipython",
    "version": 3
   },
   "file_extension": ".py",
   "mimetype": "text/x-python",
   "name": "python",
   "nbconvert_exporter": "python",
   "pygments_lexer": "ipython3",
   "version": "3.10.9"
  }
 },
 "nbformat": 4,
 "nbformat_minor": 5
}
