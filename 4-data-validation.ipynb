{
 "cells": [
  {
   "cell_type": "markdown",
   "id": "05a3a7e8-9c80-4325-a071-acc599fe52ea",
   "metadata": {},
   "source": [
    "# 4. Data validation & additional data collection from PubChem"
   ]
  },
  {
   "cell_type": "markdown",
   "id": "5fe5b114-72f7-45a6-ad91-a36e9deb88ab",
   "metadata": {},
   "source": [
    "## Purpose, contents, & conclusions"
   ]
  },
  {
   "cell_type": "markdown",
   "id": "986e13a6-7da4-47b7-9274-45af02c60e0f",
   "metadata": {},
   "source": [
    "**Purpose:** Prior notebooks extracted chemical information from a few different sources, ultimately parsing & writing it to `aromas-flavors.db` and `aromas-flavors-categorized.csv`. However, little has been done to verify the quality of the data aside from dropping rows completely missing key fields. Because chemical names will be used to generate chemical structures, it is important to verify them before use.\n",
    "\n",
    "In this notebook, data is read from `aromas-flavors-categorized.csv` (where each row = one molecule, with name, CAS number, and flavor and aroma descriptors). Using the PubChem API, chemical names are verified & converted to common names where appropriate. If a chemical's name cannot be found, it is retrieved by CAS number instead. As an added bonus, additional structural information is also retrieved from PubChem at the same time."
   ]
  },
  {
   "cell_type": "markdown",
   "id": "02ecdc0d-98ca-4aa5-af78-c4db415e3d13",
   "metadata": {},
   "source": [
    "**Contents:** The notebook contains:\n",
    "* Functions to manage the data validation & extension through the PubChem API, including:\n",
    "    * `manage_query()`: accepts a dict describing one molecule & manages lookup in the API\n",
    "    * `get_pubchem_id()`: queries PubChem for a unique (but meaningless) ID number by name or, as a fallback, CAS number\n",
    "    * `get_pubchem_data()`: queries PubChem for structural data using a molecule's PubChem ID number\n",
    "    * `clean_name()`: applied only when a name match cannot be found, it aggressively simplifies the name"
   ]
  },
  {
   "cell_type": "markdown",
   "id": "98f2631e-828a-441d-8308-dc34362deef4",
   "metadata": {},
   "source": [
    "**Conclusions:** Key outputs are:\n",
    "* `aromas-flavors-validated.csv`: A *tab*-separated file in which each row represents one molecule. Fields are the molecule's `common_name`, its chemical structure as both a `SMILES_code` and an `InChI_code`, and descriptions of its `aroma` and `flavor`."
   ]
  },
  {
   "cell_type": "markdown",
   "id": "c26bd7f9-969b-468d-bd19-d3078e46be1f",
   "metadata": {},
   "source": [
    "## Import the required libraries"
   ]
  },
  {
   "cell_type": "code",
   "execution_count": 1,
   "id": "57573e19-77fc-4933-a21f-45525d3be261",
   "metadata": {},
   "outputs": [],
   "source": [
    "import csv\n",
    "import requests"
   ]
  },
  {
   "cell_type": "markdown",
   "id": "e615b10b-a116-4b60-bdca-6e60c5f7a8c7",
   "metadata": {},
   "source": [
    "## Read the CSV data"
   ]
  },
  {
   "cell_type": "code",
   "execution_count": 2,
   "id": "363df3cf-c28e-4f26-8b95-58af6c057323",
   "metadata": {},
   "outputs": [],
   "source": [
    "aromas_flavors = []\n",
    "with open(\"processed-data/aromas-flavors-categorized.csv\", \"r\") as file:\n",
    "    reader = csv.DictReader(file, delimiter = \"\\t\")\n",
    "    for entry in reader:\n",
    "        aromas_flavors.append(entry)"
   ]
  },
  {
   "cell_type": "code",
   "execution_count": 3,
   "id": "122fbb06-a3d2-418a-87ca-a09903c5d239",
   "metadata": {
    "tags": []
   },
   "outputs": [
    {
     "data": {
      "text/plain": [
       "{'name': '(+)-Menthofuran',\n",
       " 'CAS_num': '17957-94-7',\n",
       " 'aroma': 'fruity floral fatty fruity|citrusy',\n",
       " 'flavor': ''}"
      ]
     },
     "execution_count": 3,
     "metadata": {},
     "output_type": "execute_result"
    }
   ],
   "source": [
    "aromas_flavors[0]"
   ]
  },
  {
   "cell_type": "markdown",
   "id": "291772cf-c83f-4fba-905c-3e7adef165b2",
   "metadata": {
    "tags": []
   },
   "source": [
    "## Build the validation functions"
   ]
  },
  {
   "cell_type": "markdown",
   "id": "7f928c28-07fb-40b0-b16d-095d3e8e9355",
   "metadata": {},
   "source": [
    "PubChem has a [convenient API](https://pubchem.ncbi.nlm.nih.gov/docs/pug-rest) for retrieving chemical data. From a brief exploration of its documentation, it seems like the most convenient way to retrieve data from a (potentially) nonstandard chemical name will be to first fuzzy-match the nae to a unique (but chemically meaningless) PubChem ID number. The ID number can then be used to look up additional information."
   ]
  },
  {
   "cell_type": "code",
   "execution_count": 4,
   "id": "e2d2ac55-5e1a-4c81-9c23-443703421076",
   "metadata": {},
   "outputs": [],
   "source": [
    "from time import sleep"
   ]
  },
  {
   "cell_type": "code",
   "execution_count": 5,
   "id": "ba0ed11d-7173-49c0-84cc-1166a34ca7f2",
   "metadata": {},
   "outputs": [],
   "source": [
    "def get_pubchem_id(name: str) -> str:\n",
    "    \"\"\"\n",
    "    Called:\n",
    "        By the `validate` function.\n",
    "    Purpose:\n",
    "        Search by a molecule's name for its unique PubChem ID number. Find\n",
    "        the closest match (which is the first listed in the search results),\n",
    "        if one exists.\n",
    "    Accepts:\n",
    "        name: the molecule's name as a string\n",
    "    Returns:\n",
    "        the molecule's unique PubChem ID number, which has no inherent\n",
    "        chemical meaning whatsoever, if one can be found (otherwise None)\n",
    "    \"\"\"\n",
    "    \n",
    "    query_url = \"https://pubchem.ncbi.nlm.nih.gov/rest/pug/compound/name/{}/cids/txt?name_type=word\"\n",
    "    \n",
    "    # If a timeout error is received, wait 30s, then try again.\n",
    "    try:\n",
    "        reply = requests.get(query_url.format(name), timeout = 30)\n",
    "    except ConnectTimeout:\n",
    "        sleep(30)\n",
    "        reply = requests.get(query_url.format(name), timeout = 30)\n",
    "    \n",
    "    if reply.status_code == 200:\n",
    "        return reply.text.split(\"\\n\")[0]\n",
    "    \n",
    "    # on a failed search, try again using a cleaned name\n",
    "    else:\n",
    "        reply = requests.get(query_url.format(clean_name(name)), timeout = 30)\n",
    "        if reply.status_code == 200:\n",
    "            return reply.text.split(\"\\n\")[0]\n",
    "        else:\n",
    "            return None"
   ]
  },
  {
   "cell_type": "markdown",
   "id": "b801d727-119a-42dd-971e-ef2a33884f07",
   "metadata": {},
   "source": [
    "We'll also want the option to *aggressively* cleaning the chemical's name if & only if a match cannot be found on the unmodified name. Note that this may result in a lower fidelity to the original chemical information (for example, an enantiopure compound being reported as a racemate)."
   ]
  },
  {
   "cell_type": "code",
   "execution_count": 6,
   "id": "6d77002e-aebc-4789-a169-e65478058677",
   "metadata": {
    "tags": []
   },
   "outputs": [],
   "source": [
    "import re\n",
    "\n",
    "def clean_name(dirty_name: str) -> str:\n",
    "    \"\"\"\n",
    "    Called:\n",
    "        By validate function.\n",
    "    Purpose:\n",
    "        Some molecule names contain strings not interpretable by the CACTUS\n",
    "        API, such as \"(+/-)\" to indicate racemates. In their current form,\n",
    "        a CAS number or structure cannot be found.\n",
    "        This function aggressively removes such strings in an attempt to\n",
    "        allow the API lookup, with the cost of decreased fidelity to the \n",
    "        structural information present in the original name.\n",
    "    Accepts:\n",
    "        dirty_name: a string that contains a molecule's name, currently\n",
    "            uninterpretable by the CACTUS API.\n",
    "    Returns:\n",
    "        an aggressively cleaned name.\n",
    "    \"\"\"\n",
    "    clean_name = dirty_name.lower()\n",
    "    clean_name = re.sub(r\"(cis)?(trans)?\", \"\", clean_name)           # remove cis/trans isomerism\n",
    "    clean_name = re.sub(r\"\\((\\+)?(\\/)?([\\-\\–])?\\)\", \"\", clean_name)  # remove optical rotations\n",
    "    clean_name = re.sub(r\"\\sand\\s\", \"\", clean_name)                  # remove \" and \"\n",
    "    clean_name = re.sub(r\"\\([\\w\\-\\s\\,]*\\)\", \"\", clean_name)          # remove all parentheticals.\n",
    "    clean_name = re.sub(r\"\\[[\\w\\-\\s\\,]*\\]\", \"\", clean_name)          # remove everything in square brackets\n",
    "    clean_name = re.sub(r\"(\\-)\\1\", \"-\", clean_name)                  # remove duplicative hyphens\n",
    "    clean_name = re.sub(r\"(?<=[0-9]).(?=[0-9])\", \",\", clean_name)    # separate numbers by commas, not hyphens\n",
    "    clean_name = clean_name.strip(\"-\")                               # remove leading/trailing hyphens\n",
    "    clean_name = clean_name.strip()                                  # remove leading/trailing spaces\n",
    "    \n",
    "    return clean_name    "
   ]
  },
  {
   "cell_type": "code",
   "execution_count": 7,
   "id": "67472a4f-db02-44bb-91b7-da2bac74dd4a",
   "metadata": {
    "tags": []
   },
   "outputs": [],
   "source": [
    "import json\n",
    "\n",
    "def get_pubchem_data(pubchem_id: str) -> dict:\n",
    "    \"\"\"\n",
    "    Called:\n",
    "        By the `validate` function.\n",
    "    Purpose:\n",
    "        Find a key molecular data given the molecule's unique PubChem ID.\n",
    "    Accepts:\n",
    "        pubchem_id: the molecule's unique PubChem ID number\n",
    "    Returns:\n",
    "        a dict of chemical information about the molecule, with keys:\n",
    "            \"SMILES_code\": chemical structure encoded as a SMILES string,\n",
    "            \"InChI_code\": chemical structure encoded as an InChI string,\n",
    "            \"molecular_formula\": the molecular formula,\n",
    "            \"molecular_weight_amu\": the molecular weight in units of amu,\n",
    "            \"common_name\": the molecule's common name.\n",
    "    \"\"\"\n",
    "    \n",
    "    query_url = \"https://pubchem.ncbi.nlm.nih.gov/rest/pug/compound/cid/{}/property/CanonicalSMILES,InChI,MolecularFormula,MolecularWeight,Title/json\"\n",
    "    \n",
    "    if pubchem_id:\n",
    "        \n",
    "        # If a timeout error is received, wait 30s, then try again.\n",
    "        try:\n",
    "            reply = requests.get(query_url.format(pubchem_id), timeout = 30)\n",
    "        except ConnectTimeout:\n",
    "            sleep(30)\n",
    "            reply = requests.get(query_url.format(pubchem_id), timeout = 30)\n",
    "    \n",
    "        if reply.status_code == 200 and reply.json():\n",
    "            return reply.json()[\"PropertyTable\"][\"Properties\"][0]\n",
    "    else:\n",
    "        return None"
   ]
  },
  {
   "cell_type": "markdown",
   "id": "3049ae9c-29ec-4ff0-a0bc-fc3b7665b2b5",
   "metadata": {},
   "source": [
    "Finally, a validation function to manage the functions above:"
   ]
  },
  {
   "cell_type": "code",
   "execution_count": 8,
   "id": "d114a82d-4e52-4d14-927e-7b4ad0c93b0a",
   "metadata": {},
   "outputs": [],
   "source": [
    "def manage_query(mol: dict) -> dict:\n",
    "    \"\"\"\n",
    "    Called:\n",
    "        By user.\n",
    "    Purpose:\n",
    "        Uses the PubChem API to retrieve additional chemical information by\n",
    "        looking up a chemical name (or, if missing, a CAS number). Retrieved\n",
    "        information is: chemical structure as both SMILES and InChI codes,\n",
    "        molecular formula, molecular weight, and common name).\n",
    "    Accepts:\n",
    "        mol: a dict describing a single molecule (with keys name, CAS_num,\n",
    "            aroma, and flavor).\n",
    "    Returns:\n",
    "        a dict with validated and expanded chemical information, with the keys:\n",
    "            \"SMILES_code\": chemical structure encoded as a SMILES string,\n",
    "            \"InChI_code\": chemical structure encoded as an InChI string,\n",
    "            \"molecular_formula\": the molecular formula,\n",
    "            \"molecular_weight_amu\": the molecular weight in units of amu,\n",
    "            \"common_name\": the molecule's common name.\n",
    "            \"aroma\": preserved smell data from the input dict.\n",
    "            \"flavor\": preserved flavor data from the input dict.\n",
    "        Note that neither the input name nor the input CAS number are preserved.\n",
    "    \"\"\"\n",
    "    \n",
    "    # Try to look up the PubChem ID number, first by the molecule's name, \n",
    "    # falling back to CAS number as a backup.\n",
    "    # Missing values are present as an empty string, meaning we cannot simply\n",
    "    # check for their existence as indicative of having a useful value. Check\n",
    "    # by length instead.\n",
    "    pubchem_id = None\n",
    "    if len(mol[\"name\"]) > 0:\n",
    "        pubchem_id = get_pubchem_id(mol[\"name\"])\n",
    "                \n",
    "    elif len(mol[\"CAS_num\"]) > 5:\n",
    "        pubchem_id = get_pubchem_id(mol[\"CAS_num\"])\n",
    "\n",
    "    # If a PubChem ID was found, retrieve additional data. Otherwise, return None.\n",
    "    if pubchem_id:\n",
    "        mol_output = get_pubchem_data(pubchem_id)\n",
    "        mol_output[\"flavor\"] = mol[\"flavor\"]\n",
    "        mol_output[\"aroma\"] = mol[\"aroma\"]\n",
    "        # Rename keys to something more meaningful to me:\n",
    "        mol_output[\"SMILES_code\"] = mol_output.pop(\"CanonicalSMILES\", None)\n",
    "        mol_output[\"InChI_code\"] = mol_output.pop(\"InChI\", None)\n",
    "        mol_output[\"molecular_formula\"] = mol_output.pop(\"MolecularFormula\", None)\n",
    "        mol_output[\"molecular_weight_amu\"] = mol_output.pop(\"MolecularWeight\", None)\n",
    "        mol_output[\"common_name\"] = mol_output.pop(\"Title\", None)\n",
    "        mol_output.pop(\"CID\", None)\n",
    "    else:\n",
    "        mol_output = dict(name = mol[\"name\"],\n",
    "                          status = \"Not found in PubChem\")\n",
    "\n",
    "    return mol_output     "
   ]
  },
  {
   "cell_type": "markdown",
   "id": "c028026f-07b7-4d20-be21-aab07e18e173",
   "metadata": {},
   "source": [
    "## Test the validation functions"
   ]
  },
  {
   "cell_type": "markdown",
   "id": "d354650b-b8d4-4cd1-954f-c707ddf9b1dc",
   "metadata": {},
   "source": [
    "With the validation functions in place, let's double-check that they are working as intended by testing them on just one of the molecules in the dataset."
   ]
  },
  {
   "cell_type": "markdown",
   "id": "1e4f4fbc-15c4-4059-92f4-f25afd1f3edd",
   "metadata": {},
   "source": [
    "But first, a hacky workaround (below). I've found that `requests` is taking an exhorbitantly long time because IPv6 is broken somewhere along the line. This workaround makes urllib default to IPv4, which dramatically sped up requests. Thanks, [Stack Overflow](https://stackoverflow.com/questions/62599036/python-requests-is-slow-and-takes-very-long-to-complete-http-or-https-request)."
   ]
  },
  {
   "cell_type": "code",
   "execution_count": 9,
   "id": "7aaf4aae-67a0-44cb-98e0-4d330958f35b",
   "metadata": {
    "tags": []
   },
   "outputs": [],
   "source": [
    "import socket\n",
    "import requests.packages.urllib3.util.connection as urllib3_cn\n",
    " \n",
    "def allowed_gai_family():\n",
    "    return socket.AF_INET\n",
    " \n",
    "urllib3_cn.allowed_gai_family = allowed_gai_family"
   ]
  },
  {
   "cell_type": "markdown",
   "id": "7abbd956-26c1-4946-b056-115617405028",
   "metadata": {},
   "source": [
    "Now we're ready to actually try the lookup functions:"
   ]
  },
  {
   "cell_type": "code",
   "execution_count": 10,
   "id": "d04b24c2-3e2a-481a-8bad-034fc5ac404e",
   "metadata": {
    "tags": []
   },
   "outputs": [
    {
     "data": {
      "text/plain": [
       "{'flavor': '',\n",
       " 'aroma': 'fruity floral fatty fruity|citrusy',\n",
       " 'SMILES_code': 'CC1CCC2=C(C1)OC=C2C',\n",
       " 'InChI_code': 'InChI=1S/C10H14O/c1-7-3-4-9-8(2)6-11-10(9)5-7/h6-7H,3-5H2,1-2H3/t7-/m1/s1',\n",
       " 'molecular_formula': 'C10H14O',\n",
       " 'molecular_weight_amu': '150.22',\n",
       " 'common_name': '(+)-Menthofuran'}"
      ]
     },
     "execution_count": 10,
     "metadata": {},
     "output_type": "execute_result"
    }
   ],
   "source": [
    "manage_query(aromas_flavors[0])"
   ]
  },
  {
   "cell_type": "markdown",
   "id": "98bd24e8-14dd-4079-9ced-c5634512b93b",
   "metadata": {},
   "source": [
    "Great! This is working as expected."
   ]
  },
  {
   "cell_type": "markdown",
   "id": "d42246f2-56d0-4aef-9d2d-0e5676058c1e",
   "metadata": {},
   "source": [
    "## Apply the validation functions to the full data set"
   ]
  },
  {
   "cell_type": "markdown",
   "id": "7909c9d2-f47e-4b0e-80e2-626b9e706a3c",
   "metadata": {},
   "source": [
    "Now that the validation functions are ready to go, it's time to turn them loose on the full data set. We'll use a progress bar from `tqdm` to give greater transparency about how it is going."
   ]
  },
  {
   "cell_type": "code",
   "execution_count": 11,
   "id": "ee96b7be-63d6-4dd5-8cc0-8955e59911b5",
   "metadata": {},
   "outputs": [],
   "source": [
    "from tqdm import tqdm"
   ]
  },
  {
   "cell_type": "code",
   "execution_count": 12,
   "id": "63a1a466-93f7-4335-bc69-fdb3a104daee",
   "metadata": {
    "tags": []
   },
   "outputs": [
    {
     "name": "stderr",
     "output_type": "stream",
     "text": [
      "100%|██████████| 2457/2457 [46:16<00:00,  1.13s/it] \n"
     ]
    }
   ],
   "source": [
    "aromas_flavors_validated = [manage_query(entry) for entry in tqdm(aromas_flavors)]"
   ]
  },
  {
   "cell_type": "markdown",
   "id": "778423af-b1d2-4a60-81fa-e0df104d7503",
   "metadata": {},
   "source": [
    "All done. How does everything look?"
   ]
  },
  {
   "cell_type": "code",
   "execution_count": null,
   "id": "8114f5b9-4d76-4197-8ec7-fa0bf47f4414",
   "metadata": {},
   "outputs": [
    {
     "data": {
      "text/plain": [
       "[{'flavor': '',\n",
       "  'aroma': 'fruity floral fatty fruity|citrusy',\n",
       "  'SMILES_code': 'CC1CCC2=C(C1)OC=C2C',\n",
       "  'InChI_code': 'InChI=1S/C10H14O/c1-7-3-4-9-8(2)6-11-10(9)5-7/h6-7H,3-5H2,1-2H3/t7-/m1/s1',\n",
       "  'molecular_formula': 'C10H14O',\n",
       "  'molecular_weight_amu': '150.22',\n",
       "  'common_name': '(+)-Menthofuran'},\n",
       " {'flavor': 'vegetal fruity sharp|chemical liquorlike',\n",
       "  'aroma': 'fatty dairy',\n",
       "  'SMILES_code': 'CCCCC(C=C)O',\n",
       "  'InChI_code': 'InChI=1S/C7H14O/c1-3-5-6-7(8)4-2/h4,7-8H,2-3,5-6H2,1H3',\n",
       "  'molecular_formula': 'C7H14O',\n",
       "  'molecular_weight_amu': '114.19',\n",
       "  'common_name': '1-Hepten-3-OL'},\n",
       " {'flavor': 'fruity|berry fruity|citrusy',\n",
       "  'aroma': 'fruity fruity|citrusy',\n",
       "  'SMILES_code': 'CC(CCC=C(C)C)CC(C)(C)O',\n",
       "  'InChI_code': 'InChI=1S/C12H24O/c1-10(2)7-6-8-11(3)9-12(4,5)13/h7,11,13H,6,8-9H2,1-5H3',\n",
       "  'molecular_formula': 'C12H24O',\n",
       "  'molecular_weight_amu': '184.32',\n",
       "  'common_name': '2,4,8-Trimethyl-7-nonen-2-OL'},\n",
       " {'flavor': 'vegetal fruity sharp|sulfurous fruity|citrusy',\n",
       "  'aroma': 'earthy fruity|citrusy',\n",
       "  'SMILES_code': 'CC1CCC2CC1SC2(C)C',\n",
       "  'InChI_code': 'InChI=1S/C10H18S/c1-7-4-5-8-6-9(7)11-10(8,2)3/h7-9H,4-6H2,1-3H3',\n",
       "  'molecular_formula': 'C10H18S',\n",
       "  'molecular_weight_amu': '170.32',\n",
       "  'common_name': '4,7,7-Trimethyl-6-thiabicyclo[3.2.1]octane'},\n",
       " {'flavor': 'fruity',\n",
       "  'aroma': 'vegetal fruity|berry vegetal|herbal',\n",
       "  'SMILES_code': 'CC1=C(C(=O)C(CC1)C(C)C)O',\n",
       "  'InChI_code': 'InChI=1S/C10H16O2/c1-6(2)8-5-4-7(3)9(11)10(8)12/h6,8,11H,4-5H2,1-3H3',\n",
       "  'molecular_formula': 'C10H16O2',\n",
       "  'molecular_weight_amu': '168.23',\n",
       "  'common_name': 'Diosphenol'}]"
      ]
     },
     "execution_count": 13,
     "metadata": {},
     "output_type": "execute_result"
    }
   ],
   "source": [
    "aromas_flavors_validated[:5]"
   ]
  },
  {
   "cell_type": "markdown",
   "id": "afae7bb0-79d6-4631-8a7b-0d6df50491dc",
   "metadata": {},
   "source": [
    "Perfect. The data validation / additional lookup functions have standardized some of these names & provided additional chemical data."
   ]
  },
  {
   "cell_type": "markdown",
   "id": "3eeeff58-306a-4860-bfaf-390988858a0b",
   "metadata": {},
   "source": [
    "## Save the expanded data set"
   ]
  },
  {
   "cell_type": "markdown",
   "id": "07d36f50-b2c3-42dd-957a-fafea690777e",
   "metadata": {},
   "source": [
    "The expanded data set will be exported to a new CSV for ease of sharing online. Before that, let's pull out only the entries that actually have chemical data. Recall from `manage_query()` that if a molecule from our input data set could not be found in the PubChem database, the resulting dict will contain the `status = \"Not found in PubChem` key/value pair. This will be a convenient way to remove the un-matched molecules:"
   ]
  },
  {
   "cell_type": "code",
   "execution_count": 14,
   "id": "12e7d72a-8ac7-4623-9fe4-84aa5d58bd4d",
   "metadata": {},
   "outputs": [
    {
     "name": "stdout",
     "output_type": "stream",
     "text": [
      "Found PubChem data for this many molecules:  1886\n"
     ]
    }
   ],
   "source": [
    "complete_mols = [mol for mol in aromas_flavors_validated if \"status\" not in mol.keys()]\n",
    "print(\"Found PubChem data for this many molecules: \", len(complete_mols))"
   ]
  },
  {
   "cell_type": "markdown",
   "id": "3741e8a4-6ee3-477f-a76e-24bea79fa533",
   "metadata": {},
   "source": [
    "That's not too bad. The input data set had about 2400 entries, many of which were not even discrete chemicals (like \"fennel\" or \"myrtle leaves\"). It's reasonable that a fair number of entries were dropped here."
   ]
  },
  {
   "cell_type": "markdown",
   "id": "e9831571-1d84-4e34-947e-81f6ea87273e",
   "metadata": {},
   "source": [
    "Write the CSV to wrap up:"
   ]
  },
  {
   "cell_type": "code",
   "execution_count": 16,
   "id": "9084efae-ee9b-4757-886e-d460b1f7b972",
   "metadata": {},
   "outputs": [],
   "source": [
    "with open(\"processed-data/aromas-flavors-validated.csv\", \"w\") as file:\n",
    "    filewriter = csv.DictWriter(file,\n",
    "                                delimiter = \"\\t\",\n",
    "                                fieldnames = [\"common_name\", \"SMILES_code\", \"InChI_code\", \"aroma\", \"flavor\"],\n",
    "                                extrasaction = \"ignore\")\n",
    "    filewriter.writeheader()\n",
    "    for molecule in aromas_flavors_validated:\n",
    "        filewriter.writerow(molecule)"
   ]
  }
 ],
 "metadata": {
  "kernelspec": {
   "display_name": "nlp",
   "language": "python",
   "name": "nlp"
  },
  "language_info": {
   "codemirror_mode": {
    "name": "ipython",
    "version": 3
   },
   "file_extension": ".py",
   "mimetype": "text/x-python",
   "name": "python",
   "nbconvert_exporter": "python",
   "pygments_lexer": "ipython3",
   "version": "3.10.2"
  }
 },
 "nbformat": 4,
 "nbformat_minor": 5
}
