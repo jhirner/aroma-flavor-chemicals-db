{
 "cells": [
  {
   "cell_type": "code",
   "execution_count": 1,
   "id": "6703ac70-c258-4dc3-955a-7f0efe74f747",
   "metadata": {},
   "outputs": [],
   "source": [
    "import csv"
   ]
  },
  {
   "cell_type": "code",
   "execution_count": 2,
   "id": "0b57893d-8e59-4a59-9f30-ce1f47543d68",
   "metadata": {},
   "outputs": [],
   "source": [
    "csvdata = []\n",
    "with open(\"aromas-flavors-categorized.csv\") as file:\n",
    "    reader = csv.DictReader(file, delimiter = \"\\t\")\n",
    "    for row in reader:\n",
    "        csvdata.append(row)"
   ]
  },
  {
   "cell_type": "code",
   "execution_count": 3,
   "id": "0cc70821-ee98-4f46-8fc8-57ac19276175",
   "metadata": {},
   "outputs": [
    {
     "data": {
      "text/plain": [
       "[{'name': '(+)-Menthofuran',\n",
       "  'CAS_num': '17957-94-7',\n",
       "  'aroma': 'fruity floral fatty fruity|citrusy',\n",
       "  'flavor': ''},\n",
       " {'name': '(+/-)-1-Hepten-3-Ol',\n",
       "  'CAS_num': '4938-52-7',\n",
       "  'aroma': 'fatty dairy',\n",
       "  'flavor': 'vegetal fruity sharp|chemical liquorlike'},\n",
       " {'name': '(+/-)-2,4,8-Trimethyl-7-Nonen-2-Ol',\n",
       "  'CAS_num': '437770-28-0',\n",
       "  'aroma': 'fruity fruity|citrusy',\n",
       "  'flavor': 'fruity|berry fruity|citrusy'},\n",
       " {'name': '(+/-)-2,8-Epithio-Cis-P-Menthane',\n",
       "  'CAS_num': '68398-18-5',\n",
       "  'aroma': 'earthy fruity|citrusy',\n",
       "  'flavor': 'vegetal fruity sharp|sulfurous fruity|citrusy'},\n",
       " {'name': '(+/-)-2-Hydroxypiperitone',\n",
       "  'CAS_num': '490-03-9',\n",
       "  'aroma': 'vegetal fruity|berry vegetal|herbal',\n",
       "  'flavor': 'fruity'}]"
      ]
     },
     "execution_count": 3,
     "metadata": {},
     "output_type": "execute_result"
    }
   ],
   "source": [
    "csvdata[:5]"
   ]
  },
  {
   "cell_type": "code",
   "execution_count": null,
   "id": "469cd7a2-42c9-43f1-9994-c6f5b28d133d",
   "metadata": {},
   "outputs": [],
   "source": [
    "for entry in csvdata:\n",
    "    cas = entry[\"CAS_num\"]\n",
    "    "
   ]
  }
 ],
 "metadata": {
  "kernelspec": {
   "display_name": "nlp",
   "language": "python",
   "name": "nlp"
  },
  "language_info": {
   "codemirror_mode": {
    "name": "ipython",
    "version": 3
   },
   "file_extension": ".py",
   "mimetype": "text/x-python",
   "name": "python",
   "nbconvert_exporter": "python",
   "pygments_lexer": "ipython3",
   "version": "3.10.2"
  }
 },
 "nbformat": 4,
 "nbformat_minor": 5
}
